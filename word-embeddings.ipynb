{
 "cells": [
  {
   "cell_type": "markdown",
   "id": "615d9d7f",
   "metadata": {
    "papermill": {
     "duration": 0.006614,
     "end_time": "2023-12-24T17:16:46.893622",
     "exception": false,
     "start_time": "2023-12-24T17:16:46.887008",
     "status": "completed"
    },
    "tags": []
   },
   "source": [
    "# Importing dependencies"
   ]
  },
  {
   "cell_type": "code",
   "execution_count": 1,
   "id": "5f880f87",
   "metadata": {
    "execution": {
     "iopub.execute_input": "2023-12-24T17:16:46.909258Z",
     "iopub.status.busy": "2023-12-24T17:16:46.908445Z",
     "iopub.status.idle": "2023-12-24T17:17:01.069388Z",
     "shell.execute_reply": "2023-12-24T17:17:01.068295Z"
    },
    "papermill": {
     "duration": 14.172303,
     "end_time": "2023-12-24T17:17:01.072616",
     "exception": false,
     "start_time": "2023-12-24T17:16:46.900313",
     "status": "completed"
    },
    "tags": []
   },
   "outputs": [],
   "source": [
    "from keras.preprocessing.text import one_hot"
   ]
  },
  {
   "cell_type": "markdown",
   "id": "86cfae96",
   "metadata": {
    "papermill": {
     "duration": 0.006187,
     "end_time": "2023-12-24T17:17:01.085292",
     "exception": false,
     "start_time": "2023-12-24T17:17:01.079105",
     "status": "completed"
    },
    "tags": []
   },
   "source": [
    "Sentences"
   ]
  },
  {
   "cell_type": "code",
   "execution_count": 2,
   "id": "bca0d8c5",
   "metadata": {
    "execution": {
     "iopub.execute_input": "2023-12-24T17:17:01.099914Z",
     "iopub.status.busy": "2023-12-24T17:17:01.099226Z",
     "iopub.status.idle": "2023-12-24T17:17:01.104518Z",
     "shell.execute_reply": "2023-12-24T17:17:01.103442Z"
    },
    "papermill": {
     "duration": 0.015224,
     "end_time": "2023-12-24T17:17:01.106782",
     "exception": false,
     "start_time": "2023-12-24T17:17:01.091558",
     "status": "completed"
    },
    "tags": []
   },
   "outputs": [],
   "source": [
    "sentence=['I am eating bread',\n",
    "         'The glass of milk',\n",
    "         'I am eating banana',\n",
    "         'The cup of tea',\n",
    "         'She is sleeping',\n",
    "         'Who is outside',\n",
    "         'Good work']"
   ]
  },
  {
   "cell_type": "code",
   "execution_count": 3,
   "id": "09885dc8",
   "metadata": {
    "execution": {
     "iopub.execute_input": "2023-12-24T17:17:01.121572Z",
     "iopub.status.busy": "2023-12-24T17:17:01.120845Z",
     "iopub.status.idle": "2023-12-24T17:17:01.129190Z",
     "shell.execute_reply": "2023-12-24T17:17:01.128200Z"
    },
    "papermill": {
     "duration": 0.018587,
     "end_time": "2023-12-24T17:17:01.131826",
     "exception": false,
     "start_time": "2023-12-24T17:17:01.113239",
     "status": "completed"
    },
    "tags": []
   },
   "outputs": [
    {
     "data": {
      "text/plain": [
       "['I am eating bread',\n",
       " 'The glass of milk',\n",
       " 'I am eating banana',\n",
       " 'The cup of tea',\n",
       " 'She is sleeping',\n",
       " 'Who is outside',\n",
       " 'Good work']"
      ]
     },
     "execution_count": 3,
     "metadata": {},
     "output_type": "execute_result"
    }
   ],
   "source": [
    "sentence "
   ]
  },
  {
   "cell_type": "code",
   "execution_count": 4,
   "id": "1a8975a2",
   "metadata": {
    "execution": {
     "iopub.execute_input": "2023-12-24T17:17:01.146852Z",
     "iopub.status.busy": "2023-12-24T17:17:01.146354Z",
     "iopub.status.idle": "2023-12-24T17:17:01.151692Z",
     "shell.execute_reply": "2023-12-24T17:17:01.150531Z"
    },
    "papermill": {
     "duration": 0.015695,
     "end_time": "2023-12-24T17:17:01.154207",
     "exception": false,
     "start_time": "2023-12-24T17:17:01.138512",
     "status": "completed"
    },
    "tags": []
   },
   "outputs": [],
   "source": [
    "vocab_size=10000"
   ]
  },
  {
   "cell_type": "markdown",
   "id": "9787a314",
   "metadata": {
    "papermill": {
     "duration": 0.006289,
     "end_time": "2023-12-24T17:17:01.168447",
     "exception": false,
     "start_time": "2023-12-24T17:17:01.162158",
     "status": "completed"
    },
    "tags": []
   },
   "source": [
    "One hot encoding"
   ]
  },
  {
   "cell_type": "code",
   "execution_count": 5,
   "id": "b41a8b83",
   "metadata": {
    "execution": {
     "iopub.execute_input": "2023-12-24T17:17:01.183249Z",
     "iopub.status.busy": "2023-12-24T17:17:01.182803Z",
     "iopub.status.idle": "2023-12-24T17:17:01.188000Z",
     "shell.execute_reply": "2023-12-24T17:17:01.186868Z"
    },
    "papermill": {
     "duration": 0.015343,
     "end_time": "2023-12-24T17:17:01.190281",
     "exception": false,
     "start_time": "2023-12-24T17:17:01.174938",
     "status": "completed"
    },
    "tags": []
   },
   "outputs": [],
   "source": [
    "onehot_encoding=[one_hot(words,vocab_size) for words in sentence]"
   ]
  },
  {
   "cell_type": "code",
   "execution_count": 6,
   "id": "f39b6e7a",
   "metadata": {
    "execution": {
     "iopub.execute_input": "2023-12-24T17:17:01.205131Z",
     "iopub.status.busy": "2023-12-24T17:17:01.204747Z",
     "iopub.status.idle": "2023-12-24T17:17:01.210487Z",
     "shell.execute_reply": "2023-12-24T17:17:01.209351Z"
    },
    "papermill": {
     "duration": 0.016225,
     "end_time": "2023-12-24T17:17:01.213061",
     "exception": false,
     "start_time": "2023-12-24T17:17:01.196836",
     "status": "completed"
    },
    "tags": []
   },
   "outputs": [
    {
     "name": "stdout",
     "output_type": "stream",
     "text": [
      "[[8380, 9412, 5181, 8893], [6951, 8938, 6512, 4846], [8380, 9412, 5181, 5240], [6951, 7750, 6512, 4920], [1550, 6185, 5833], [2785, 6185, 4380], [9415, 9988]]\n"
     ]
    }
   ],
   "source": [
    "print(onehot_encoding)"
   ]
  },
  {
   "cell_type": "markdown",
   "id": "6a3f9268",
   "metadata": {
    "papermill": {
     "duration": 0.006492,
     "end_time": "2023-12-24T17:17:01.226453",
     "exception": false,
     "start_time": "2023-12-24T17:17:01.219961",
     "status": "completed"
    },
    "tags": []
   },
   "source": [
    "Word Embedding "
   ]
  },
  {
   "cell_type": "code",
   "execution_count": 7,
   "id": "b7cf290d",
   "metadata": {
    "execution": {
     "iopub.execute_input": "2023-12-24T17:17:01.241998Z",
     "iopub.status.busy": "2023-12-24T17:17:01.241152Z",
     "iopub.status.idle": "2023-12-24T17:17:01.371892Z",
     "shell.execute_reply": "2023-12-24T17:17:01.370635Z"
    },
    "papermill": {
     "duration": 0.14154,
     "end_time": "2023-12-24T17:17:01.374700",
     "exception": false,
     "start_time": "2023-12-24T17:17:01.233160",
     "status": "completed"
    },
    "tags": []
   },
   "outputs": [],
   "source": [
    "import numpy as np\n",
    "\n",
    "from tensorflow.keras.layers import Embedding\n",
    "from tensorflow.keras.preprocessing.sequence import pad_sequences\n",
    "from tensorflow.keras.models import Sequential"
   ]
  },
  {
   "cell_type": "markdown",
   "id": "d5e9f474",
   "metadata": {
    "papermill": {
     "duration": 0.006305,
     "end_time": "2023-12-24T17:17:01.387928",
     "exception": false,
     "start_time": "2023-12-24T17:17:01.381623",
     "status": "completed"
    },
    "tags": []
   },
   "source": [
    "pad_sequence ensures that wehn we are passing sentences through the embedding layers they have same no. of words "
   ]
  },
  {
   "cell_type": "code",
   "execution_count": 8,
   "id": "96641386",
   "metadata": {
    "execution": {
     "iopub.execute_input": "2023-12-24T17:17:01.403055Z",
     "iopub.status.busy": "2023-12-24T17:17:01.402627Z",
     "iopub.status.idle": "2023-12-24T17:17:01.408824Z",
     "shell.execute_reply": "2023-12-24T17:17:01.407527Z"
    },
    "papermill": {
     "duration": 0.016698,
     "end_time": "2023-12-24T17:17:01.411361",
     "exception": false,
     "start_time": "2023-12-24T17:17:01.394663",
     "status": "completed"
    },
    "tags": []
   },
   "outputs": [],
   "source": [
    "sentence_length=8\n",
    "embedded=pad_sequences(onehot_encoding,padding='pre',maxlen=sentence_length)"
   ]
  },
  {
   "cell_type": "code",
   "execution_count": 9,
   "id": "e82273f7",
   "metadata": {
    "execution": {
     "iopub.execute_input": "2023-12-24T17:17:01.426630Z",
     "iopub.status.busy": "2023-12-24T17:17:01.425882Z",
     "iopub.status.idle": "2023-12-24T17:17:01.433051Z",
     "shell.execute_reply": "2023-12-24T17:17:01.432052Z"
    },
    "papermill": {
     "duration": 0.017615,
     "end_time": "2023-12-24T17:17:01.435675",
     "exception": false,
     "start_time": "2023-12-24T17:17:01.418060",
     "status": "completed"
    },
    "tags": []
   },
   "outputs": [
    {
     "name": "stdout",
     "output_type": "stream",
     "text": [
      "[[   0    0    0    0 8380 9412 5181 8893]\n",
      " [   0    0    0    0 6951 8938 6512 4846]\n",
      " [   0    0    0    0 8380 9412 5181 5240]\n",
      " [   0    0    0    0 6951 7750 6512 4920]\n",
      " [   0    0    0    0    0 1550 6185 5833]\n",
      " [   0    0    0    0    0 2785 6185 4380]\n",
      " [   0    0    0    0    0    0 9415 9988]]\n"
     ]
    }
   ],
   "source": [
    "print(embedded)"
   ]
  },
  {
   "cell_type": "code",
   "execution_count": 10,
   "id": "51ec2634",
   "metadata": {
    "execution": {
     "iopub.execute_input": "2023-12-24T17:17:01.450954Z",
     "iopub.status.busy": "2023-12-24T17:17:01.450530Z",
     "iopub.status.idle": "2023-12-24T17:17:01.455761Z",
     "shell.execute_reply": "2023-12-24T17:17:01.454728Z"
    },
    "papermill": {
     "duration": 0.015656,
     "end_time": "2023-12-24T17:17:01.458065",
     "exception": false,
     "start_time": "2023-12-24T17:17:01.442409",
     "status": "completed"
    },
    "tags": []
   },
   "outputs": [],
   "source": [
    "dimensions=10"
   ]
  },
  {
   "cell_type": "code",
   "execution_count": 11,
   "id": "d88c735f",
   "metadata": {
    "execution": {
     "iopub.execute_input": "2023-12-24T17:17:01.473583Z",
     "iopub.status.busy": "2023-12-24T17:17:01.473160Z",
     "iopub.status.idle": "2023-12-24T17:17:01.648772Z",
     "shell.execute_reply": "2023-12-24T17:17:01.647731Z"
    },
    "papermill": {
     "duration": 0.186527,
     "end_time": "2023-12-24T17:17:01.651512",
     "exception": false,
     "start_time": "2023-12-24T17:17:01.464985",
     "status": "completed"
    },
    "tags": []
   },
   "outputs": [],
   "source": [
    "model=Sequential()\n",
    "model.add(Embedding(vocab_size,dimensions,input_length=sentence_length))\n",
    "\n",
    "model.compile('adam','mse')"
   ]
  },
  {
   "cell_type": "code",
   "execution_count": 12,
   "id": "01d991ac",
   "metadata": {
    "execution": {
     "iopub.execute_input": "2023-12-24T17:17:01.667097Z",
     "iopub.status.busy": "2023-12-24T17:17:01.666357Z",
     "iopub.status.idle": "2023-12-24T17:17:01.684264Z",
     "shell.execute_reply": "2023-12-24T17:17:01.683004Z"
    },
    "papermill": {
     "duration": 0.030986,
     "end_time": "2023-12-24T17:17:01.689353",
     "exception": false,
     "start_time": "2023-12-24T17:17:01.658367",
     "status": "completed"
    },
    "tags": []
   },
   "outputs": [
    {
     "name": "stdout",
     "output_type": "stream",
     "text": [
      "Model: \"sequential\"\n",
      "_________________________________________________________________\n",
      " Layer (type)                Output Shape              Param #   \n",
      "=================================================================\n",
      " embedding (Embedding)       (None, 8, 10)             100000    \n",
      "                                                                 \n",
      "=================================================================\n",
      "Total params: 100000 (390.62 KB)\n",
      "Trainable params: 100000 (390.62 KB)\n",
      "Non-trainable params: 0 (0.00 Byte)\n",
      "_________________________________________________________________\n"
     ]
    }
   ],
   "source": [
    "model.summary()"
   ]
  },
  {
   "cell_type": "code",
   "execution_count": 13,
   "id": "9702c863",
   "metadata": {
    "execution": {
     "iopub.execute_input": "2023-12-24T17:17:01.706289Z",
     "iopub.status.busy": "2023-12-24T17:17:01.705878Z",
     "iopub.status.idle": "2023-12-24T17:17:01.713757Z",
     "shell.execute_reply": "2023-12-24T17:17:01.712596Z"
    },
    "papermill": {
     "duration": 0.0192,
     "end_time": "2023-12-24T17:17:01.716072",
     "exception": false,
     "start_time": "2023-12-24T17:17:01.696872",
     "status": "completed"
    },
    "tags": []
   },
   "outputs": [
    {
     "data": {
      "text/plain": [
       "array([   0,    0,    0,    0, 8380, 9412, 5181, 8893], dtype=int32)"
      ]
     },
     "execution_count": 13,
     "metadata": {},
     "output_type": "execute_result"
    }
   ],
   "source": [
    "embedded[0]"
   ]
  },
  {
   "cell_type": "code",
   "execution_count": 14,
   "id": "eea8a845",
   "metadata": {
    "execution": {
     "iopub.execute_input": "2023-12-24T17:17:01.733875Z",
     "iopub.status.busy": "2023-12-24T17:17:01.733451Z",
     "iopub.status.idle": "2023-12-24T17:17:01.983908Z",
     "shell.execute_reply": "2023-12-24T17:17:01.982112Z"
    },
    "papermill": {
     "duration": 0.262505,
     "end_time": "2023-12-24T17:17:01.986732",
     "exception": false,
     "start_time": "2023-12-24T17:17:01.724227",
     "status": "completed"
    },
    "tags": []
   },
   "outputs": [
    {
     "name": "stdout",
     "output_type": "stream",
     "text": [
      "1/1 [==============================] - 0s 146ms/step\n",
      "[[ 0.01856729 -0.0358567  -0.03792717 -0.02554786 -0.04478831 -0.02907169\n",
      "  -0.03964503 -0.02974268  0.01954002 -0.01573572]\n",
      " [ 0.01856729 -0.0358567  -0.03792717 -0.02554786 -0.04478831 -0.02907169\n",
      "  -0.03964503 -0.02974268  0.01954002 -0.01573572]\n",
      " [ 0.01856729 -0.0358567  -0.03792717 -0.02554786 -0.04478831 -0.02907169\n",
      "  -0.03964503 -0.02974268  0.01954002 -0.01573572]\n",
      " [ 0.01856729 -0.0358567  -0.03792717 -0.02554786 -0.04478831 -0.02907169\n",
      "  -0.03964503 -0.02974268  0.01954002 -0.01573572]\n",
      " [-0.00465389  0.03155381 -0.03448265 -0.01284056  0.01563616 -0.00280331\n",
      "  -0.01572    -0.01673794 -0.00601391  0.04519292]\n",
      " [-0.02851975 -0.0182908  -0.01719656 -0.02958702 -0.01484353  0.02285263\n",
      "   0.02271575  0.03050787  0.02421537  0.03271108]\n",
      " [-0.0095898   0.04087636  0.02198834 -0.04720144  0.03161499  0.03904719\n",
      "   0.01907376 -0.04039074 -0.02571344 -0.01905975]\n",
      " [ 0.02024077 -0.03292862  0.01303374  0.03858781  0.00740809 -0.01355869\n",
      "   0.04637987  0.01168232 -0.03769662 -0.02725911]]\n"
     ]
    }
   ],
   "source": [
    "print(model.predict(embedded)[0])"
   ]
  }
 ],
 "metadata": {
  "kaggle": {
   "accelerator": "none",
   "dataSources": [],
   "dockerImageVersionId": 30626,
   "isGpuEnabled": false,
   "isInternetEnabled": true,
   "language": "python",
   "sourceType": "notebook"
  },
  "kernelspec": {
   "display_name": "Python 3",
   "language": "python",
   "name": "python3"
  },
  "language_info": {
   "codemirror_mode": {
    "name": "ipython",
    "version": 3
   },
   "file_extension": ".py",
   "mimetype": "text/x-python",
   "name": "python",
   "nbconvert_exporter": "python",
   "pygments_lexer": "ipython3",
   "version": "3.10.12"
  },
  "papermill": {
   "default_parameters": {},
   "duration": 20.082544,
   "end_time": "2023-12-24T17:17:03.533479",
   "environment_variables": {},
   "exception": null,
   "input_path": "__notebook__.ipynb",
   "output_path": "__notebook__.ipynb",
   "parameters": {},
   "start_time": "2023-12-24T17:16:43.450935",
   "version": "2.4.0"
  }
 },
 "nbformat": 4,
 "nbformat_minor": 5
}
