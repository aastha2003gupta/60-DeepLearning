{
 "cells": [
  {
   "cell_type": "markdown",
   "id": "814a4b45",
   "metadata": {
    "papermill": {
     "duration": 0.005773,
     "end_time": "2023-12-27T19:06:13.872987",
     "exception": false,
     "start_time": "2023-12-27T19:06:13.867214",
     "status": "completed"
    },
    "tags": []
   },
   "source": [
    "# Importing Dependencies"
   ]
  },
  {
   "cell_type": "code",
   "execution_count": 1,
   "id": "4ba15f6a",
   "metadata": {
    "execution": {
     "iopub.execute_input": "2023-12-27T19:06:13.885008Z",
     "iopub.status.busy": "2023-12-27T19:06:13.884724Z",
     "iopub.status.idle": "2023-12-27T19:06:26.999641Z",
     "shell.execute_reply": "2023-12-27T19:06:26.998856Z"
    },
    "papermill": {
     "duration": 13.12343,
     "end_time": "2023-12-27T19:06:27.001899",
     "exception": false,
     "start_time": "2023-12-27T19:06:13.878469",
     "status": "completed"
    },
    "tags": []
   },
   "outputs": [
    {
     "name": "stderr",
     "output_type": "stream",
     "text": [
      "/opt/conda/lib/python3.10/site-packages/scipy/__init__.py:146: UserWarning: A NumPy version >=1.16.5 and <1.23.0 is required for this version of SciPy (detected version 1.24.3\n",
      "  warnings.warn(f\"A NumPy version >={np_minversion} and <{np_maxversion}\"\n"
     ]
    }
   ],
   "source": [
    "import numpy as np\n",
    "import tensorflow as tf\n",
    "from tensorflow.keras.preprocessing.text import Tokenizer\n",
    "from tensorflow.keras.preprocessing.sequence import pad_sequences\n",
    "from tensorflow.keras.models import Sequential\n",
    "from tensorflow.keras.layers import Embedding, LSTM, Dense"
   ]
  },
  {
   "cell_type": "markdown",
   "id": "7c27221b",
   "metadata": {
    "papermill": {
     "duration": 0.00549,
     "end_time": "2023-12-27T19:06:27.013151",
     "exception": false,
     "start_time": "2023-12-27T19:06:27.007661",
     "status": "completed"
    },
    "tags": []
   },
   "source": [
    "# Loading Data"
   ]
  },
  {
   "cell_type": "code",
   "execution_count": 2,
   "id": "b51e8141",
   "metadata": {
    "execution": {
     "iopub.execute_input": "2023-12-27T19:06:27.025365Z",
     "iopub.status.busy": "2023-12-27T19:06:27.024826Z",
     "iopub.status.idle": "2023-12-27T19:06:27.045501Z",
     "shell.execute_reply": "2023-12-27T19:06:27.044660Z"
    },
    "papermill": {
     "duration": 0.028778,
     "end_time": "2023-12-27T19:06:27.047325",
     "exception": false,
     "start_time": "2023-12-27T19:06:27.018547",
     "status": "completed"
    },
    "tags": []
   },
   "outputs": [],
   "source": [
    "with open('/kaggle/input/text-data/sherlock-holm.es_stories_plain-text_advs.txt', 'r', encoding='utf-8') as file:\n",
    "    text = file.read()"
   ]
  },
  {
   "cell_type": "markdown",
   "id": "82776342",
   "metadata": {
    "papermill": {
     "duration": 0.005136,
     "end_time": "2023-12-27T19:06:27.057890",
     "exception": false,
     "start_time": "2023-12-27T19:06:27.052754",
     "status": "completed"
    },
    "tags": []
   },
   "source": [
    "# Tokenize and Sequencing"
   ]
  },
  {
   "cell_type": "code",
   "execution_count": 3,
   "id": "01da814a",
   "metadata": {
    "execution": {
     "iopub.execute_input": "2023-12-27T19:06:27.069589Z",
     "iopub.status.busy": "2023-12-27T19:06:27.069304Z",
     "iopub.status.idle": "2023-12-27T19:06:27.203699Z",
     "shell.execute_reply": "2023-12-27T19:06:27.202840Z"
    },
    "papermill": {
     "duration": 0.142607,
     "end_time": "2023-12-27T19:06:27.205760",
     "exception": false,
     "start_time": "2023-12-27T19:06:27.063153",
     "status": "completed"
    },
    "tags": []
   },
   "outputs": [],
   "source": [
    "tokenizer = Tokenizer()\n",
    "tokenizer.fit_on_texts([text])\n",
    "num_words = len(tokenizer.word_index) + 1"
   ]
  },
  {
   "cell_type": "code",
   "execution_count": 4,
   "id": "d1b474c6",
   "metadata": {
    "execution": {
     "iopub.execute_input": "2023-12-27T19:06:27.230988Z",
     "iopub.status.busy": "2023-12-27T19:06:27.230665Z",
     "iopub.status.idle": "2023-12-27T19:06:27.237251Z",
     "shell.execute_reply": "2023-12-27T19:06:27.236442Z"
    },
    "papermill": {
     "duration": 0.015987,
     "end_time": "2023-12-27T19:06:27.239099",
     "exception": false,
     "start_time": "2023-12-27T19:06:27.223112",
     "status": "completed"
    },
    "tags": []
   },
   "outputs": [
    {
     "data": {
      "text/plain": [
       "8200"
      ]
     },
     "execution_count": 4,
     "metadata": {},
     "output_type": "execute_result"
    }
   ],
   "source": [
    "num_words"
   ]
  },
  {
   "cell_type": "markdown",
   "id": "ee7ec753",
   "metadata": {
    "papermill": {
     "duration": 0.005352,
     "end_time": "2023-12-27T19:06:27.249948",
     "exception": false,
     "start_time": "2023-12-27T19:06:27.244596",
     "status": "completed"
    },
    "tags": []
   },
   "source": [
    "# Sequencing , forming n-grams"
   ]
  },
  {
   "cell_type": "code",
   "execution_count": 5,
   "id": "a71edf99",
   "metadata": {
    "execution": {
     "iopub.execute_input": "2023-12-27T19:06:27.261825Z",
     "iopub.status.busy": "2023-12-27T19:06:27.261580Z",
     "iopub.status.idle": "2023-12-27T19:06:27.698533Z",
     "shell.execute_reply": "2023-12-27T19:06:27.697537Z"
    },
    "papermill": {
     "duration": 0.445478,
     "end_time": "2023-12-27T19:06:27.700901",
     "exception": false,
     "start_time": "2023-12-27T19:06:27.255423",
     "status": "completed"
    },
    "tags": []
   },
   "outputs": [],
   "source": [
    "input_sequences = []\n",
    "for line in text.split('\\n'):\n",
    "    tokens = tokenizer.texts_to_sequences([line])[0]\n",
    "    for i in range(1, len(tokens)):\n",
    "        ngram_sequence = tokens[:i+1]\n",
    "        input_sequences.append(ngram_sequence)"
   ]
  },
  {
   "cell_type": "markdown",
   "id": "4146f9eb",
   "metadata": {
    "papermill": {
     "duration": 0.007272,
     "end_time": "2023-12-27T19:06:27.714052",
     "exception": false,
     "start_time": "2023-12-27T19:06:27.706780",
     "status": "completed"
    },
    "tags": []
   },
   "source": [
    "# Padding"
   ]
  },
  {
   "cell_type": "code",
   "execution_count": 6,
   "id": "26fc0d24",
   "metadata": {
    "execution": {
     "iopub.execute_input": "2023-12-27T19:06:27.729222Z",
     "iopub.status.busy": "2023-12-27T19:06:27.728895Z",
     "iopub.status.idle": "2023-12-27T19:06:28.133405Z",
     "shell.execute_reply": "2023-12-27T19:06:28.132427Z"
    },
    "papermill": {
     "duration": 0.413945,
     "end_time": "2023-12-27T19:06:28.135800",
     "exception": false,
     "start_time": "2023-12-27T19:06:27.721855",
     "status": "completed"
    },
    "tags": []
   },
   "outputs": [],
   "source": [
    "max_len = max([len(seq) for seq in input_sequences])\n",
    "input_sequences = np.array(pad_sequences(input_sequences, maxlen=max_len, padding='pre'))"
   ]
  },
  {
   "cell_type": "code",
   "execution_count": 7,
   "id": "b26bdb81",
   "metadata": {
    "execution": {
     "iopub.execute_input": "2023-12-27T19:06:28.148603Z",
     "iopub.status.busy": "2023-12-27T19:06:28.148268Z",
     "iopub.status.idle": "2023-12-27T19:06:28.152463Z",
     "shell.execute_reply": "2023-12-27T19:06:28.151646Z"
    },
    "papermill": {
     "duration": 0.012594,
     "end_time": "2023-12-27T19:06:28.154251",
     "exception": false,
     "start_time": "2023-12-27T19:06:28.141657",
     "status": "completed"
    },
    "tags": []
   },
   "outputs": [],
   "source": [
    "x = input_sequences[:, :-1]\n",
    "y = input_sequences[:, -1]"
   ]
  },
  {
   "cell_type": "code",
   "execution_count": 8,
   "id": "becd6bfa",
   "metadata": {
    "execution": {
     "iopub.execute_input": "2023-12-27T19:06:28.166005Z",
     "iopub.status.busy": "2023-12-27T19:06:28.165734Z",
     "iopub.status.idle": "2023-12-27T19:06:30.229304Z",
     "shell.execute_reply": "2023-12-27T19:06:30.228506Z"
    },
    "papermill": {
     "duration": 2.071962,
     "end_time": "2023-12-27T19:06:30.231600",
     "exception": false,
     "start_time": "2023-12-27T19:06:28.159638",
     "status": "completed"
    },
    "tags": []
   },
   "outputs": [],
   "source": [
    "y = np.array(tf.keras.utils.to_categorical(y, num_classes=num_words))"
   ]
  },
  {
   "cell_type": "markdown",
   "id": "87a59344",
   "metadata": {
    "papermill": {
     "duration": 0.005468,
     "end_time": "2023-12-27T19:06:30.242970",
     "exception": false,
     "start_time": "2023-12-27T19:06:30.237502",
     "status": "completed"
    },
    "tags": []
   },
   "source": [
    "# Model Building"
   ]
  },
  {
   "cell_type": "code",
   "execution_count": 9,
   "id": "0980b485",
   "metadata": {
    "execution": {
     "iopub.execute_input": "2023-12-27T19:06:30.255092Z",
     "iopub.status.busy": "2023-12-27T19:06:30.254770Z",
     "iopub.status.idle": "2023-12-27T19:06:34.812340Z",
     "shell.execute_reply": "2023-12-27T19:06:34.811353Z"
    },
    "papermill": {
     "duration": 4.566553,
     "end_time": "2023-12-27T19:06:34.814973",
     "exception": false,
     "start_time": "2023-12-27T19:06:30.248420",
     "status": "completed"
    },
    "tags": []
   },
   "outputs": [],
   "source": [
    "model = Sequential()\n",
    "model.add(Embedding(num_words, 100, input_length=max_len-1))\n",
    "model.add(LSTM(150))\n",
    "model.add(Dense(num_words, activation='softmax'))"
   ]
  },
  {
   "cell_type": "code",
   "execution_count": 10,
   "id": "5dc78939",
   "metadata": {
    "execution": {
     "iopub.execute_input": "2023-12-27T19:06:34.828217Z",
     "iopub.status.busy": "2023-12-27T19:06:34.827895Z",
     "iopub.status.idle": "2023-12-27T19:06:34.846791Z",
     "shell.execute_reply": "2023-12-27T19:06:34.845760Z"
    },
    "papermill": {
     "duration": 0.030511,
     "end_time": "2023-12-27T19:06:34.851664",
     "exception": false,
     "start_time": "2023-12-27T19:06:34.821153",
     "status": "completed"
    },
    "tags": []
   },
   "outputs": [
    {
     "name": "stdout",
     "output_type": "stream",
     "text": [
      "Model: \"sequential\"\n",
      "_________________________________________________________________\n",
      " Layer (type)                Output Shape              Param #   \n",
      "=================================================================\n",
      " embedding (Embedding)       (None, 17, 100)           820000    \n",
      "                                                                 \n",
      " lstm (LSTM)                 (None, 150)               150600    \n",
      "                                                                 \n",
      " dense (Dense)               (None, 8200)              1238200   \n",
      "                                                                 \n",
      "=================================================================\n",
      "Total params: 2208800 (8.43 MB)\n",
      "Trainable params: 2208800 (8.43 MB)\n",
      "Non-trainable params: 0 (0.00 Byte)\n",
      "_________________________________________________________________\n"
     ]
    }
   ],
   "source": [
    "model.summary()"
   ]
  },
  {
   "cell_type": "markdown",
   "id": "0628e193",
   "metadata": {
    "papermill": {
     "duration": 0.006487,
     "end_time": "2023-12-27T19:06:34.865041",
     "exception": false,
     "start_time": "2023-12-27T19:06:34.858554",
     "status": "completed"
    },
    "tags": []
   },
   "source": [
    "# Model Training"
   ]
  },
  {
   "cell_type": "code",
   "execution_count": 11,
   "id": "8def81e4",
   "metadata": {
    "execution": {
     "iopub.execute_input": "2023-12-27T19:06:34.879644Z",
     "iopub.status.busy": "2023-12-27T19:06:34.879311Z",
     "iopub.status.idle": "2023-12-27T19:37:44.299802Z",
     "shell.execute_reply": "2023-12-27T19:37:44.292309Z"
    },
    "papermill": {
     "duration": 1869.430362,
     "end_time": "2023-12-27T19:37:44.302142",
     "exception": false,
     "start_time": "2023-12-27T19:06:34.871780",
     "status": "completed"
    },
    "tags": []
   },
   "outputs": [
    {
     "name": "stdout",
     "output_type": "stream",
     "text": [
      "Epoch 1/100\n",
      "3010/3010 [==============================] - 40s 11ms/step - loss: 6.2214 - accuracy: 0.0776\n",
      "Epoch 2/100\n",
      "3010/3010 [==============================] - 20s 7ms/step - loss: 5.4960 - accuracy: 0.1257\n",
      "Epoch 3/100\n",
      "3010/3010 [==============================] - 19s 6ms/step - loss: 5.1162 - accuracy: 0.1476\n",
      "Epoch 4/100\n",
      "3010/3010 [==============================] - 19s 6ms/step - loss: 4.7858 - accuracy: 0.1662\n",
      "Epoch 5/100\n",
      "3010/3010 [==============================] - 19s 6ms/step - loss: 4.4818 - accuracy: 0.1841\n",
      "Epoch 6/100\n",
      "3010/3010 [==============================] - 18s 6ms/step - loss: 4.1980 - accuracy: 0.2041\n",
      "Epoch 7/100\n",
      "3010/3010 [==============================] - 19s 6ms/step - loss: 3.9284 - accuracy: 0.2286\n",
      "Epoch 8/100\n",
      "3010/3010 [==============================] - 18s 6ms/step - loss: 3.6681 - accuracy: 0.2580\n",
      "Epoch 9/100\n",
      "3010/3010 [==============================] - 19s 6ms/step - loss: 3.4278 - accuracy: 0.2909\n",
      "Epoch 10/100\n",
      "3010/3010 [==============================] - 19s 6ms/step - loss: 3.2024 - accuracy: 0.3247\n",
      "Epoch 11/100\n",
      "3010/3010 [==============================] - 19s 6ms/step - loss: 2.9923 - accuracy: 0.3591\n",
      "Epoch 12/100\n",
      "3010/3010 [==============================] - 18s 6ms/step - loss: 2.7982 - accuracy: 0.3941\n",
      "Epoch 13/100\n",
      "3010/3010 [==============================] - 18s 6ms/step - loss: 2.6189 - accuracy: 0.4293\n",
      "Epoch 14/100\n",
      "3010/3010 [==============================] - 18s 6ms/step - loss: 2.4546 - accuracy: 0.4602\n",
      "Epoch 15/100\n",
      "3010/3010 [==============================] - 19s 6ms/step - loss: 2.3044 - accuracy: 0.4894\n",
      "Epoch 16/100\n",
      "3010/3010 [==============================] - 18s 6ms/step - loss: 2.1654 - accuracy: 0.5192\n",
      "Epoch 17/100\n",
      "3010/3010 [==============================] - 18s 6ms/step - loss: 2.0352 - accuracy: 0.5449\n",
      "Epoch 18/100\n",
      "3010/3010 [==============================] - 19s 6ms/step - loss: 1.9196 - accuracy: 0.5716\n",
      "Epoch 19/100\n",
      "3010/3010 [==============================] - 18s 6ms/step - loss: 1.8115 - accuracy: 0.5940\n",
      "Epoch 20/100\n",
      "3010/3010 [==============================] - 18s 6ms/step - loss: 1.7138 - accuracy: 0.6144\n",
      "Epoch 21/100\n",
      "3010/3010 [==============================] - 18s 6ms/step - loss: 1.6230 - accuracy: 0.6346\n",
      "Epoch 22/100\n",
      "3010/3010 [==============================] - 18s 6ms/step - loss: 1.5378 - accuracy: 0.6538\n",
      "Epoch 23/100\n",
      "3010/3010 [==============================] - 19s 6ms/step - loss: 1.4604 - accuracy: 0.6694\n",
      "Epoch 24/100\n",
      "3010/3010 [==============================] - 18s 6ms/step - loss: 1.3892 - accuracy: 0.6862\n",
      "Epoch 25/100\n",
      "3010/3010 [==============================] - 18s 6ms/step - loss: 1.3239 - accuracy: 0.7007\n",
      "Epoch 26/100\n",
      "3010/3010 [==============================] - 19s 6ms/step - loss: 1.2650 - accuracy: 0.7136\n",
      "Epoch 27/100\n",
      "3010/3010 [==============================] - 19s 6ms/step - loss: 1.2092 - accuracy: 0.7253\n",
      "Epoch 28/100\n",
      "3010/3010 [==============================] - 19s 6ms/step - loss: 1.1592 - accuracy: 0.7366\n",
      "Epoch 29/100\n",
      "3010/3010 [==============================] - 18s 6ms/step - loss: 1.1122 - accuracy: 0.7466\n",
      "Epoch 30/100\n",
      "3010/3010 [==============================] - 18s 6ms/step - loss: 1.0694 - accuracy: 0.7563\n",
      "Epoch 31/100\n",
      "3010/3010 [==============================] - 18s 6ms/step - loss: 1.0295 - accuracy: 0.7653\n",
      "Epoch 32/100\n",
      "3010/3010 [==============================] - 18s 6ms/step - loss: 0.9925 - accuracy: 0.7732\n",
      "Epoch 33/100\n",
      "3010/3010 [==============================] - 18s 6ms/step - loss: 0.9590 - accuracy: 0.7802\n",
      "Epoch 34/100\n",
      "3010/3010 [==============================] - 18s 6ms/step - loss: 0.9274 - accuracy: 0.7873\n",
      "Epoch 35/100\n",
      "3010/3010 [==============================] - 19s 6ms/step - loss: 0.8998 - accuracy: 0.7946\n",
      "Epoch 36/100\n",
      "3010/3010 [==============================] - 18s 6ms/step - loss: 0.8724 - accuracy: 0.8001\n",
      "Epoch 37/100\n",
      "3010/3010 [==============================] - 18s 6ms/step - loss: 0.8493 - accuracy: 0.8040\n",
      "Epoch 38/100\n",
      "3010/3010 [==============================] - 18s 6ms/step - loss: 0.8273 - accuracy: 0.8085\n",
      "Epoch 39/100\n",
      "3010/3010 [==============================] - 18s 6ms/step - loss: 0.8074 - accuracy: 0.8119\n",
      "Epoch 40/100\n",
      "3010/3010 [==============================] - 18s 6ms/step - loss: 0.7844 - accuracy: 0.8195\n",
      "Epoch 41/100\n",
      "3010/3010 [==============================] - 18s 6ms/step - loss: 0.7725 - accuracy: 0.8195\n",
      "Epoch 42/100\n",
      "3010/3010 [==============================] - 18s 6ms/step - loss: 0.7503 - accuracy: 0.8249\n",
      "Epoch 43/100\n",
      "3010/3010 [==============================] - 19s 6ms/step - loss: 0.7369 - accuracy: 0.8272\n",
      "Epoch 44/100\n",
      "3010/3010 [==============================] - 19s 6ms/step - loss: 0.7259 - accuracy: 0.8283\n",
      "Epoch 45/100\n",
      "3010/3010 [==============================] - 18s 6ms/step - loss: 0.7083 - accuracy: 0.8332\n",
      "Epoch 46/100\n",
      "3010/3010 [==============================] - 18s 6ms/step - loss: 0.6981 - accuracy: 0.8351\n",
      "Epoch 47/100\n",
      "3010/3010 [==============================] - 18s 6ms/step - loss: 0.6874 - accuracy: 0.8370\n",
      "Epoch 48/100\n",
      "3010/3010 [==============================] - 18s 6ms/step - loss: 0.6748 - accuracy: 0.8393\n",
      "Epoch 49/100\n",
      "3010/3010 [==============================] - 18s 6ms/step - loss: 0.6661 - accuracy: 0.8412\n",
      "Epoch 50/100\n",
      "3010/3010 [==============================] - 18s 6ms/step - loss: 0.6593 - accuracy: 0.8423\n",
      "Epoch 51/100\n",
      "3010/3010 [==============================] - 18s 6ms/step - loss: 0.6509 - accuracy: 0.8438\n",
      "Epoch 52/100\n",
      "3010/3010 [==============================] - 18s 6ms/step - loss: 0.6369 - accuracy: 0.8466\n",
      "Epoch 53/100\n",
      "3010/3010 [==============================] - 18s 6ms/step - loss: 0.6363 - accuracy: 0.8460\n",
      "Epoch 54/100\n",
      "3010/3010 [==============================] - 19s 6ms/step - loss: 0.6263 - accuracy: 0.8492\n",
      "Epoch 55/100\n",
      "3010/3010 [==============================] - 18s 6ms/step - loss: 0.6210 - accuracy: 0.8495\n",
      "Epoch 56/100\n",
      "3010/3010 [==============================] - 18s 6ms/step - loss: 0.6145 - accuracy: 0.8504\n",
      "Epoch 57/100\n",
      "3010/3010 [==============================] - 18s 6ms/step - loss: 0.6073 - accuracy: 0.8513\n",
      "Epoch 58/100\n",
      "3010/3010 [==============================] - 18s 6ms/step - loss: 0.6049 - accuracy: 0.8523\n",
      "Epoch 59/100\n",
      "3010/3010 [==============================] - 18s 6ms/step - loss: 0.5987 - accuracy: 0.8531\n",
      "Epoch 60/100\n",
      "3010/3010 [==============================] - 18s 6ms/step - loss: 0.5979 - accuracy: 0.8535\n",
      "Epoch 61/100\n",
      "3010/3010 [==============================] - 18s 6ms/step - loss: 0.5901 - accuracy: 0.8538\n",
      "Epoch 62/100\n",
      "3010/3010 [==============================] - 18s 6ms/step - loss: 0.5879 - accuracy: 0.8542\n",
      "Epoch 63/100\n",
      "3010/3010 [==============================] - 18s 6ms/step - loss: 0.5840 - accuracy: 0.8554\n",
      "Epoch 64/100\n",
      "3010/3010 [==============================] - 18s 6ms/step - loss: 0.5785 - accuracy: 0.8567\n",
      "Epoch 65/100\n",
      "3010/3010 [==============================] - 18s 6ms/step - loss: 0.5725 - accuracy: 0.8575\n",
      "Epoch 66/100\n",
      "3010/3010 [==============================] - 18s 6ms/step - loss: 0.5721 - accuracy: 0.8573\n",
      "Epoch 67/100\n",
      "3010/3010 [==============================] - 18s 6ms/step - loss: 0.5661 - accuracy: 0.8584\n",
      "Epoch 68/100\n",
      "3010/3010 [==============================] - 18s 6ms/step - loss: 0.5651 - accuracy: 0.8585\n",
      "Epoch 69/100\n",
      "3010/3010 [==============================] - 18s 6ms/step - loss: 0.5615 - accuracy: 0.8593\n",
      "Epoch 70/100\n",
      "3010/3010 [==============================] - 18s 6ms/step - loss: 0.5598 - accuracy: 0.8587\n",
      "Epoch 71/100\n",
      "3010/3010 [==============================] - 18s 6ms/step - loss: 0.5564 - accuracy: 0.8602\n",
      "Epoch 72/100\n",
      "3010/3010 [==============================] - 18s 6ms/step - loss: 0.5589 - accuracy: 0.8589\n",
      "Epoch 73/100\n",
      "3010/3010 [==============================] - 18s 6ms/step - loss: 0.5537 - accuracy: 0.8602\n",
      "Epoch 74/100\n",
      "3010/3010 [==============================] - 18s 6ms/step - loss: 0.5498 - accuracy: 0.8613\n",
      "Epoch 75/100\n",
      "3010/3010 [==============================] - 18s 6ms/step - loss: 0.5483 - accuracy: 0.8612\n",
      "Epoch 76/100\n",
      "3010/3010 [==============================] - 18s 6ms/step - loss: 0.5485 - accuracy: 0.8608\n",
      "Epoch 77/100\n",
      "3010/3010 [==============================] - 18s 6ms/step - loss: 0.5424 - accuracy: 0.8624\n",
      "Epoch 78/100\n",
      "3010/3010 [==============================] - 18s 6ms/step - loss: 0.5425 - accuracy: 0.8623\n",
      "Epoch 79/100\n",
      "3010/3010 [==============================] - 18s 6ms/step - loss: 0.5434 - accuracy: 0.8612\n",
      "Epoch 80/100\n",
      "3010/3010 [==============================] - 18s 6ms/step - loss: 0.5451 - accuracy: 0.8603\n",
      "Epoch 81/100\n",
      "3010/3010 [==============================] - 19s 6ms/step - loss: 0.5439 - accuracy: 0.8598\n",
      "Epoch 82/100\n",
      "3010/3010 [==============================] - 18s 6ms/step - loss: 0.5408 - accuracy: 0.8606\n",
      "Epoch 83/100\n",
      "3010/3010 [==============================] - 19s 6ms/step - loss: 0.5354 - accuracy: 0.8626\n",
      "Epoch 84/100\n",
      "3010/3010 [==============================] - 18s 6ms/step - loss: 0.5393 - accuracy: 0.8601\n",
      "Epoch 85/100\n",
      "3010/3010 [==============================] - 19s 6ms/step - loss: 0.5337 - accuracy: 0.8621\n",
      "Epoch 86/100\n",
      "3010/3010 [==============================] - 18s 6ms/step - loss: 0.5313 - accuracy: 0.8628\n",
      "Epoch 87/100\n",
      "3010/3010 [==============================] - 18s 6ms/step - loss: 0.5318 - accuracy: 0.8626\n",
      "Epoch 88/100\n",
      "3010/3010 [==============================] - 19s 6ms/step - loss: 0.5315 - accuracy: 0.8627\n",
      "Epoch 89/100\n",
      "3010/3010 [==============================] - 18s 6ms/step - loss: 0.5288 - accuracy: 0.8629\n",
      "Epoch 90/100\n",
      "3010/3010 [==============================] - 19s 6ms/step - loss: 0.5280 - accuracy: 0.8631\n",
      "Epoch 91/100\n",
      "3010/3010 [==============================] - 18s 6ms/step - loss: 0.5335 - accuracy: 0.8600\n",
      "Epoch 92/100\n",
      "3010/3010 [==============================] - 19s 6ms/step - loss: 0.5266 - accuracy: 0.8620\n",
      "Epoch 93/100\n",
      "3010/3010 [==============================] - 18s 6ms/step - loss: 0.5216 - accuracy: 0.8644\n",
      "Epoch 94/100\n",
      "3010/3010 [==============================] - 19s 6ms/step - loss: 0.5288 - accuracy: 0.8618\n",
      "Epoch 95/100\n",
      "3010/3010 [==============================] - 18s 6ms/step - loss: 0.5245 - accuracy: 0.8622\n",
      "Epoch 96/100\n",
      "3010/3010 [==============================] - 18s 6ms/step - loss: 0.5246 - accuracy: 0.8622\n",
      "Epoch 97/100\n",
      "3010/3010 [==============================] - 19s 6ms/step - loss: 0.5216 - accuracy: 0.8632\n",
      "Epoch 98/100\n",
      "3010/3010 [==============================] - 19s 6ms/step - loss: 0.5208 - accuracy: 0.8643\n",
      "Epoch 99/100\n",
      "3010/3010 [==============================] - 19s 6ms/step - loss: 0.5235 - accuracy: 0.8625\n",
      "Epoch 100/100\n",
      "3010/3010 [==============================] - 18s 6ms/step - loss: 0.5202 - accuracy: 0.8634\n"
     ]
    },
    {
     "data": {
      "text/plain": [
       "<keras.src.callbacks.History at 0x780adc1cd840>"
      ]
     },
     "execution_count": 11,
     "metadata": {},
     "output_type": "execute_result"
    }
   ],
   "source": [
    "model.compile(loss='categorical_crossentropy', optimizer='adam', metrics=['accuracy'])\n",
    "model.fit(x, y, epochs=100, verbose=1)"
   ]
  },
  {
   "cell_type": "markdown",
   "id": "f6b0de2c",
   "metadata": {
    "papermill": {
     "duration": 2.867582,
     "end_time": "2023-12-27T19:37:49.985851",
     "exception": false,
     "start_time": "2023-12-27T19:37:47.118269",
     "status": "completed"
    },
    "tags": []
   },
   "source": [
    "# Prediction"
   ]
  },
  {
   "cell_type": "code",
   "execution_count": 12,
   "id": "2ff66050",
   "metadata": {
    "execution": {
     "iopub.execute_input": "2023-12-27T19:37:55.626550Z",
     "iopub.status.busy": "2023-12-27T19:37:55.625827Z",
     "iopub.status.idle": "2023-12-27T19:37:56.530779Z",
     "shell.execute_reply": "2023-12-27T19:37:56.530013Z"
    },
    "papermill": {
     "duration": 3.706702,
     "end_time": "2023-12-27T19:37:56.532637",
     "exception": false,
     "start_time": "2023-12-27T19:37:52.825935",
     "status": "completed"
    },
    "tags": []
   },
   "outputs": [
    {
     "name": "stdout",
     "output_type": "stream",
     "text": [
      "1/1 [==============================] - 0s 386ms/step\n",
      "1/1 [==============================] - 0s 18ms/step\n",
      "1/1 [==============================] - 0s 18ms/step\n",
      "1/1 [==============================] - 0s 18ms/step\n",
      "1/1 [==============================] - 0s 18ms/step\n",
      "1/1 [==============================] - 0s 18ms/step\n",
      "1/1 [==============================] - 0s 18ms/step\n",
      "1/1 [==============================] - 0s 18ms/step\n",
      "1/1 [==============================] - 0s 18ms/step\n",
      "1/1 [==============================] - 0s 18ms/step\n"
     ]
    }
   ],
   "source": [
    "seed_text = \"I will leave if they\"\n",
    "next_words = 10\n",
    "\n",
    "for _ in range(next_words):\n",
    "    tokens = tokenizer.texts_to_sequences([seed_text])[0]\n",
    "    tokens = pad_sequences([tokens], maxlen=max_len-1, padding='pre')\n",
    "    predicted = np.argmax(model.predict(tokens), axis=-1)\n",
    "    output_word = \"\"\n",
    "    for word, index in tokenizer.word_index.items():\n",
    "        if index == predicted:\n",
    "            output_word = word\n",
    "            break\n",
    "    seed_text += \" \" + output_word\n"
   ]
  },
  {
   "cell_type": "code",
   "execution_count": 13,
   "id": "cf053bbe",
   "metadata": {
    "execution": {
     "iopub.execute_input": "2023-12-27T19:38:02.204093Z",
     "iopub.status.busy": "2023-12-27T19:38:02.203323Z",
     "iopub.status.idle": "2023-12-27T19:38:02.209197Z",
     "shell.execute_reply": "2023-12-27T19:38:02.208394Z"
    },
    "papermill": {
     "duration": 2.830141,
     "end_time": "2023-12-27T19:38:02.211084",
     "exception": false,
     "start_time": "2023-12-27T19:37:59.380943",
     "status": "completed"
    },
    "tags": []
   },
   "outputs": [
    {
     "data": {
      "text/plain": [
       "'I will leave if they are very incomplete how you did it seems to me'"
      ]
     },
     "execution_count": 13,
     "metadata": {},
     "output_type": "execute_result"
    }
   ],
   "source": [
    "seed_text"
   ]
  }
 ],
 "metadata": {
  "kaggle": {
   "accelerator": "nvidiaTeslaT4",
   "dataSources": [
    {
     "datasetId": 4229432,
     "sourceId": 7292261,
     "sourceType": "datasetVersion"
    }
   ],
   "dockerImageVersionId": 30627,
   "isGpuEnabled": true,
   "isInternetEnabled": true,
   "language": "python",
   "sourceType": "notebook"
  },
  "kernelspec": {
   "display_name": "Python 3",
   "language": "python",
   "name": "python3"
  },
  "language_info": {
   "codemirror_mode": {
    "name": "ipython",
    "version": 3
   },
   "file_extension": ".py",
   "mimetype": "text/x-python",
   "name": "python",
   "nbconvert_exporter": "python",
   "pygments_lexer": "ipython3",
   "version": "3.10.12"
  },
  "papermill": {
   "default_parameters": {},
   "duration": 1918.137348,
   "end_time": "2023-12-27T19:38:08.600707",
   "environment_variables": {},
   "exception": null,
   "input_path": "__notebook__.ipynb",
   "output_path": "__notebook__.ipynb",
   "parameters": {},
   "start_time": "2023-12-27T19:06:10.463359",
   "version": "2.4.0"
  }
 },
 "nbformat": 4,
 "nbformat_minor": 5
}
