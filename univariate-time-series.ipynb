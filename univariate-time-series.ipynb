{
 "cells": [
  {
   "cell_type": "markdown",
   "id": "78090aec",
   "metadata": {
    "papermill": {
     "duration": 0.006783,
     "end_time": "2024-01-05T08:35:34.705329",
     "exception": false,
     "start_time": "2024-01-05T08:35:34.698546",
     "status": "completed"
    },
    "tags": []
   },
   "source": [
    "# Importing Dependencies"
   ]
  },
  {
   "cell_type": "code",
   "execution_count": 1,
   "id": "a400460f",
   "metadata": {
    "execution": {
     "iopub.execute_input": "2024-01-05T08:35:34.718863Z",
     "iopub.status.busy": "2024-01-05T08:35:34.717927Z",
     "iopub.status.idle": "2024-01-05T08:35:48.331947Z",
     "shell.execute_reply": "2024-01-05T08:35:48.330963Z"
    },
    "papermill": {
     "duration": 13.623383,
     "end_time": "2024-01-05T08:35:48.334538",
     "exception": false,
     "start_time": "2024-01-05T08:35:34.711155",
     "status": "completed"
    },
    "tags": []
   },
   "outputs": [
    {
     "name": "stderr",
     "output_type": "stream",
     "text": [
      "/opt/conda/lib/python3.10/site-packages/scipy/__init__.py:146: UserWarning: A NumPy version >=1.16.5 and <1.23.0 is required for this version of SciPy (detected version 1.24.3\n",
      "  warnings.warn(f\"A NumPy version >={np_minversion} and <{np_maxversion}\"\n"
     ]
    }
   ],
   "source": [
    "import pandas as pd\n",
    "import numpy as np\n",
    "import matplotlib.pyplot as plt\n",
    "from tensorflow.keras.models import Sequential\n",
    "from tensorflow.keras.layers import LSTM\n",
    "from tensorflow.keras.layers import Dense\n",
    "from tensorflow.keras.layers import Flatten"
   ]
  },
  {
   "cell_type": "markdown",
   "id": "5f648804",
   "metadata": {
    "papermill": {
     "duration": 0.005773,
     "end_time": "2024-01-05T08:35:48.346511",
     "exception": false,
     "start_time": "2024-01-05T08:35:48.340738",
     "status": "completed"
    },
    "tags": []
   },
   "source": [
    "# Preparing Data"
   ]
  },
  {
   "cell_type": "code",
   "execution_count": 2,
   "id": "ea7c4f15",
   "metadata": {
    "execution": {
     "iopub.execute_input": "2024-01-05T08:35:48.359878Z",
     "iopub.status.busy": "2024-01-05T08:35:48.359280Z",
     "iopub.status.idle": "2024-01-05T08:35:48.367356Z",
     "shell.execute_reply": "2024-01-05T08:35:48.366330Z"
    },
    "papermill": {
     "duration": 0.017212,
     "end_time": "2024-01-05T08:35:48.369531",
     "exception": false,
     "start_time": "2024-01-05T08:35:48.352319",
     "status": "completed"
    },
    "tags": []
   },
   "outputs": [],
   "source": [
    "def prep_data(timeseries,features):\n",
    "    x,y=[],[]\n",
    "    for i in range(len(timeseries)):\n",
    "        end_idx=i+features\n",
    "        if end_idx>len(timeseries)-1:\n",
    "            break\n",
    "        seq_x,seq_y=timeseries[i:end_idx],timeseries[end_idx]\n",
    "        x.append(seq_x)\n",
    "        y.append(seq_y)\n",
    "    return np.array(x),np.array(y)"
   ]
  },
  {
   "cell_type": "code",
   "execution_count": 3,
   "id": "a813b532",
   "metadata": {
    "execution": {
     "iopub.execute_input": "2024-01-05T08:35:48.382809Z",
     "iopub.status.busy": "2024-01-05T08:35:48.382520Z",
     "iopub.status.idle": "2024-01-05T08:35:48.387566Z",
     "shell.execute_reply": "2024-01-05T08:35:48.386598Z"
    },
    "papermill": {
     "duration": 0.013928,
     "end_time": "2024-01-05T08:35:48.389773",
     "exception": false,
     "start_time": "2024-01-05T08:35:48.375845",
     "status": "completed"
    },
    "tags": []
   },
   "outputs": [],
   "source": [
    "timeseries=[110,125,133,146,158,172,187,196,210]\n",
    "features=3\n",
    "x,y=prep_data(timeseries,features)"
   ]
  },
  {
   "cell_type": "code",
   "execution_count": 4,
   "id": "ce3baad0",
   "metadata": {
    "execution": {
     "iopub.execute_input": "2024-01-05T08:35:48.402517Z",
     "iopub.status.busy": "2024-01-05T08:35:48.402217Z",
     "iopub.status.idle": "2024-01-05T08:35:48.409627Z",
     "shell.execute_reply": "2024-01-05T08:35:48.408653Z"
    },
    "papermill": {
     "duration": 0.016207,
     "end_time": "2024-01-05T08:35:48.411758",
     "exception": false,
     "start_time": "2024-01-05T08:35:48.395551",
     "status": "completed"
    },
    "tags": []
   },
   "outputs": [
    {
     "data": {
      "text/plain": [
       "array([[110, 125, 133],\n",
       "       [125, 133, 146],\n",
       "       [133, 146, 158],\n",
       "       [146, 158, 172],\n",
       "       [158, 172, 187],\n",
       "       [172, 187, 196]])"
      ]
     },
     "execution_count": 4,
     "metadata": {},
     "output_type": "execute_result"
    }
   ],
   "source": [
    "x"
   ]
  },
  {
   "cell_type": "code",
   "execution_count": 5,
   "id": "0fd3883d",
   "metadata": {
    "execution": {
     "iopub.execute_input": "2024-01-05T08:35:48.425497Z",
     "iopub.status.busy": "2024-01-05T08:35:48.424766Z",
     "iopub.status.idle": "2024-01-05T08:35:48.431307Z",
     "shell.execute_reply": "2024-01-05T08:35:48.430298Z"
    },
    "papermill": {
     "duration": 0.015761,
     "end_time": "2024-01-05T08:35:48.433534",
     "exception": false,
     "start_time": "2024-01-05T08:35:48.417773",
     "status": "completed"
    },
    "tags": []
   },
   "outputs": [
    {
     "data": {
      "text/plain": [
       "array([146, 158, 172, 187, 196, 210])"
      ]
     },
     "execution_count": 5,
     "metadata": {},
     "output_type": "execute_result"
    }
   ],
   "source": [
    "y"
   ]
  },
  {
   "cell_type": "code",
   "execution_count": 6,
   "id": "65b14a8e",
   "metadata": {
    "execution": {
     "iopub.execute_input": "2024-01-05T08:35:48.447145Z",
     "iopub.status.busy": "2024-01-05T08:35:48.446834Z",
     "iopub.status.idle": "2024-01-05T08:35:48.452886Z",
     "shell.execute_reply": "2024-01-05T08:35:48.451961Z"
    },
    "papermill": {
     "duration": 0.01538,
     "end_time": "2024-01-05T08:35:48.455055",
     "exception": false,
     "start_time": "2024-01-05T08:35:48.439675",
     "status": "completed"
    },
    "tags": []
   },
   "outputs": [
    {
     "data": {
      "text/plain": [
       "((6, 3), (6,))"
      ]
     },
     "execution_count": 6,
     "metadata": {},
     "output_type": "execute_result"
    }
   ],
   "source": [
    "x.shape,y.shape"
   ]
  },
  {
   "cell_type": "markdown",
   "id": "9d8a95b9",
   "metadata": {
    "papermill": {
     "duration": 0.006202,
     "end_time": "2024-01-05T08:35:48.467658",
     "exception": false,
     "start_time": "2024-01-05T08:35:48.461456",
     "status": "completed"
    },
    "tags": []
   },
   "source": [
    "# Reshape\n",
    "samples,timesteps->samples,timestps,features"
   ]
  },
  {
   "cell_type": "code",
   "execution_count": 7,
   "id": "b16f57ef",
   "metadata": {
    "execution": {
     "iopub.execute_input": "2024-01-05T08:35:48.481347Z",
     "iopub.status.busy": "2024-01-05T08:35:48.481069Z",
     "iopub.status.idle": "2024-01-05T08:35:48.485463Z",
     "shell.execute_reply": "2024-01-05T08:35:48.484605Z"
    },
    "papermill": {
     "duration": 0.013631,
     "end_time": "2024-01-05T08:35:48.487558",
     "exception": false,
     "start_time": "2024-01-05T08:35:48.473927",
     "status": "completed"
    },
    "tags": []
   },
   "outputs": [],
   "source": [
    "n_features=1\n",
    "x=x.reshape((x.shape[0],x.shape[1],n_features))"
   ]
  },
  {
   "cell_type": "markdown",
   "id": "7b3477c6",
   "metadata": {
    "papermill": {
     "duration": 0.00621,
     "end_time": "2024-01-05T08:35:48.500344",
     "exception": false,
     "start_time": "2024-01-05T08:35:48.494134",
     "status": "completed"
    },
    "tags": []
   },
   "source": [
    "we do this to convert to 3d"
   ]
  },
  {
   "cell_type": "code",
   "execution_count": 8,
   "id": "905631d0",
   "metadata": {
    "execution": {
     "iopub.execute_input": "2024-01-05T08:35:48.514355Z",
     "iopub.status.busy": "2024-01-05T08:35:48.514054Z",
     "iopub.status.idle": "2024-01-05T08:35:48.520122Z",
     "shell.execute_reply": "2024-01-05T08:35:48.519206Z"
    },
    "papermill": {
     "duration": 0.015369,
     "end_time": "2024-01-05T08:35:48.522165",
     "exception": false,
     "start_time": "2024-01-05T08:35:48.506796",
     "status": "completed"
    },
    "tags": []
   },
   "outputs": [
    {
     "data": {
      "text/plain": [
       "(6, 3, 1)"
      ]
     },
     "execution_count": 8,
     "metadata": {},
     "output_type": "execute_result"
    }
   ],
   "source": [
    "x.shape"
   ]
  },
  {
   "cell_type": "markdown",
   "id": "f4c87510",
   "metadata": {
    "papermill": {
     "duration": 0.006248,
     "end_time": "2024-01-05T08:35:48.535023",
     "exception": false,
     "start_time": "2024-01-05T08:35:48.528775",
     "status": "completed"
    },
    "tags": []
   },
   "source": [
    "# Model Building"
   ]
  },
  {
   "cell_type": "code",
   "execution_count": 9,
   "id": "f19326e1",
   "metadata": {
    "execution": {
     "iopub.execute_input": "2024-01-05T08:35:48.549168Z",
     "iopub.status.busy": "2024-01-05T08:35:48.548806Z",
     "iopub.status.idle": "2024-01-05T08:35:50.013564Z",
     "shell.execute_reply": "2024-01-05T08:35:50.012675Z"
    },
    "papermill": {
     "duration": 1.47453,
     "end_time": "2024-01-05T08:35:50.016039",
     "exception": false,
     "start_time": "2024-01-05T08:35:48.541509",
     "status": "completed"
    },
    "tags": []
   },
   "outputs": [],
   "source": [
    "model=Sequential()\n",
    "model.add(LSTM(50,activation='relu',return_sequences=True,input_shape=(features,n_features)))\n",
    "model.add(LSTM(50,activation='relu'))\n",
    "model.add(Dense(1))\n",
    "model.compile(optimizer='adam',loss='mse')"
   ]
  },
  {
   "cell_type": "markdown",
   "id": "58f97020",
   "metadata": {
    "papermill": {
     "duration": 0.006217,
     "end_time": "2024-01-05T08:35:50.029260",
     "exception": false,
     "start_time": "2024-01-05T08:35:50.023043",
     "status": "completed"
    },
    "tags": []
   },
   "source": [
    "# Model Training"
   ]
  },
  {
   "cell_type": "code",
   "execution_count": 10,
   "id": "178e1194",
   "metadata": {
    "execution": {
     "iopub.execute_input": "2024-01-05T08:35:50.043527Z",
     "iopub.status.busy": "2024-01-05T08:35:50.043164Z",
     "iopub.status.idle": "2024-01-05T08:35:58.005459Z",
     "shell.execute_reply": "2024-01-05T08:35:58.004343Z"
    },
    "papermill": {
     "duration": 7.971992,
     "end_time": "2024-01-05T08:35:58.007699",
     "exception": false,
     "start_time": "2024-01-05T08:35:50.035707",
     "status": "completed"
    },
    "tags": []
   },
   "outputs": [
    {
     "data": {
      "text/plain": [
       "<keras.src.callbacks.History at 0x7fb3f24833a0>"
      ]
     },
     "execution_count": 10,
     "metadata": {},
     "output_type": "execute_result"
    }
   ],
   "source": [
    "model.fit(x,y,epochs=200,verbose=0)"
   ]
  },
  {
   "cell_type": "markdown",
   "id": "d3305a39",
   "metadata": {
    "papermill": {
     "duration": 0.005762,
     "end_time": "2024-01-05T08:35:58.019755",
     "exception": false,
     "start_time": "2024-01-05T08:35:58.013993",
     "status": "completed"
    },
    "tags": []
   },
   "source": [
    "# Prediction\n",
    "next 10 days"
   ]
  },
  {
   "cell_type": "code",
   "execution_count": 11,
   "id": "644336de",
   "metadata": {
    "execution": {
     "iopub.execute_input": "2024-01-05T08:35:58.033478Z",
     "iopub.status.busy": "2024-01-05T08:35:58.032700Z",
     "iopub.status.idle": "2024-01-05T08:35:59.192310Z",
     "shell.execute_reply": "2024-01-05T08:35:59.191096Z"
    },
    "papermill": {
     "duration": 1.168697,
     "end_time": "2024-01-05T08:35:59.194412",
     "exception": false,
     "start_time": "2024-01-05T08:35:58.025715",
     "status": "completed"
    },
    "tags": []
   },
   "outputs": [
    {
     "name": "stdout",
     "output_type": "stream",
     "text": [
      "[225.96095]\n",
      "1 day input [196.         210.         225.96095276]\n",
      "1 day output [[237.98587]]\n",
      "2 day input [210.         225.96095276 237.98587036]\n",
      "2 day output [[253.72917]]\n",
      "3 day input [225.96095 237.98587 253.72917]\n",
      "3 day output [[270.09506]]\n",
      "4 day input [237.98587 253.72917 270.09506]\n",
      "4 day output [[285.1983]]\n",
      "5 day input [253.72917 270.09506 285.1983 ]\n",
      "5 day output [[302.9942]]\n",
      "6 day input [270.09506 285.1983  302.9942 ]\n",
      "6 day output [[321.17834]]\n",
      "7 day input [285.1983  302.9942  321.17834]\n",
      "7 day output [[339.5642]]\n",
      "8 day input [302.9942  321.17834 339.5642 ]\n",
      "8 day output [[359.99854]]\n",
      "9 day input [321.17834 339.5642  359.99854]\n",
      "9 day output [[381.05667]]\n",
      "[225.96095, 237.98587, 253.72917, 270.09506, 285.1983, 302.9942, 321.17834, 339.5642, 359.99854, 381.05667]\n"
     ]
    }
   ],
   "source": [
    "x_input=np.array([187,196,210])\n",
    "temp_input=list(x_input)\n",
    "lst_output=[]\n",
    "i=0\n",
    "while(i<10):\n",
    "    if(len(temp_input)>3):\n",
    "        x_input=np.array(temp_input[1:])\n",
    "        print(\"{} day input {}\".format(i,x_input))\n",
    "        x_input = x_input.reshape((1, features, n_features))\n",
    "        yhat = model.predict(x_input, verbose=0)\n",
    "        print(\"{} day output {}\".format(i,yhat))\n",
    "        temp_input.append(yhat[0][0])\n",
    "        temp_input=temp_input[1:]\n",
    "        lst_output.append(yhat[0][0])\n",
    "        i=i+1\n",
    "    else:\n",
    "        x_input = x_input.reshape((1,features, n_features))\n",
    "        yhat = model.predict(x_input, verbose=0)\n",
    "        print(yhat[0])\n",
    "        temp_input.append(yhat[0][0])\n",
    "        lst_output.append(yhat[0][0])\n",
    "        i=i+1\n",
    "print(lst_output)"
   ]
  },
  {
   "cell_type": "markdown",
   "id": "265c3f81",
   "metadata": {
    "papermill": {
     "duration": 0.006014,
     "end_time": "2024-01-05T08:35:59.207118",
     "exception": false,
     "start_time": "2024-01-05T08:35:59.201104",
     "status": "completed"
    },
    "tags": []
   },
   "source": [
    "# Visualisation"
   ]
  },
  {
   "cell_type": "code",
   "execution_count": 12,
   "id": "44cdec20",
   "metadata": {
    "execution": {
     "iopub.execute_input": "2024-01-05T08:35:59.220739Z",
     "iopub.status.busy": "2024-01-05T08:35:59.220446Z",
     "iopub.status.idle": "2024-01-05T08:35:59.468972Z",
     "shell.execute_reply": "2024-01-05T08:35:59.468089Z"
    },
    "papermill": {
     "duration": 0.257705,
     "end_time": "2024-01-05T08:35:59.471120",
     "exception": false,
     "start_time": "2024-01-05T08:35:59.213415",
     "status": "completed"
    },
    "tags": []
   },
   "outputs": [
    {
     "data": {
      "text/plain": [
       "[<matplotlib.lines.Line2D at 0x7fb3d03b96f0>]"
      ]
     },
     "execution_count": 12,
     "metadata": {},
     "output_type": "execute_result"
    },
    {
     "data": {
      "image/png": "[encoded data removed]",
      "text/plain": [
       "<Figure size 640x480 with 1 Axes>"
      ]
     },
     "metadata": {},
     "output_type": "display_data"
    }
   ],
   "source": [
    "day_new=np.arange(1,10)\n",
    "day_pred=np.arange(10,20)\n",
    "plt.plot(day_new,timeseries)\n",
    "plt.plot(day_pred,lst_output)"
   ]
  }
 ],
 "metadata": {
  "kaggle": {
   "accelerator": "nvidiaTeslaT4",
   "dataSources": [],
   "dockerImageVersionId": 30627,
   "isGpuEnabled": true,
   "isInternetEnabled": true,
   "language": "python",
   "sourceType": "notebook"
  },
  "kernelspec": {
   "display_name": "Python 3",
   "language": "python",
   "name": "python3"
  },
  "language_info": {
   "codemirror_mode": {
    "name": "ipython",
    "version": 3
   },
   "file_extension": ".py",
   "mimetype": "text/x-python",
   "name": "python",
   "nbconvert_exporter": "python",
   "pygments_lexer": "ipython3",
   "version": "3.10.12"
  },
  "papermill": {
   "default_parameters": {},
   "duration": 31.704016,
   "end_time": "2024-01-05T08:36:02.722531",
   "environment_variables": {},
   "exception": null,
   "input_path": "__notebook__.ipynb",
   "output_path": "__notebook__.ipynb",
   "parameters": {},
   "start_time": "2024-01-05T08:35:31.018515",
   "version": "2.4.0"
  }
 },
 "nbformat": 4,
 "nbformat_minor": 5
}
