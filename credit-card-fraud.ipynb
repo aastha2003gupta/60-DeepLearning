{
 "cells": [
  {
   "cell_type": "markdown",
   "id": "2f85f991",
   "metadata": {
    "papermill": {
     "duration": 0.005996,
     "end_time": "2024-01-05T08:57:09.296296",
     "exception": false,
     "start_time": "2024-01-05T08:57:09.290300",
     "status": "completed"
    },
    "tags": []
   },
   "source": [
    "# Importing Dependencies"
   ]
  },
  {
   "cell_type": "code",
   "execution_count": 1,
   "id": "9e87d3fc",
   "metadata": {
    "execution": {
     "iopub.execute_input": "2024-01-05T08:57:09.309350Z",
     "iopub.status.busy": "2024-01-05T08:57:09.308733Z",
     "iopub.status.idle": "2024-01-05T08:57:09.617047Z",
     "shell.execute_reply": "2024-01-05T08:57:09.616168Z"
    },
    "papermill": {
     "duration": 0.317576,
     "end_time": "2024-01-05T08:57:09.619256",
     "exception": false,
     "start_time": "2024-01-05T08:57:09.301680",
     "status": "completed"
    },
    "tags": []
   },
   "outputs": [],
   "source": [
    "import pandas as pd\n",
    "import numpy as np\n",
    "import matplotlib.pyplot as plt"
   ]
  },
  {
   "cell_type": "markdown",
   "id": "3f838d0c",
   "metadata": {
    "papermill": {
     "duration": 0.005168,
     "end_time": "2024-01-05T08:57:09.630005",
     "exception": false,
     "start_time": "2024-01-05T08:57:09.624837",
     "status": "completed"
    },
    "tags": []
   },
   "source": [
    "# Loading Data"
   ]
  },
  {
   "cell_type": "code",
   "execution_count": 2,
   "id": "4dff5226",
   "metadata": {
    "execution": {
     "iopub.execute_input": "2024-01-05T08:57:09.642404Z",
     "iopub.status.busy": "2024-01-05T08:57:09.641903Z",
     "iopub.status.idle": "2024-01-05T08:57:13.575380Z",
     "shell.execute_reply": "2024-01-05T08:57:13.573865Z"
    },
    "papermill": {
     "duration": 3.94272,
     "end_time": "2024-01-05T08:57:13.577954",
     "exception": false,
     "start_time": "2024-01-05T08:57:09.635234",
     "status": "completed"
    },
    "tags": []
   },
   "outputs": [],
   "source": [
    "df=pd.read_csv('/kaggle/input/creditcardfraud/creditcard.csv')"
   ]
  },
  {
   "cell_type": "code",
   "execution_count": 3,
   "id": "68612ea2",
   "metadata": {
    "execution": {
     "iopub.execute_input": "2024-01-05T08:57:13.591697Z",
     "iopub.status.busy": "2024-01-05T08:57:13.591054Z",
     "iopub.status.idle": "2024-01-05T08:57:13.634820Z",
     "shell.execute_reply": "2024-01-05T08:57:13.633230Z"
    },
    "papermill": {
     "duration": 0.053619,
     "end_time": "2024-01-05T08:57:13.637486",
     "exception": false,
     "start_time": "2024-01-05T08:57:13.583867",
     "status": "completed"
    },
    "tags": []
   },
   "outputs": [
    {
     "data": {
      "text/html": [
       "<div>\n",
       "<style scoped>\n",
       "    .dataframe tbody tr th:only-of-type {\n",
       "        vertical-align: middle;\n",
       "    }\n",
       "\n",
       "    .dataframe tbody tr th {\n",
       "        vertical-align: top;\n",
       "    }\n",
       "\n",
       "    .dataframe thead th {\n",
       "        text-align: right;\n",
       "    }\n",
       "</style>\n",
       "<table border=\"1\" class=\"dataframe\">\n",
       "  <thead>\n",
       "    <tr style=\"text-align: right;\">\n",
       "      <th></th>\n",
       "      <th>Time</th>\n",
       "      <th>V1</th>\n",
       "      <th>V2</th>\n",
       "      <th>V3</th>\n",
       "      <th>V4</th>\n",
       "      <th>V5</th>\n",
       "      <th>V6</th>\n",
       "      <th>V7</th>\n",
       "      <th>V8</th>\n",
       "      <th>V9</th>\n",
       "      <th>...</th>\n",
       "      <th>V21</th>\n",
       "      <th>V22</th>\n",
       "      <th>V23</th>\n",
       "      <th>V24</th>\n",
       "      <th>V25</th>\n",
       "      <th>V26</th>\n",
       "      <th>V27</th>\n",
       "      <th>V28</th>\n",
       "      <th>Amount</th>\n",
       "      <th>Class</th>\n",
       "    </tr>\n",
       "  </thead>\n",
       "  <tbody>\n",
       "    <tr>\n",
       "      <th>0</th>\n",
       "      <td>0.0</td>\n",
       "      <td>-1.359807</td>\n",
       "      <td>-0.072781</td>\n",
       "      <td>2.536347</td>\n",
       "      <td>1.378155</td>\n",
       "      <td>-0.338321</td>\n",
       "      <td>0.462388</td>\n",
       "      <td>0.239599</td>\n",
       "      <td>0.098698</td>\n",
       "      <td>0.363787</td>\n",
       "      <td>...</td>\n",
       "      <td>-0.018307</td>\n",
       "      <td>0.277838</td>\n",
       "      <td>-0.110474</td>\n",
       "      <td>0.066928</td>\n",
       "      <td>0.128539</td>\n",
       "      <td>-0.189115</td>\n",
       "      <td>0.133558</td>\n",
       "      <td>-0.021053</td>\n",
       "      <td>149.62</td>\n",
       "      <td>0</td>\n",
       "    </tr>\n",
       "    <tr>\n",
       "      <th>1</th>\n",
       "      <td>0.0</td>\n",
       "      <td>1.191857</td>\n",
       "      <td>0.266151</td>\n",
       "      <td>0.166480</td>\n",
       "      <td>0.448154</td>\n",
       "      <td>0.060018</td>\n",
       "      <td>-0.082361</td>\n",
       "      <td>-0.078803</td>\n",
       "      <td>0.085102</td>\n",
       "      <td>-0.255425</td>\n",
       "      <td>...</td>\n",
       "      <td>-0.225775</td>\n",
       "      <td>-0.638672</td>\n",
       "      <td>0.101288</td>\n",
       "      <td>-0.339846</td>\n",
       "      <td>0.167170</td>\n",
       "      <td>0.125895</td>\n",
       "      <td>-0.008983</td>\n",
       "      <td>0.014724</td>\n",
       "      <td>2.69</td>\n",
       "      <td>0</td>\n",
       "    </tr>\n",
       "    <tr>\n",
       "      <th>2</th>\n",
       "      <td>1.0</td>\n",
       "      <td>-1.358354</td>\n",
       "      <td>-1.340163</td>\n",
       "      <td>1.773209</td>\n",
       "      <td>0.379780</td>\n",
       "      <td>-0.503198</td>\n",
       "      <td>1.800499</td>\n",
       "      <td>0.791461</td>\n",
       "      <td>0.247676</td>\n",
       "      <td>-1.514654</td>\n",
       "      <td>...</td>\n",
       "      <td>0.247998</td>\n",
       "      <td>0.771679</td>\n",
       "      <td>0.909412</td>\n",
       "      <td>-0.689281</td>\n",
       "      <td>-0.327642</td>\n",
       "      <td>-0.139097</td>\n",
       "      <td>-0.055353</td>\n",
       "      <td>-0.059752</td>\n",
       "      <td>378.66</td>\n",
       "      <td>0</td>\n",
       "    </tr>\n",
       "    <tr>\n",
       "      <th>3</th>\n",
       "      <td>1.0</td>\n",
       "      <td>-0.966272</td>\n",
       "      <td>-0.185226</td>\n",
       "      <td>1.792993</td>\n",
       "      <td>-0.863291</td>\n",
       "      <td>-0.010309</td>\n",
       "      <td>1.247203</td>\n",
       "      <td>0.237609</td>\n",
       "      <td>0.377436</td>\n",
       "      <td>-1.387024</td>\n",
       "      <td>...</td>\n",
       "      <td>-0.108300</td>\n",
       "      <td>0.005274</td>\n",
       "      <td>-0.190321</td>\n",
       "      <td>-1.175575</td>\n",
       "      <td>0.647376</td>\n",
       "      <td>-0.221929</td>\n",
       "      <td>0.062723</td>\n",
       "      <td>0.061458</td>\n",
       "      <td>123.50</td>\n",
       "      <td>0</td>\n",
       "    </tr>\n",
       "    <tr>\n",
       "      <th>4</th>\n",
       "      <td>2.0</td>\n",
       "      <td>-1.158233</td>\n",
       "      <td>0.877737</td>\n",
       "      <td>1.548718</td>\n",
       "      <td>0.403034</td>\n",
       "      <td>-0.407193</td>\n",
       "      <td>0.095921</td>\n",
       "      <td>0.592941</td>\n",
       "      <td>-0.270533</td>\n",
       "      <td>0.817739</td>\n",
       "      <td>...</td>\n",
       "      <td>-0.009431</td>\n",
       "      <td>0.798278</td>\n",
       "      <td>-0.137458</td>\n",
       "      <td>0.141267</td>\n",
       "      <td>-0.206010</td>\n",
       "      <td>0.502292</td>\n",
       "      <td>0.219422</td>\n",
       "      <td>0.215153</td>\n",
       "      <td>69.99</td>\n",
       "      <td>0</td>\n",
       "    </tr>\n",
       "  </tbody>\n",
       "</table>\n",
       "<p>5 rows × 31 columns</p>\n",
       "</div>"
      ],
      "text/plain": [
       "   Time        V1        V2        V3        V4        V5        V6        V7  \\\n",
       "0   0.0 -1.359807 -0.072781  2.536347  1.378155 -0.338321  0.462388  0.239599   \n",
       "1   0.0  1.191857  0.266151  0.166480  0.448154  0.060018 -0.082361 -0.078803   \n",
       "2   1.0 -1.358354 -1.340163  1.773209  0.379780 -0.503198  1.800499  0.791461   \n",
       "3   1.0 -0.966272 -0.185226  1.792993 -0.863291 -0.010309  1.247203  0.237609   \n",
       "4   2.0 -1.158233  0.877737  1.548718  0.403034 -0.407193  0.095921  0.592941   \n",
       "\n",
       "         V8        V9  ...       V21       V22       V23       V24       V25  \\\n",
       "0  0.098698  0.363787  ... -0.018307  0.277838 -0.110474  0.066928  0.128539   \n",
       "1  0.085102 -0.255425  ... -0.225775 -0.638672  0.101288 -0.339846  0.167170   \n",
       "2  0.247676 -1.514654  ...  0.247998  0.771679  0.909412 -0.689281 -0.327642   \n",
       "3  0.377436 -1.387024  ... -0.108300  0.005274 -0.190321 -1.175575  0.647376   \n",
       "4 -0.270533  0.817739  ... -0.009431  0.798278 -0.137458  0.141267 -0.206010   \n",
       "\n",
       "        V26       V27       V28  Amount  Class  \n",
       "0 -0.189115  0.133558 -0.021053  149.62      0  \n",
       "1  0.125895 -0.008983  0.014724    2.69      0  \n",
       "2 -0.139097 -0.055353 -0.059752  378.66      0  \n",
       "3 -0.221929  0.062723  0.061458  123.50      0  \n",
       "4  0.502292  0.219422  0.215153   69.99      0  \n",
       "\n",
       "[5 rows x 31 columns]"
      ]
     },
     "execution_count": 3,
     "metadata": {},
     "output_type": "execute_result"
    }
   ],
   "source": [
    "df.head()"
   ]
  },
  {
   "cell_type": "code",
   "execution_count": 4,
   "id": "749fa4c7",
   "metadata": {
    "execution": {
     "iopub.execute_input": "2024-01-05T08:57:13.651557Z",
     "iopub.status.busy": "2024-01-05T08:57:13.651236Z",
     "iopub.status.idle": "2024-01-05T08:57:13.658404Z",
     "shell.execute_reply": "2024-01-05T08:57:13.656790Z"
    },
    "papermill": {
     "duration": 0.017777,
     "end_time": "2024-01-05T08:57:13.661484",
     "exception": false,
     "start_time": "2024-01-05T08:57:13.643707",
     "status": "completed"
    },
    "tags": []
   },
   "outputs": [
    {
     "data": {
      "text/plain": [
       "(284807, 31)"
      ]
     },
     "execution_count": 4,
     "metadata": {},
     "output_type": "execute_result"
    }
   ],
   "source": [
    "df.shape"
   ]
  },
  {
   "cell_type": "code",
   "execution_count": 5,
   "id": "9baed6dc",
   "metadata": {
    "execution": {
     "iopub.execute_input": "2024-01-05T08:57:13.676165Z",
     "iopub.status.busy": "2024-01-05T08:57:13.675790Z",
     "iopub.status.idle": "2024-01-05T08:57:13.715945Z",
     "shell.execute_reply": "2024-01-05T08:57:13.715142Z"
    },
    "papermill": {
     "duration": 0.049821,
     "end_time": "2024-01-05T08:57:13.717758",
     "exception": false,
     "start_time": "2024-01-05T08:57:13.667937",
     "status": "completed"
    },
    "tags": []
   },
   "outputs": [
    {
     "name": "stdout",
     "output_type": "stream",
     "text": [
      "<class 'pandas.core.frame.DataFrame'>\n",
      "RangeIndex: 284807 entries, 0 to 284806\n",
      "Data columns (total 31 columns):\n",
      " #   Column  Non-Null Count   Dtype  \n",
      "---  ------  --------------   -----  \n",
      " 0   Time    284807 non-null  float64\n",
      " 1   V1      284807 non-null  float64\n",
      " 2   V2      284807 non-null  float64\n",
      " 3   V3      284807 non-null  float64\n",
      " 4   V4      284807 non-null  float64\n",
      " 5   V5      284807 non-null  float64\n",
      " 6   V6      284807 non-null  float64\n",
      " 7   V7      284807 non-null  float64\n",
      " 8   V8      284807 non-null  float64\n",
      " 9   V9      284807 non-null  float64\n",
      " 10  V10     284807 non-null  float64\n",
      " 11  V11     284807 non-null  float64\n",
      " 12  V12     284807 non-null  float64\n",
      " 13  V13     284807 non-null  float64\n",
      " 14  V14     284807 non-null  float64\n",
      " 15  V15     284807 non-null  float64\n",
      " 16  V16     284807 non-null  float64\n",
      " 17  V17     284807 non-null  float64\n",
      " 18  V18     284807 non-null  float64\n",
      " 19  V19     284807 non-null  float64\n",
      " 20  V20     284807 non-null  float64\n",
      " 21  V21     284807 non-null  float64\n",
      " 22  V22     284807 non-null  float64\n",
      " 23  V23     284807 non-null  float64\n",
      " 24  V24     284807 non-null  float64\n",
      " 25  V25     284807 non-null  float64\n",
      " 26  V26     284807 non-null  float64\n",
      " 27  V27     284807 non-null  float64\n",
      " 28  V28     284807 non-null  float64\n",
      " 29  Amount  284807 non-null  float64\n",
      " 30  Class   284807 non-null  int64  \n",
      "dtypes: float64(30), int64(1)\n",
      "memory usage: 67.4 MB\n"
     ]
    }
   ],
   "source": [
    "df.info()"
   ]
  },
  {
   "cell_type": "code",
   "execution_count": 6,
   "id": "d9e3f64a",
   "metadata": {
    "execution": {
     "iopub.execute_input": "2024-01-05T08:57:13.732152Z",
     "iopub.status.busy": "2024-01-05T08:57:13.731457Z",
     "iopub.status.idle": "2024-01-05T08:57:13.742272Z",
     "shell.execute_reply": "2024-01-05T08:57:13.741362Z"
    },
    "papermill": {
     "duration": 0.020592,
     "end_time": "2024-01-05T08:57:13.744614",
     "exception": false,
     "start_time": "2024-01-05T08:57:13.724022",
     "status": "completed"
    },
    "tags": []
   },
   "outputs": [
    {
     "data": {
      "text/plain": [
       "Class\n",
       "0    284315\n",
       "1       492\n",
       "Name: count, dtype: int64"
      ]
     },
     "execution_count": 6,
     "metadata": {},
     "output_type": "execute_result"
    }
   ],
   "source": [
    "df['Class'].value_counts()"
   ]
  },
  {
   "cell_type": "code",
   "execution_count": 7,
   "id": "e97d0731",
   "metadata": {
    "execution": {
     "iopub.execute_input": "2024-01-05T08:57:13.760273Z",
     "iopub.status.busy": "2024-01-05T08:57:13.759409Z",
     "iopub.status.idle": "2024-01-05T08:57:13.974060Z",
     "shell.execute_reply": "2024-01-05T08:57:13.973058Z"
    },
    "papermill": {
     "duration": 0.224599,
     "end_time": "2024-01-05T08:57:13.976206",
     "exception": false,
     "start_time": "2024-01-05T08:57:13.751607",
     "status": "completed"
    },
    "tags": []
   },
   "outputs": [
    {
     "data": {
      "text/plain": [
       "<Axes: xlabel='Class'>"
      ]
     },
     "execution_count": 7,
     "metadata": {},
     "output_type": "execute_result"
    },
    {
     "data": {
      "image/png": "[encoded data removed]",
      "text/plain": [
       "<Figure size 640x480 with 1 Axes>"
      ]
     },
     "metadata": {},
     "output_type": "display_data"
    }
   ],
   "source": [
    "pd.value_counts(df['Class']).plot.bar()"
   ]
  },
  {
   "cell_type": "code",
   "execution_count": 8,
   "id": "9c249038",
   "metadata": {
    "execution": {
     "iopub.execute_input": "2024-01-05T08:57:13.991324Z",
     "iopub.status.busy": "2024-01-05T08:57:13.990334Z",
     "iopub.status.idle": "2024-01-05T08:57:14.015415Z",
     "shell.execute_reply": "2024-01-05T08:57:14.014463Z"
    },
    "papermill": {
     "duration": 0.03497,
     "end_time": "2024-01-05T08:57:14.017749",
     "exception": false,
     "start_time": "2024-01-05T08:57:13.982779",
     "status": "completed"
    },
    "tags": []
   },
   "outputs": [],
   "source": [
    "x=df.iloc[:,1:30]\n",
    "y=df.iloc[:,-1]"
   ]
  },
  {
   "cell_type": "code",
   "execution_count": 9,
   "id": "f5fcf1b1",
   "metadata": {
    "execution": {
     "iopub.execute_input": "2024-01-05T08:57:14.032775Z",
     "iopub.status.busy": "2024-01-05T08:57:14.032456Z",
     "iopub.status.idle": "2024-01-05T08:57:14.040203Z",
     "shell.execute_reply": "2024-01-05T08:57:14.039180Z"
    },
    "papermill": {
     "duration": 0.017948,
     "end_time": "2024-01-05T08:57:14.042565",
     "exception": false,
     "start_time": "2024-01-05T08:57:14.024617",
     "status": "completed"
    },
    "tags": []
   },
   "outputs": [
    {
     "data": {
      "text/plain": [
       "((284807, 29), (284807,))"
      ]
     },
     "execution_count": 9,
     "metadata": {},
     "output_type": "execute_result"
    }
   ],
   "source": [
    "x.shape,y.shape"
   ]
  },
  {
   "cell_type": "markdown",
   "id": "c4013414",
   "metadata": {
    "papermill": {
     "duration": 0.006097,
     "end_time": "2024-01-05T08:57:14.055451",
     "exception": false,
     "start_time": "2024-01-05T08:57:14.049354",
     "status": "completed"
    },
    "tags": []
   },
   "source": [
    "# Train Test Split"
   ]
  },
  {
   "cell_type": "code",
   "execution_count": 10,
   "id": "1ce991b4",
   "metadata": {
    "execution": {
     "iopub.execute_input": "2024-01-05T08:57:14.070466Z",
     "iopub.status.busy": "2024-01-05T08:57:14.070142Z",
     "iopub.status.idle": "2024-01-05T08:57:15.586524Z",
     "shell.execute_reply": "2024-01-05T08:57:15.585708Z"
    },
    "papermill": {
     "duration": 1.52663,
     "end_time": "2024-01-05T08:57:15.588859",
     "exception": false,
     "start_time": "2024-01-05T08:57:14.062229",
     "status": "completed"
    },
    "tags": []
   },
   "outputs": [],
   "source": [
    "from sklearn.model_selection import train_test_split\n",
    "x_train, x_test, y_train, y_test = train_test_split(x, y, test_size=0.30, random_state=42)"
   ]
  },
  {
   "cell_type": "code",
   "execution_count": 11,
   "id": "66609972",
   "metadata": {
    "execution": {
     "iopub.execute_input": "2024-01-05T08:57:15.604686Z",
     "iopub.status.busy": "2024-01-05T08:57:15.603669Z",
     "iopub.status.idle": "2024-01-05T08:57:15.614410Z",
     "shell.execute_reply": "2024-01-05T08:57:15.613393Z"
    },
    "papermill": {
     "duration": 0.021287,
     "end_time": "2024-01-05T08:57:15.616897",
     "exception": false,
     "start_time": "2024-01-05T08:57:15.595610",
     "status": "completed"
    },
    "tags": []
   },
   "outputs": [
    {
     "data": {
      "text/plain": [
       "Class\n",
       "0    199008\n",
       "1       356\n",
       "Name: count, dtype: int64"
      ]
     },
     "execution_count": 11,
     "metadata": {},
     "output_type": "execute_result"
    }
   ],
   "source": [
    "y_train.value_counts()"
   ]
  },
  {
   "cell_type": "markdown",
   "id": "7bc42277",
   "metadata": {
    "papermill": {
     "duration": 0.00739,
     "end_time": "2024-01-05T08:57:15.632614",
     "exception": false,
     "start_time": "2024-01-05T08:57:15.625224",
     "status": "completed"
    },
    "tags": []
   },
   "source": [
    "# Model Building"
   ]
  },
  {
   "cell_type": "code",
   "execution_count": 12,
   "id": "3c7ea97c",
   "metadata": {
    "execution": {
     "iopub.execute_input": "2024-01-05T08:57:15.653208Z",
     "iopub.status.busy": "2024-01-05T08:57:15.651285Z",
     "iopub.status.idle": "2024-01-05T08:57:29.495589Z",
     "shell.execute_reply": "2024-01-05T08:57:29.494283Z"
    },
    "papermill": {
     "duration": 13.857987,
     "end_time": "2024-01-05T08:57:29.498272",
     "exception": false,
     "start_time": "2024-01-05T08:57:15.640285",
     "status": "completed"
    },
    "tags": []
   },
   "outputs": [],
   "source": [
    "import tensorflow\n",
    "from tensorflow.keras.layers import Dense\n",
    "from tensorflow.keras.models import Sequential"
   ]
  },
  {
   "cell_type": "code",
   "execution_count": 13,
   "id": "745aae51",
   "metadata": {
    "execution": {
     "iopub.execute_input": "2024-01-05T08:57:29.515793Z",
     "iopub.status.busy": "2024-01-05T08:57:29.514445Z",
     "iopub.status.idle": "2024-01-05T08:57:29.519719Z",
     "shell.execute_reply": "2024-01-05T08:57:29.518630Z"
    },
    "papermill": {
     "duration": 0.015569,
     "end_time": "2024-01-05T08:57:29.521729",
     "exception": false,
     "start_time": "2024-01-05T08:57:29.506160",
     "status": "completed"
    },
    "tags": []
   },
   "outputs": [],
   "source": [
    "n_inputs=29"
   ]
  },
  {
   "cell_type": "code",
   "execution_count": 14,
   "id": "6be25ffb",
   "metadata": {
    "execution": {
     "iopub.execute_input": "2024-01-05T08:57:29.537963Z",
     "iopub.status.busy": "2024-01-05T08:57:29.537330Z",
     "iopub.status.idle": "2024-01-05T08:57:29.736485Z",
     "shell.execute_reply": "2024-01-05T08:57:29.734603Z"
    },
    "papermill": {
     "duration": 0.210333,
     "end_time": "2024-01-05T08:57:29.739235",
     "exception": false,
     "start_time": "2024-01-05T08:57:29.528902",
     "status": "completed"
    },
    "tags": []
   },
   "outputs": [],
   "source": [
    "model = Sequential()\n",
    "model.add(Dense(50, input_dim=n_inputs, activation='relu', kernel_initializer='he_uniform'))\n",
    "model.add(Dense(1, activation='sigmoid'))\n",
    "model.compile(loss='binary_crossentropy', optimizer='adam')"
   ]
  },
  {
   "cell_type": "markdown",
   "id": "39f7322e",
   "metadata": {
    "papermill": {
     "duration": 0.006426,
     "end_time": "2024-01-05T08:57:29.752663",
     "exception": false,
     "start_time": "2024-01-05T08:57:29.746237",
     "status": "completed"
    },
    "tags": []
   },
   "source": [
    "# Model Training"
   ]
  },
  {
   "cell_type": "code",
   "execution_count": 15,
   "id": "dc39ece7",
   "metadata": {
    "execution": {
     "iopub.execute_input": "2024-01-05T08:57:29.768021Z",
     "iopub.status.busy": "2024-01-05T08:57:29.767629Z",
     "iopub.status.idle": "2024-01-05T08:59:47.034411Z",
     "shell.execute_reply": "2024-01-05T08:59:47.032418Z"
    },
    "papermill": {
     "duration": 137.277258,
     "end_time": "2024-01-05T08:59:47.036800",
     "exception": false,
     "start_time": "2024-01-05T08:57:29.759542",
     "status": "completed"
    },
    "tags": []
   },
   "outputs": [
    {
     "name": "stdout",
     "output_type": "stream",
     "text": [
      "Epoch 1/10\n",
      "6231/6231 [==============================] - 15s 2ms/step - loss: 0.0238\n",
      "Epoch 2/10\n",
      "6231/6231 [==============================] - 13s 2ms/step - loss: 0.0124\n",
      "Epoch 3/10\n",
      "6231/6231 [==============================] - 14s 2ms/step - loss: 0.0131\n",
      "Epoch 4/10\n",
      "6231/6231 [==============================] - 14s 2ms/step - loss: 0.0123\n",
      "Epoch 5/10\n",
      "6231/6231 [==============================] - 14s 2ms/step - loss: 0.0087\n",
      "Epoch 6/10\n",
      "6231/6231 [==============================] - 13s 2ms/step - loss: 0.0078\n",
      "Epoch 7/10\n",
      "6231/6231 [==============================] - 13s 2ms/step - loss: 0.0063\n",
      "Epoch 8/10\n",
      "6231/6231 [==============================] - 14s 2ms/step - loss: 0.0070\n",
      "Epoch 9/10\n",
      "6231/6231 [==============================] - 14s 2ms/step - loss: 0.0071\n",
      "Epoch 10/10\n",
      "6231/6231 [==============================] - 14s 2ms/step - loss: 0.0085\n"
     ]
    },
    {
     "data": {
      "text/plain": [
       "<keras.src.callbacks.History at 0x782452c75210>"
      ]
     },
     "execution_count": 15,
     "metadata": {},
     "output_type": "execute_result"
    }
   ],
   "source": [
    "model.fit(x_train,y_train,epochs=10)"
   ]
  },
  {
   "cell_type": "markdown",
   "id": "854d0a58",
   "metadata": {
    "papermill": {
     "duration": 0.161109,
     "end_time": "2024-01-05T08:59:47.360539",
     "exception": false,
     "start_time": "2024-01-05T08:59:47.199430",
     "status": "completed"
    },
    "tags": []
   },
   "source": [
    "# ROC_AUC"
   ]
  },
  {
   "cell_type": "code",
   "execution_count": 16,
   "id": "239cb758",
   "metadata": {
    "execution": {
     "iopub.execute_input": "2024-01-05T08:59:47.685809Z",
     "iopub.status.busy": "2024-01-05T08:59:47.684741Z",
     "iopub.status.idle": "2024-01-05T08:59:52.978938Z",
     "shell.execute_reply": "2024-01-05T08:59:52.978053Z"
    },
    "papermill": {
     "duration": 5.460129,
     "end_time": "2024-01-05T08:59:52.981794",
     "exception": false,
     "start_time": "2024-01-05T08:59:47.521665",
     "status": "completed"
    },
    "tags": []
   },
   "outputs": [
    {
     "name": "stdout",
     "output_type": "stream",
     "text": [
      "2671/2671 [==============================] - 4s 1ms/step\n",
      "0.963215986688907\n"
     ]
    }
   ],
   "source": [
    "from sklearn.metrics import roc_auc_score\n",
    "y_pred=model.predict(x_test)\n",
    "\n",
    "print(roc_auc_score(y_test,y_pred))"
   ]
  },
  {
   "cell_type": "markdown",
   "id": "683c530c",
   "metadata": {
    "papermill": {
     "duration": 0.163724,
     "end_time": "2024-01-05T08:59:53.312526",
     "exception": false,
     "start_time": "2024-01-05T08:59:53.148802",
     "status": "completed"
    },
    "tags": []
   },
   "source": [
    "# Weighted Neural Networks with Keras"
   ]
  },
  {
   "cell_type": "code",
   "execution_count": 17,
   "id": "1884a7a4",
   "metadata": {
    "execution": {
     "iopub.execute_input": "2024-01-05T08:59:53.647891Z",
     "iopub.status.busy": "2024-01-05T08:59:53.647246Z",
     "iopub.status.idle": "2024-01-05T08:59:53.651036Z",
     "shell.execute_reply": "2024-01-05T08:59:53.650411Z"
    },
    "papermill": {
     "duration": 0.172092,
     "end_time": "2024-01-05T08:59:53.652893",
     "exception": false,
     "start_time": "2024-01-05T08:59:53.480801",
     "status": "completed"
    },
    "tags": []
   },
   "outputs": [],
   "source": [
    "weights={0:1,1:550}"
   ]
  },
  {
   "cell_type": "code",
   "execution_count": 18,
   "id": "51ce1c12",
   "metadata": {
    "execution": {
     "iopub.execute_input": "2024-01-05T08:59:54.046909Z",
     "iopub.status.busy": "2024-01-05T08:59:54.046531Z",
     "iopub.status.idle": "2024-01-05T08:59:54.086586Z",
     "shell.execute_reply": "2024-01-05T08:59:54.084894Z"
    },
    "papermill": {
     "duration": 0.270964,
     "end_time": "2024-01-05T08:59:54.089773",
     "exception": false,
     "start_time": "2024-01-05T08:59:53.818809",
     "status": "completed"
    },
    "tags": []
   },
   "outputs": [],
   "source": [
    "model = Sequential()\n",
    "model.add(Dense(50, input_dim=n_inputs, activation='relu', kernel_initializer='he_uniform'))\n",
    "model.add(Dense(1, activation='sigmoid'))\n",
    "model.compile(loss='binary_crossentropy', optimizer='adam')"
   ]
  },
  {
   "cell_type": "markdown",
   "id": "bbca7720",
   "metadata": {
    "papermill": {
     "duration": 0.165492,
     "end_time": "2024-01-05T08:59:54.420928",
     "exception": false,
     "start_time": "2024-01-05T08:59:54.255436",
     "status": "completed"
    },
    "tags": []
   },
   "source": [
    "# Model Training pt2"
   ]
  },
  {
   "cell_type": "code",
   "execution_count": 19,
   "id": "02f9b795",
   "metadata": {
    "execution": {
     "iopub.execute_input": "2024-01-05T08:59:54.758180Z",
     "iopub.status.busy": "2024-01-05T08:59:54.757762Z",
     "iopub.status.idle": "2024-01-05T09:02:26.472687Z",
     "shell.execute_reply": "2024-01-05T09:02:26.471789Z"
    },
    "papermill": {
     "duration": 151.988784,
     "end_time": "2024-01-05T09:02:26.576735",
     "exception": false,
     "start_time": "2024-01-05T08:59:54.587951",
     "status": "completed"
    },
    "tags": []
   },
   "outputs": [
    {
     "name": "stdout",
     "output_type": "stream",
     "text": [
      "Epoch 1/10\n",
      "6231/6231 [==============================] - 16s 2ms/step - loss: 3.1118\n",
      "Epoch 2/10\n",
      "6231/6231 [==============================] - 15s 2ms/step - loss: 2.4998\n",
      "Epoch 3/10\n",
      "6231/6231 [==============================] - 15s 2ms/step - loss: 2.6277\n",
      "Epoch 4/10\n",
      "6231/6231 [==============================] - 16s 3ms/step - loss: 2.9031\n",
      "Epoch 5/10\n",
      "6231/6231 [==============================] - 15s 2ms/step - loss: 1.7129\n",
      "Epoch 6/10\n",
      "6231/6231 [==============================] - 15s 2ms/step - loss: 2.6200\n",
      "Epoch 7/10\n",
      "6231/6231 [==============================] - 15s 2ms/step - loss: 2.8496\n",
      "Epoch 8/10\n",
      "6231/6231 [==============================] - 15s 2ms/step - loss: 2.8792\n",
      "Epoch 9/10\n",
      "6231/6231 [==============================] - 15s 2ms/step - loss: 2.7642\n",
      "Epoch 10/10\n",
      "6231/6231 [==============================] - 15s 2ms/step - loss: 2.7071\n"
     ]
    },
    {
     "data": {
      "text/plain": [
       "<keras.src.callbacks.History at 0x782452e30940>"
      ]
     },
     "execution_count": 19,
     "metadata": {},
     "output_type": "execute_result"
    }
   ],
   "source": [
    "model.fit(x_train,y_train,class_weight=weights,epochs=10)"
   ]
  },
  {
   "cell_type": "markdown",
   "id": "313c5441",
   "metadata": {
    "papermill": {
     "duration": 0.349716,
     "end_time": "2024-01-05T09:02:27.269023",
     "exception": false,
     "start_time": "2024-01-05T09:02:26.919307",
     "status": "completed"
    },
    "tags": []
   },
   "source": [
    "# Prediction"
   ]
  },
  {
   "cell_type": "code",
   "execution_count": 20,
   "id": "3c5b33a4",
   "metadata": {
    "execution": {
     "iopub.execute_input": "2024-01-05T09:02:28.015766Z",
     "iopub.status.busy": "2024-01-05T09:02:28.015429Z",
     "iopub.status.idle": "2024-01-05T09:02:32.315881Z",
     "shell.execute_reply": "2024-01-05T09:02:32.314662Z"
    },
    "papermill": {
     "duration": 4.708376,
     "end_time": "2024-01-05T09:02:32.318455",
     "exception": false,
     "start_time": "2024-01-05T09:02:27.610079",
     "status": "completed"
    },
    "tags": []
   },
   "outputs": [
    {
     "name": "stdout",
     "output_type": "stream",
     "text": [
      "2671/2671 [==============================] - 3s 1ms/step\n"
     ]
    }
   ],
   "source": [
    "y_pred_final=model.predict(x_test)\n"
   ]
  },
  {
   "cell_type": "code",
   "execution_count": 21,
   "id": "9465289a",
   "metadata": {
    "execution": {
     "iopub.execute_input": "2024-01-05T09:02:33.012611Z",
     "iopub.status.busy": "2024-01-05T09:02:33.012187Z",
     "iopub.status.idle": "2024-01-05T09:02:33.041443Z",
     "shell.execute_reply": "2024-01-05T09:02:33.040348Z"
    },
    "papermill": {
     "duration": 0.378695,
     "end_time": "2024-01-05T09:02:33.043576",
     "exception": false,
     "start_time": "2024-01-05T09:02:32.664881",
     "status": "completed"
    },
    "tags": []
   },
   "outputs": [
    {
     "data": {
      "text/plain": [
       "0.9659816034681659"
      ]
     },
     "execution_count": 21,
     "metadata": {},
     "output_type": "execute_result"
    }
   ],
   "source": [
    "roc_auc_score(y_test,y_pred_final)"
   ]
  }
 ],
 "metadata": {
  "kaggle": {
   "accelerator": "none",
   "dataSources": [
    {
     "datasetId": 310,
     "sourceId": 23498,
     "sourceType": "datasetVersion"
    }
   ],
   "dockerImageVersionId": 30626,
   "isGpuEnabled": false,
   "isInternetEnabled": true,
   "language": "python",
   "sourceType": "notebook"
  },
  "kernelspec": {
   "display_name": "Python 3",
   "language": "python",
   "name": "python3"
  },
  "language_info": {
   "codemirror_mode": {
    "name": "ipython",
    "version": 3
   },
   "file_extension": ".py",
   "mimetype": "text/x-python",
   "name": "python",
   "nbconvert_exporter": "python",
   "pygments_lexer": "ipython3",
   "version": "3.10.12"
  },
  "papermill": {
   "default_parameters": {},
   "duration": 329.385252,
   "end_time": "2024-01-05T09:02:36.121254",
   "environment_variables": {},
   "exception": null,
   "input_path": "__notebook__.ipynb",
   "output_path": "__notebook__.ipynb",
   "parameters": {},
   "start_time": "2024-01-05T08:57:06.736002",
   "version": "2.4.0"
  }
 },
 "nbformat": 4,
 "nbformat_minor": 5
}
