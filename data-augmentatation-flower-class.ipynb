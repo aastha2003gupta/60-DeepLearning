{
 "cells": [
  {
   "cell_type": "markdown",
   "id": "8758134b",
   "metadata": {
    "papermill": {
     "duration": 0.011275,
     "end_time": "2023-12-08T17:25:57.768749",
     "exception": false,
     "start_time": "2023-12-08T17:25:57.757474",
     "status": "completed"
    },
    "tags": []
   },
   "source": [
    "# Importing Dependencies"
   ]
  },
  {
   "cell_type": "code",
   "execution_count": 1,
   "id": "ea96c386",
   "metadata": {
    "execution": {
     "iopub.execute_input": "2023-12-08T17:25:57.792942Z",
     "iopub.status.busy": "2023-12-08T17:25:57.792384Z",
     "iopub.status.idle": "2023-12-08T17:26:14.117080Z",
     "shell.execute_reply": "2023-12-08T17:26:14.115675Z"
    },
    "papermill": {
     "duration": 16.340905,
     "end_time": "2023-12-08T17:26:14.120477",
     "exception": false,
     "start_time": "2023-12-08T17:25:57.779572",
     "status": "completed"
    },
    "tags": []
   },
   "outputs": [],
   "source": [
    "import matplotlib.pyplot as plt\n",
    "import numpy as np\n",
    "import pathlib\n",
    "import cv2 \n",
    "import os\n",
    "import PIL\n",
    "import tensorflow as tf\n",
    "from tensorflow import keras\n",
    "from tensorflow.keras import layers\n",
    "from tensorflow.keras.models import Sequential"
   ]
  },
  {
   "cell_type": "markdown",
   "id": "385662a1",
   "metadata": {
    "papermill": {
     "duration": 0.010238,
     "end_time": "2023-12-08T17:26:14.141582",
     "exception": false,
     "start_time": "2023-12-08T17:26:14.131344",
     "status": "completed"
    },
    "tags": []
   },
   "source": [
    "# Loading Dataset"
   ]
  },
  {
   "cell_type": "code",
   "execution_count": 2,
   "id": "66bc2019",
   "metadata": {
    "execution": {
     "iopub.execute_input": "2023-12-08T17:26:14.165590Z",
     "iopub.status.busy": "2023-12-08T17:26:14.164703Z",
     "iopub.status.idle": "2023-12-08T17:26:19.253874Z",
     "shell.execute_reply": "2023-12-08T17:26:19.252661Z"
    },
    "papermill": {
     "duration": 5.105127,
     "end_time": "2023-12-08T17:26:19.257327",
     "exception": false,
     "start_time": "2023-12-08T17:26:14.152200",
     "status": "completed"
    },
    "tags": []
   },
   "outputs": [
    {
     "name": "stdout",
     "output_type": "stream",
     "text": [
      "Downloading data from https://storage.googleapis.com/download.tensorflow.org/example_images/flower_photos.tgz\n",
      "228813984/228813984 [==============================] - 2s 0us/step\n"
     ]
    }
   ],
   "source": [
    "dataset_url = \"https://storage.googleapis.com/download.tensorflow.org/example_images/flower_photos.tgz\"\n",
    "direc=tf.keras.utils.get_file('flower_photos',origin=dataset_url,cache_dir='.', untar=True)"
   ]
  },
  {
   "cell_type": "markdown",
   "id": "7fccebe7",
   "metadata": {
    "papermill": {
     "duration": 0.01349,
     "end_time": "2023-12-08T17:26:19.285113",
     "exception": false,
     "start_time": "2023-12-08T17:26:19.271623",
     "status": "completed"
    },
    "tags": []
   },
   "source": [
    "# Global Path"
   ]
  },
  {
   "cell_type": "code",
   "execution_count": 3,
   "id": "1d43efd6",
   "metadata": {
    "execution": {
     "iopub.execute_input": "2023-12-08T17:26:19.315208Z",
     "iopub.status.busy": "2023-12-08T17:26:19.314743Z",
     "iopub.status.idle": "2023-12-08T17:26:19.324145Z",
     "shell.execute_reply": "2023-12-08T17:26:19.322821Z"
    },
    "papermill": {
     "duration": 0.027425,
     "end_time": "2023-12-08T17:26:19.326520",
     "exception": false,
     "start_time": "2023-12-08T17:26:19.299095",
     "status": "completed"
    },
    "tags": []
   },
   "outputs": [
    {
     "data": {
      "text/plain": [
       "'./datasets/flower_photos'"
      ]
     },
     "execution_count": 3,
     "metadata": {},
     "output_type": "execute_result"
    }
   ],
   "source": [
    "direc"
   ]
  },
  {
   "cell_type": "code",
   "execution_count": 4,
   "id": "9ef527b4",
   "metadata": {
    "execution": {
     "iopub.execute_input": "2023-12-08T17:26:19.358624Z",
     "iopub.status.busy": "2023-12-08T17:26:19.356960Z",
     "iopub.status.idle": "2023-12-08T17:26:19.366453Z",
     "shell.execute_reply": "2023-12-08T17:26:19.365050Z"
    },
    "papermill": {
     "duration": 0.028731,
     "end_time": "2023-12-08T17:26:19.369271",
     "exception": false,
     "start_time": "2023-12-08T17:26:19.340540",
     "status": "completed"
    },
    "tags": []
   },
   "outputs": [
    {
     "data": {
      "text/plain": [
       "PosixPath('datasets/flower_photos')"
      ]
     },
     "execution_count": 4,
     "metadata": {},
     "output_type": "execute_result"
    }
   ],
   "source": [
    "direc=pathlib.Path(direc)\n",
    "direc"
   ]
  },
  {
   "cell_type": "code",
   "execution_count": 5,
   "id": "9db66efe",
   "metadata": {
    "execution": {
     "iopub.execute_input": "2023-12-08T17:26:19.401378Z",
     "iopub.status.busy": "2023-12-08T17:26:19.400951Z",
     "iopub.status.idle": "2023-12-08T17:26:19.462562Z",
     "shell.execute_reply": "2023-12-08T17:26:19.461282Z"
    },
    "papermill": {
     "duration": 0.085357,
     "end_time": "2023-12-08T17:26:19.469456",
     "exception": false,
     "start_time": "2023-12-08T17:26:19.384099",
     "status": "completed"
    },
    "tags": []
   },
   "outputs": [
    {
     "data": {
      "text/plain": [
       "[PosixPath('datasets/flower_photos/daisy/14866200659_6462c723cb_m.jpg'),\n",
       " PosixPath('datasets/flower_photos/daisy/134409839_71069a95d1_m.jpg'),\n",
       " PosixPath('datasets/flower_photos/daisy/1306119996_ab8ae14d72_n.jpg'),\n",
       " PosixPath('datasets/flower_photos/daisy/13583238844_573df2de8e_m.jpg'),\n",
       " PosixPath('datasets/flower_photos/daisy/14569895116_32f0dcb0f9.jpg'),\n",
       " PosixPath('datasets/flower_photos/daisy/18354545086_693ea7bc2a.jpg'),\n",
       " PosixPath('datasets/flower_photos/daisy/2901376034_cdb4bac26b_m.jpg'),\n",
       " PosixPath('datasets/flower_photos/daisy/7066602021_2647457985_m.jpg'),\n",
       " PosixPath('datasets/flower_photos/daisy/3098641292_76c908ba1f_n.jpg'),\n",
       " PosixPath('datasets/flower_photos/daisy/2365428551_39f83f10bf_n.jpg'),\n",
       " PosixPath('datasets/flower_photos/daisy/3661613900_b15ca1d35d_m.jpg'),\n",
       " PosixPath('datasets/flower_photos/daisy/16291797949_a1b1b7c2bd_n.jpg'),\n",
       " PosixPath('datasets/flower_photos/daisy/18582579815_4c6637e9ff_m.jpg'),\n",
       " PosixPath('datasets/flower_photos/daisy/5796562389_ae43c83317_m.jpg'),\n",
       " PosixPath('datasets/flower_photos/daisy/7410356270_9dff4d0e2e_n.jpg'),\n",
       " PosixPath('datasets/flower_photos/daisy/5869147563_66fb88119d.jpg'),\n",
       " PosixPath('datasets/flower_photos/daisy/16360180712_b72695928c_n.jpg'),\n",
       " PosixPath('datasets/flower_photos/daisy/17249393016_093e915012_n.jpg'),\n",
       " PosixPath('datasets/flower_photos/daisy/4144275653_7c02d47d9b.jpg'),\n",
       " PosixPath('datasets/flower_photos/daisy/3468498624_d082f99e98.jpg'),\n",
       " PosixPath('datasets/flower_photos/daisy/10555749515_13a12a026e.jpg'),\n",
       " PosixPath('datasets/flower_photos/daisy/7924174040_444d5bbb8a.jpg'),\n",
       " PosixPath('datasets/flower_photos/daisy/12585131704_0f64b17059_m.jpg'),\n",
       " PosixPath('datasets/flower_photos/daisy/15760153042_a2a90e9da5_m.jpg'),\n",
       " PosixPath('datasets/flower_photos/daisy/10559679065_50d2b16f6d.jpg'),\n",
       " PosixPath('datasets/flower_photos/daisy/5853276960_d08f90fff6.jpg'),\n",
       " PosixPath('datasets/flower_photos/daisy/8882282142_9be2524d38_m.jpg'),\n",
       " PosixPath('datasets/flower_photos/daisy/22873310415_3a5674ec10_m.jpg'),\n",
       " PosixPath('datasets/flower_photos/daisy/4229503616_9b8a42123c_n.jpg'),\n",
       " PosixPath('datasets/flower_photos/daisy/391364010_4b0942d400_m.jpg'),\n",
       " PosixPath('datasets/flower_photos/daisy/450128527_fd35742d44.jpg'),\n",
       " PosixPath('datasets/flower_photos/daisy/8759177308_951790e00d_m.jpg'),\n",
       " PosixPath('datasets/flower_photos/daisy/10172636503_21bededa75_n.jpg'),\n",
       " PosixPath('datasets/flower_photos/daisy/452854574_59492f119a_m.jpg'),\n",
       " PosixPath('datasets/flower_photos/daisy/19834392829_7d697871f6.jpg'),\n",
       " PosixPath('datasets/flower_photos/daisy/18023717391_e2c9089e10.jpg'),\n",
       " PosixPath('datasets/flower_photos/daisy/3704305945_a80e60e2f6_m.jpg'),\n",
       " PosixPath('datasets/flower_photos/daisy/14333681205_a07c9f1752_m.jpg'),\n",
       " PosixPath('datasets/flower_photos/daisy/5626784099_b36dd3fb11_n.jpg'),\n",
       " PosixPath('datasets/flower_photos/daisy/8382667241_0f046cecdb_n.jpg'),\n",
       " PosixPath('datasets/flower_photos/daisy/4565255237_9ba29c4d4e_n.jpg'),\n",
       " PosixPath('datasets/flower_photos/daisy/13977181862_f8237b6b52.jpg'),\n",
       " PosixPath('datasets/flower_photos/daisy/17357636476_1953c07aa4_n.jpg'),\n",
       " PosixPath('datasets/flower_photos/daisy/3704306975_75b74497d8.jpg'),\n",
       " PosixPath('datasets/flower_photos/daisy/5881907044_92a85a05c8_n.jpg'),\n",
       " PosixPath('datasets/flower_photos/daisy/3410906335_37e8a24b1c_n.jpg'),\n",
       " PosixPath('datasets/flower_photos/daisy/3627678863_557552c879_m.jpg'),\n",
       " PosixPath('datasets/flower_photos/daisy/3504430338_77d6a7fab4_n.jpg'),\n",
       " PosixPath('datasets/flower_photos/daisy/6136947177_47ff445eb4_n.jpg'),\n",
       " PosixPath('datasets/flower_photos/daisy/4837182901_69a6cc782b_n.jpg'),\n",
       " PosixPath('datasets/flower_photos/daisy/20329326505_a777c71cc2.jpg'),\n",
       " PosixPath('datasets/flower_photos/daisy/12891819633_e4c82b51e8.jpg'),\n",
       " PosixPath('datasets/flower_photos/daisy/5948835387_5a98d39eff_m.jpg'),\n",
       " PosixPath('datasets/flower_photos/daisy/2488902131_3417698611_n.jpg'),\n",
       " PosixPath('datasets/flower_photos/daisy/4657354814_f368762c53_m.jpg'),\n",
       " PosixPath('datasets/flower_photos/daisy/5665838969_fe217988b9_m.jpg'),\n",
       " PosixPath('datasets/flower_photos/daisy/6864242336_0d12713fe5_n.jpg'),\n",
       " PosixPath('datasets/flower_photos/daisy/1140299375_3aa7024466.jpg'),\n",
       " PosixPath('datasets/flower_photos/daisy/14591326135_930703dbed_m.jpg'),\n",
       " PosixPath('datasets/flower_photos/daisy/19178753159_a471bf4b6b.jpg'),\n",
       " PosixPath('datasets/flower_photos/daisy/2045022175_ad087f5f60_n.jpg'),\n",
       " PosixPath('datasets/flower_photos/daisy/9922116524_ab4a2533fe_n.jpg'),\n",
       " PosixPath('datasets/flower_photos/daisy/5110105726_53eb7a93be_m.jpg'),\n",
       " PosixPath('datasets/flower_photos/daisy/4538877108_3c793f7987_m.jpg'),\n",
       " PosixPath('datasets/flower_photos/daisy/5773652803_574b51414f_n.jpg'),\n",
       " PosixPath('datasets/flower_photos/daisy/5809489674_5659b3ae5d_n.jpg'),\n",
       " PosixPath('datasets/flower_photos/daisy/6480809771_b1e14c5cc2_m.jpg'),\n",
       " PosixPath('datasets/flower_photos/daisy/1392131677_116ec04751.jpg'),\n",
       " PosixPath('datasets/flower_photos/daisy/1392946544_115acbb2d9.jpg'),\n",
       " PosixPath('datasets/flower_photos/daisy/4276898893_609d11db8b.jpg'),\n",
       " PosixPath('datasets/flower_photos/daisy/7630511450_02d3292e90.jpg'),\n",
       " PosixPath('datasets/flower_photos/daisy/302782756_d35cb3e468.jpg'),\n",
       " PosixPath('datasets/flower_photos/daisy/162362896_99c7d851c8_n.jpg'),\n",
       " PosixPath('datasets/flower_photos/daisy/4613992315_143ccc2a10_m.jpg'),\n",
       " PosixPath('datasets/flower_photos/daisy/2454280137_e1637536ae_n.jpg'),\n",
       " PosixPath('datasets/flower_photos/daisy/3275951182_d27921af97_n.jpg'),\n",
       " PosixPath('datasets/flower_photos/daisy/3713290261_8a66de23ab.jpg'),\n",
       " PosixPath('datasets/flower_photos/daisy/174131220_c853df1287.jpg'),\n",
       " PosixPath('datasets/flower_photos/daisy/18679421522_3be9879e32.jpg'),\n",
       " PosixPath('datasets/flower_photos/daisy/4534460263_8e9611db3c_n.jpg'),\n",
       " PosixPath('datasets/flower_photos/daisy/5602738326_97121e007d_n.jpg'),\n",
       " PosixPath('datasets/flower_photos/daisy/3337536080_1db19964fe.jpg'),\n",
       " PosixPath('datasets/flower_photos/daisy/172967318_c596d082cc.jpg'),\n",
       " PosixPath('datasets/flower_photos/daisy/6950173662_5e9473003e_n.jpg'),\n",
       " PosixPath('datasets/flower_photos/daisy/5794835_d15905c7c8_n.jpg'),\n",
       " PosixPath('datasets/flower_photos/daisy/20685027271_0e7306e7c1_n.jpg'),\n",
       " PosixPath('datasets/flower_photos/daisy/422094774_28acc69a8b_n.jpg'),\n",
       " PosixPath('datasets/flower_photos/daisy/22244161124_53e457bb66_n.jpg'),\n",
       " PosixPath('datasets/flower_photos/daisy/476857510_d2b30175de_n.jpg'),\n",
       " PosixPath('datasets/flower_photos/daisy/6207492986_0ff91f3296.jpg'),\n",
       " PosixPath('datasets/flower_photos/daisy/6480809573_76a0074b69_n.jpg'),\n",
       " PosixPath('datasets/flower_photos/daisy/15784493690_b1858cdb2b_n.jpg'),\n",
       " PosixPath('datasets/flower_photos/daisy/4669117051_ce61e91b76.jpg'),\n",
       " PosixPath('datasets/flower_photos/daisy/15207766_fc2f1d692c_n.jpg'),\n",
       " PosixPath('datasets/flower_photos/daisy/10437770546_8bb6f7bdd3_m.jpg'),\n",
       " PosixPath('datasets/flower_photos/daisy/8681746439_d6beeefbf9.jpg'),\n",
       " PosixPath('datasets/flower_photos/daisy/10172379554_b296050f82_n.jpg'),\n",
       " PosixPath('datasets/flower_photos/daisy/8706810197_17b6c1f1e7.jpg'),\n",
       " PosixPath('datasets/flower_photos/daisy/695778683_890c46ebac.jpg'),\n",
       " PosixPath('datasets/flower_photos/daisy/835750256_3f91a147ef_n.jpg'),\n",
       " PosixPath('datasets/flower_photos/daisy/6884975451_c74f445d69_m.jpg'),\n",
       " PosixPath('datasets/flower_photos/daisy/8071646795_2fdc89ab7a_n.jpg'),\n",
       " PosixPath('datasets/flower_photos/daisy/5110110938_9da91455c4_m.jpg'),\n",
       " PosixPath('datasets/flower_photos/daisy/99306615_739eb94b9e_m.jpg'),\n",
       " PosixPath('datasets/flower_photos/daisy/13491959645_2cd9df44d6_n.jpg'),\n",
       " PosixPath('datasets/flower_photos/daisy/14698531521_0c2f0c6539.jpg'),\n",
       " PosixPath('datasets/flower_photos/daisy/2666572212_2caca8de9f_n.jpg'),\n",
       " PosixPath('datasets/flower_photos/daisy/3546455114_cd2dea5e02.jpg'),\n",
       " PosixPath('datasets/flower_photos/daisy/1879567877_8ed2a5faa7_n.jpg'),\n",
       " PosixPath('datasets/flower_photos/daisy/12601254324_3cb62c254a_m.jpg'),\n",
       " PosixPath('datasets/flower_photos/daisy/8619103877_d8c82c5f34_n.jpg'),\n",
       " PosixPath('datasets/flower_photos/daisy/4286053334_a75541f20b_m.jpg'),\n",
       " PosixPath('datasets/flower_photos/daisy/11891885265_ccefec7284_n.jpg'),\n",
       " PosixPath('datasets/flower_photos/daisy/4496202781_1d8e776ff5_n.jpg'),\n",
       " PosixPath('datasets/flower_photos/daisy/1354396826_2868631432_m.jpg'),\n",
       " PosixPath('datasets/flower_photos/daisy/4610018126_21f438d2dc_m.jpg'),\n",
       " PosixPath('datasets/flower_photos/daisy/13901930939_a7733c03f0_n.jpg'),\n",
       " PosixPath('datasets/flower_photos/daisy/13826249325_f61cb15f86_n.jpg'),\n",
       " PosixPath('datasets/flower_photos/daisy/3456403987_5bd5fa6ece_n.jpg'),\n",
       " PosixPath('datasets/flower_photos/daisy/2514748602_343d4727c0_n.jpg'),\n",
       " PosixPath('datasets/flower_photos/daisy/20182559506_40a112f762.jpg'),\n",
       " PosixPath('datasets/flower_photos/daisy/9611923744_013b29e4da_n.jpg'),\n",
       " PosixPath('datasets/flower_photos/daisy/3957488431_52a447c0e8_m.jpg'),\n",
       " PosixPath('datasets/flower_photos/daisy/18195689904_46619b7e16_n.jpg'),\n",
       " PosixPath('datasets/flower_photos/daisy/15813862117_dedcd1c56f_m.jpg'),\n",
       " PosixPath('datasets/flower_photos/daisy/14564545365_1f1d267bf1_n.jpg'),\n",
       " PosixPath('datasets/flower_photos/daisy/5765646947_82e95a9cc9_n.jpg'),\n",
       " PosixPath('datasets/flower_photos/daisy/19653086178_28156b7ce4_m.jpg'),\n",
       " PosixPath('datasets/flower_photos/daisy/1031799732_e7f4008c03.jpg'),\n",
       " PosixPath('datasets/flower_photos/daisy/11023277956_8980d53169_m.jpg'),\n",
       " PosixPath('datasets/flower_photos/daisy/14523675369_97c31d0b5b.jpg'),\n",
       " PosixPath('datasets/flower_photos/daisy/3764116502_f394428ee0_n.jpg'),\n",
       " PosixPath('datasets/flower_photos/daisy/3475870145_685a19116d.jpg'),\n",
       " PosixPath('datasets/flower_photos/daisy/5795159787_ebb51a5e75.jpg'),\n",
       " PosixPath('datasets/flower_photos/daisy/367020749_3c9a652d75.jpg'),\n",
       " PosixPath('datasets/flower_photos/daisy/10555826524_423eb8bf71_n.jpg'),\n",
       " PosixPath('datasets/flower_photos/daisy/5109508979_68e3530791_m.jpg'),\n",
       " PosixPath('datasets/flower_photos/daisy/8085329197_41d53a21e2_n.jpg'),\n",
       " PosixPath('datasets/flower_photos/daisy/10466290366_cc72e33532.jpg'),\n",
       " PosixPath('datasets/flower_photos/daisy/9175280426_40ecc395b8_m.jpg'),\n",
       " PosixPath('datasets/flower_photos/daisy/5512287917_9f5d3f0f98_n.jpg'),\n",
       " PosixPath('datasets/flower_photos/daisy/2561352120_7961d8263f.jpg'),\n",
       " PosixPath('datasets/flower_photos/daisy/7191221492_610035de7c_m.jpg'),\n",
       " PosixPath('datasets/flower_photos/daisy/8645839873_0151fb92bf_n.jpg'),\n",
       " PosixPath('datasets/flower_photos/daisy/799964360_7e07a227ea_n.jpg'),\n",
       " PosixPath('datasets/flower_photos/daisy/9321854387_5f77c926cb_n.jpg'),\n",
       " PosixPath('datasets/flower_photos/daisy/100080576_f52e8ee070_n.jpg'),\n",
       " PosixPath('datasets/flower_photos/daisy/705422469_ffa28c566d.jpg'),\n",
       " PosixPath('datasets/flower_photos/daisy/3506866918_61dd5fc53b_n.jpg'),\n",
       " PosixPath('datasets/flower_photos/daisy/721595842_bacd80a6ac.jpg'),\n",
       " PosixPath('datasets/flower_photos/daisy/9244082319_b1f7e2d8b0_n.jpg'),\n",
       " PosixPath('datasets/flower_photos/daisy/5769217520_c90efc3c93_m.jpg'),\n",
       " PosixPath('datasets/flower_photos/daisy/433837534_1dbf798b73.jpg'),\n",
       " PosixPath('datasets/flower_photos/daisy/2590291468_2635d3e4e0_n.jpg'),\n",
       " PosixPath('datasets/flower_photos/daisy/506348009_9ecff8b6ef.jpg'),\n",
       " PosixPath('datasets/flower_photos/daisy/9467543719_c4800becbb_m.jpg'),\n",
       " PosixPath('datasets/flower_photos/daisy/8446495985_f72d851482.jpg'),\n",
       " PosixPath('datasets/flower_photos/daisy/8709535323_a6bea3e43f.jpg'),\n",
       " PosixPath('datasets/flower_photos/daisy/8708143485_38d084ac8c_n.jpg'),\n",
       " PosixPath('datasets/flower_photos/daisy/8718637649_87a0d85190_n.jpg'),\n",
       " PosixPath('datasets/flower_photos/daisy/14471433500_cdaa22e3ea_m.jpg'),\n",
       " PosixPath('datasets/flower_photos/daisy/12193032636_b50ae7db35_n.jpg'),\n",
       " PosixPath('datasets/flower_photos/daisy/4065883015_4bb6010cb7_n.jpg'),\n",
       " PosixPath('datasets/flower_photos/daisy/3080880039_4f1bd592e5_n.jpg'),\n",
       " PosixPath('datasets/flower_photos/daisy/172882635_4cc7b86731_m.jpg'),\n",
       " PosixPath('datasets/flower_photos/daisy/676120388_28f03069c3.jpg'),\n",
       " PosixPath('datasets/flower_photos/daisy/8742143296_fed9fa007c.jpg'),\n",
       " PosixPath('datasets/flower_photos/daisy/391364011_5beaaa1ae2_m.jpg'),\n",
       " PosixPath('datasets/flower_photos/daisy/8696022686_1f8d62c5cb_m.jpg'),\n",
       " PosixPath('datasets/flower_photos/daisy/498159452_b71afd65ba.jpg'),\n",
       " PosixPath('datasets/flower_photos/daisy/4923279674_e7f8e70794_n.jpg'),\n",
       " PosixPath('datasets/flower_photos/daisy/4563059851_45a9d21a75.jpg'),\n",
       " PosixPath('datasets/flower_photos/daisy/301964511_fab84ea1c1.jpg'),\n",
       " PosixPath('datasets/flower_photos/daisy/4318007511_e9f4311936_n.jpg'),\n",
       " PosixPath('datasets/flower_photos/daisy/4434592930_6610d51fca_m.jpg'),\n",
       " PosixPath('datasets/flower_photos/daisy/10841136265_af473efc60.jpg'),\n",
       " PosixPath('datasets/flower_photos/daisy/520752848_4b87fb91a4.jpg'),\n",
       " PosixPath('datasets/flower_photos/daisy/3699235066_fc09a02dfe_m.jpg'),\n",
       " PosixPath('datasets/flower_photos/daisy/3703643767_dee82cdef9_n.jpg'),\n",
       " PosixPath('datasets/flower_photos/daisy/1441939151_b271408c8d_n.jpg'),\n",
       " PosixPath('datasets/flower_photos/daisy/4858518329_7563eb0baa_m.jpg'),\n",
       " PosixPath('datasets/flower_photos/daisy/154332674_453cea64f4.jpg'),\n",
       " PosixPath('datasets/flower_photos/daisy/2551708158_1f10e81e11.jpg'),\n",
       " PosixPath('datasets/flower_photos/daisy/7416083788_fcb4c4f27e_n.jpg'),\n",
       " PosixPath('datasets/flower_photos/daisy/8938566373_d129e7af75.jpg'),\n",
       " PosixPath('datasets/flower_photos/daisy/5944315415_2be8abeb2f_m.jpg'),\n",
       " PosixPath('datasets/flower_photos/daisy/4697206799_19dd2a3193_m.jpg'),\n",
       " PosixPath('datasets/flower_photos/daisy/11834945233_a53b7a92ac_m.jpg'),\n",
       " PosixPath('datasets/flower_photos/daisy/4757448834_a29a9538c9_n.jpg'),\n",
       " PosixPath('datasets/flower_photos/daisy/3117644024_1cbb59a509_n.jpg'),\n",
       " PosixPath('datasets/flower_photos/daisy/3415180846_d7b5cced14_m.jpg'),\n",
       " PosixPath('datasets/flower_photos/daisy/9489270024_1b05f08492_m.jpg'),\n",
       " PosixPath('datasets/flower_photos/daisy/8094774544_35465c1c64.jpg'),\n",
       " PosixPath('datasets/flower_photos/daisy/299129811_d6ebda9970.jpg'),\n",
       " PosixPath('datasets/flower_photos/daisy/2632216904_274aa17433.jpg'),\n",
       " PosixPath('datasets/flower_photos/daisy/253426762_9793d43fcd.jpg'),\n",
       " PosixPath('datasets/flower_photos/daisy/8964198962_6d8593b533.jpg'),\n",
       " PosixPath('datasets/flower_photos/daisy/3758221664_b19116d61f.jpg'),\n",
       " PosixPath('datasets/flower_photos/daisy/2556503265_63ae6b9e0e_m.jpg'),\n",
       " PosixPath('datasets/flower_photos/daisy/3975010332_3209f9f447_m.jpg'),\n",
       " PosixPath('datasets/flower_photos/daisy/3900172983_9312fdf39c_n.jpg'),\n",
       " PosixPath('datasets/flower_photos/daisy/2480569557_f4e1f0dcb8_n.jpg'),\n",
       " PosixPath('datasets/flower_photos/daisy/10994032453_ac7f8d9e2e.jpg'),\n",
       " PosixPath('datasets/flower_photos/daisy/14221836990_90374e6b34.jpg'),\n",
       " PosixPath('datasets/flower_photos/daisy/9094631844_1a6abca29e.jpg'),\n",
       " PosixPath('datasets/flower_photos/daisy/7630520686_e3a61ac763.jpg'),\n",
       " PosixPath('datasets/flower_photos/daisy/20580471306_ab5a011b15_n.jpg'),\n",
       " PosixPath('datasets/flower_photos/daisy/5626895440_97a0ec04c2_n.jpg'),\n",
       " PosixPath('datasets/flower_photos/daisy/2862944799_45bc8e7302.jpg'),\n",
       " PosixPath('datasets/flower_photos/daisy/20703737132_179560d0fb.jpg'),\n",
       " PosixPath('datasets/flower_photos/daisy/9350942387_5b1d043c26_n.jpg'),\n",
       " PosixPath('datasets/flower_photos/daisy/4482623536_b9fb5ae41f_n.jpg'),\n",
       " PosixPath('datasets/flower_photos/daisy/4993492878_11fd4f5d12.jpg'),\n",
       " PosixPath('datasets/flower_photos/daisy/4581199679_867652c3f1_n.jpg'),\n",
       " PosixPath('datasets/flower_photos/daisy/8383753520_8391dd80ee_m.jpg'),\n",
       " PosixPath('datasets/flower_photos/daisy/2561371688_c80a4fe957_n.jpg'),\n",
       " PosixPath('datasets/flower_photos/daisy/14554906452_35f066ffe9_n.jpg'),\n",
       " PosixPath('datasets/flower_photos/daisy/14221848160_7f0a37c395.jpg'),\n",
       " PosixPath('datasets/flower_photos/daisy/14907815010_bff495449f.jpg'),\n",
       " PosixPath('datasets/flower_photos/daisy/5133243796_44de429de5_m.jpg'),\n",
       " PosixPath('datasets/flower_photos/daisy/1342002397_9503c97b49.jpg'),\n",
       " PosixPath('datasets/flower_photos/daisy/3533954656_79156c8473.jpg'),\n",
       " PosixPath('datasets/flower_photos/daisy/754296579_30a9ae018c_n.jpg'),\n",
       " PosixPath('datasets/flower_photos/daisy/3025866885_22fb0b61c6_n.jpg'),\n",
       " PosixPath('datasets/flower_photos/daisy/7377004908_5bc0cde347_n.jpg'),\n",
       " PosixPath('datasets/flower_photos/daisy/25360380_1a881a5648.jpg'),\n",
       " PosixPath('datasets/flower_photos/daisy/2599662355_7782218c83.jpg'),\n",
       " PosixPath('datasets/flower_photos/daisy/5632774792_0fa33d17eb_n.jpg'),\n",
       " PosixPath('datasets/flower_photos/daisy/5014137563_d03eb0ed75_n.jpg'),\n",
       " PosixPath('datasets/flower_photos/daisy/14088053307_1a13a0bf91_n.jpg'),\n",
       " PosixPath('datasets/flower_photos/daisy/102841525_bd6628ae3c.jpg'),\n",
       " PosixPath('datasets/flower_photos/daisy/2509545845_99e79cb8a2_n.jpg'),\n",
       " PosixPath('datasets/flower_photos/daisy/3625257860_33efeef614_m.jpg'),\n",
       " PosixPath('datasets/flower_photos/daisy/1285423653_18926dc2c8_n.jpg'),\n",
       " PosixPath('datasets/flower_photos/daisy/2482982436_a2145359e0_n.jpg'),\n",
       " PosixPath('datasets/flower_photos/daisy/3326037909_b5ae370722_n.jpg'),\n",
       " PosixPath('datasets/flower_photos/daisy/5997702776_c7bc37aa6b_n.jpg'),\n",
       " PosixPath('datasets/flower_photos/daisy/5574421625_61b1f49b3f_m.jpg'),\n",
       " PosixPath('datasets/flower_photos/daisy/9204730092_a7f2182347.jpg'),\n",
       " PosixPath('datasets/flower_photos/daisy/3386988684_bc5a66005e.jpg'),\n",
       " PosixPath('datasets/flower_photos/daisy/5673551_01d1ea993e_n.jpg'),\n",
       " PosixPath('datasets/flower_photos/daisy/4897587985_f9293ea1ed.jpg'),\n",
       " PosixPath('datasets/flower_photos/daisy/15327813273_06cdf42210.jpg'),\n",
       " PosixPath('datasets/flower_photos/daisy/14307766919_fac3c37a6b_m.jpg'),\n",
       " PosixPath('datasets/flower_photos/daisy/305160642_53cde0f44f.jpg'),\n",
       " PosixPath('datasets/flower_photos/daisy/294451721_5106537b34.jpg'),\n",
       " PosixPath('datasets/flower_photos/daisy/1374193928_a52320eafa.jpg'),\n",
       " PosixPath('datasets/flower_photos/daisy/7320089276_87b544e341.jpg'),\n",
       " PosixPath('datasets/flower_photos/daisy/19544831049_0d738d4872_m.jpg'),\n",
       " PosixPath('datasets/flower_photos/daisy/10437929963_bc13eebe0c.jpg'),\n",
       " PosixPath('datasets/flower_photos/daisy/5135131051_102d4878ca_n.jpg'),\n",
       " PosixPath('datasets/flower_photos/daisy/3379332157_04724f6480.jpg'),\n",
       " PosixPath('datasets/flower_photos/daisy/4792826628_aa5e5a9804_n.jpg'),\n",
       " PosixPath('datasets/flower_photos/daisy/3337643329_accc9b5426.jpg'),\n",
       " PosixPath('datasets/flower_photos/daisy/5973491805_556bba93cc.jpg'),\n",
       " PosixPath('datasets/flower_photos/daisy/4301689054_20519e5b68.jpg'),\n",
       " PosixPath('datasets/flower_photos/daisy/16401288243_36112bd52f_m.jpg'),\n",
       " PosixPath('datasets/flower_photos/daisy/9310226774_d1b8f5d9c9.jpg'),\n",
       " PosixPath('datasets/flower_photos/daisy/2612704455_efce1c2144_m.jpg'),\n",
       " PosixPath('datasets/flower_photos/daisy/16819071290_471d99e166_m.jpg'),\n",
       " PosixPath('datasets/flower_photos/daisy/6208851904_9d916ebb32_n.jpg'),\n",
       " PosixPath('datasets/flower_photos/daisy/7133935763_82b17c8e1b_n.jpg'),\n",
       " PosixPath('datasets/flower_photos/daisy/7568630428_8cf0fc16ff_n.jpg'),\n",
       " PosixPath('datasets/flower_photos/daisy/20948886919_cac7844f34_n.jpg'),\n",
       " PosixPath('datasets/flower_photos/daisy/4141147800_813f660b47.jpg'),\n",
       " PosixPath('datasets/flower_photos/daisy/21402054779_759366efb0_n.jpg'),\n",
       " PosixPath('datasets/flower_photos/daisy/5054771689_00dd40b971_n.jpg'),\n",
       " PosixPath('datasets/flower_photos/daisy/3711892138_b8c953fdc1_z.jpg'),\n",
       " PosixPath('datasets/flower_photos/daisy/15853110333_229c439e7f.jpg'),\n",
       " PosixPath('datasets/flower_photos/daisy/3780380240_ef9ec1b737_m.jpg'),\n",
       " PosixPath('datasets/flower_photos/daisy/519880292_7a3a6c6b69.jpg'),\n",
       " PosixPath('datasets/flower_photos/daisy/4646886118_b5c5ceaf6d_n.jpg'),\n",
       " PosixPath('datasets/flower_photos/daisy/5981645737_29eceac291_m.jpg'),\n",
       " PosixPath('datasets/flower_photos/daisy/2579018590_74359dcf1a_m.jpg'),\n",
       " PosixPath('datasets/flower_photos/daisy/6776075110_1ea7a09dd4_n.jpg'),\n",
       " PosixPath('datasets/flower_photos/daisy/10993818044_4c19b86c82.jpg'),\n",
       " PosixPath('datasets/flower_photos/daisy/19975899671_ebc42b7865_n.jpg'),\n",
       " PosixPath('datasets/flower_photos/daisy/5874818796_3efbb8769d.jpg'),\n",
       " PosixPath('datasets/flower_photos/daisy/2539552964_921cf645ba_n.jpg'),\n",
       " PosixPath('datasets/flower_photos/daisy/4413849849_b8d2f3bcf1_n.jpg'),\n",
       " PosixPath('datasets/flower_photos/daisy/5586977262_6b24412805_n.jpg'),\n",
       " PosixPath('datasets/flower_photos/daisy/10437754174_22ec990b77_m.jpg'),\n",
       " PosixPath('datasets/flower_photos/daisy/14600779226_7bbc288d40_m.jpg'),\n",
       " PosixPath('datasets/flower_photos/daisy/6089825811_80f253fbe1.jpg'),\n",
       " PosixPath('datasets/flower_photos/daisy/3552074420_2a0a7166db_m.jpg'),\n",
       " PosixPath('datasets/flower_photos/daisy/9146733107_98b15d3892_m.jpg'),\n",
       " PosixPath('datasets/flower_photos/daisy/20289938802_e16fa9f23d.jpg'),\n",
       " PosixPath('datasets/flower_photos/daisy/19019544592_b64469bf84_n.jpg'),\n",
       " PosixPath('datasets/flower_photos/daisy/5087720485_c0914fb623.jpg'),\n",
       " PosixPath('datasets/flower_photos/daisy/4694730335_2553e77aa5_z.jpg'),\n",
       " PosixPath('datasets/flower_photos/daisy/525271784_013ddccd1b_m.jpg'),\n",
       " PosixPath('datasets/flower_photos/daisy/18474740346_ffdaa18032.jpg'),\n",
       " PosixPath('datasets/flower_photos/daisy/5665834973_76bd6c6523_m.jpg'),\n",
       " PosixPath('datasets/flower_photos/daisy/8932490012_cc08e690ba_n.jpg'),\n",
       " PosixPath('datasets/flower_photos/daisy/3637428148_a1dcccafa9_n.jpg'),\n",
       " PosixPath('datasets/flower_photos/daisy/8887005939_b19e8305ee.jpg'),\n",
       " PosixPath('datasets/flower_photos/daisy/9054268881_19792c5203_n.jpg'),\n",
       " PosixPath('datasets/flower_photos/daisy/15029936576_8d6f96c72c_n.jpg'),\n",
       " PosixPath('datasets/flower_photos/daisy/14264136211_9531fbc144.jpg'),\n",
       " PosixPath('datasets/flower_photos/daisy/5684911529_88a7ae32ba_n.jpg'),\n",
       " PosixPath('datasets/flower_photos/daisy/4666648087_b10f376f19.jpg'),\n",
       " PosixPath('datasets/flower_photos/daisy/3848258315_ed2fde4fb4.jpg'),\n",
       " PosixPath('datasets/flower_photos/daisy/5434913005_409c1e8b56_n.jpg'),\n",
       " PosixPath('datasets/flower_photos/daisy/18622672908_eab6dc9140_n.jpg'),\n",
       " PosixPath('datasets/flower_photos/daisy/9529916092_de70623523_n.jpg'),\n",
       " PosixPath('datasets/flower_photos/daisy/5876455546_32049e5585.jpg'),\n",
       " PosixPath('datasets/flower_photos/daisy/14332947164_9b13513c71_m.jpg'),\n",
       " PosixPath('datasets/flower_photos/daisy/3611577717_f3a7a8c416_n.jpg'),\n",
       " PosixPath('datasets/flower_photos/daisy/14816364517_2423021484_m.jpg'),\n",
       " PosixPath('datasets/flower_photos/daisy/9180706736_092d43088c.jpg'),\n",
       " PosixPath('datasets/flower_photos/daisy/4561871220_47f420ca59_m.jpg'),\n",
       " PosixPath('datasets/flower_photos/daisy/107592979_aaa9cdfe78_m.jpg'),\n",
       " PosixPath('datasets/flower_photos/daisy/11023214096_b5b39fab08.jpg'),\n",
       " PosixPath('datasets/flower_photos/daisy/5973488341_50bdf6cee3_n.jpg'),\n",
       " PosixPath('datasets/flower_photos/daisy/1265350143_6e2b276ec9.jpg'),\n",
       " PosixPath('datasets/flower_photos/daisy/4727955343_0bb23ac4ae.jpg'),\n",
       " PosixPath('datasets/flower_photos/daisy/446484749_4044affcaf_n.jpg'),\n",
       " PosixPath('datasets/flower_photos/daisy/7288989324_c25d9febbf.jpg'),\n",
       " PosixPath('datasets/flower_photos/daisy/5561775629_a2b709b3a4_n.jpg'),\n",
       " PosixPath('datasets/flower_photos/daisy/5722473541_ffac1ae67e_n.jpg'),\n",
       " PosixPath('datasets/flower_photos/daisy/10555815624_dc211569b0.jpg'),\n",
       " PosixPath('datasets/flower_photos/daisy/506493250_e9ca42fe3d.jpg'),\n",
       " PosixPath('datasets/flower_photos/daisy/9299302012_958c70564c_n.jpg'),\n",
       " PosixPath('datasets/flower_photos/daisy/3445110406_0c1616d2e3_n.jpg'),\n",
       " PosixPath('datasets/flower_photos/daisy/4753134939_8e87649db6.jpg'),\n",
       " PosixPath('datasets/flower_photos/daisy/8120563761_ed5620664f_m.jpg'),\n",
       " PosixPath('datasets/flower_photos/daisy/9120905231_329598304e.jpg'),\n",
       " PosixPath('datasets/flower_photos/daisy/2511306240_9047015f2d_n.jpg'),\n",
       " PosixPath('datasets/flower_photos/daisy/5883162120_dc7274af76_n.jpg'),\n",
       " PosixPath('datasets/flower_photos/daisy/8719756744_34a5a83976_n.jpg'),\n",
       " PosixPath('datasets/flower_photos/daisy/3639009391_0f910681b7.jpg'),\n",
       " PosixPath('datasets/flower_photos/daisy/8709110478_60d12efcd4_n.jpg'),\n",
       " PosixPath('datasets/flower_photos/daisy/8063844363_db3f4dea85.jpg'),\n",
       " PosixPath('datasets/flower_photos/daisy/43474673_7bb4465a86.jpg'),\n",
       " PosixPath('datasets/flower_photos/daisy/799952628_bf836677fa_n.jpg'),\n",
       " PosixPath('datasets/flower_photos/daisy/5110109540_beed4ed162_m.jpg'),\n",
       " PosixPath('datasets/flower_photos/daisy/10391248763_1d16681106_n.jpg'),\n",
       " PosixPath('datasets/flower_photos/daisy/176375506_201859bb92_m.jpg'),\n",
       " PosixPath('datasets/flower_photos/daisy/4268817944_cdbdb226ae.jpg'),\n",
       " PosixPath('datasets/flower_photos/daisy/517054467_d82d323c33_m.jpg'),\n",
       " PosixPath('datasets/flower_photos/daisy/517054463_036db655a1_m.jpg'),\n",
       " PosixPath('datasets/flower_photos/daisy/2521408074_e6f86daf21_n.jpg'),\n",
       " PosixPath('datasets/flower_photos/daisy/3861452393_14d2f95157_m.jpg'),\n",
       " PosixPath('datasets/flower_photos/daisy/169371301_d9b91a2a42.jpg'),\n",
       " PosixPath('datasets/flower_photos/daisy/5459481183_18d2d49e44_m.jpg'),\n",
       " PosixPath('datasets/flower_photos/daisy/14330343061_99478302d4_m.jpg'),\n",
       " PosixPath('datasets/flower_photos/daisy/3999978867_c67c79597f_m.jpg'),\n",
       " PosixPath('datasets/flower_photos/daisy/16161045294_70c76ce846_n.jpg'),\n",
       " PosixPath('datasets/flower_photos/daisy/2635314490_e12d3b0f36_m.jpg'),\n",
       " PosixPath('datasets/flower_photos/daisy/3963330924_6c6a3fa7be_n.jpg'),\n",
       " PosixPath('datasets/flower_photos/daisy/14485782498_fb342ec301.jpg'),\n",
       " PosixPath('datasets/flower_photos/daisy/8710109684_e2c5ef6aeb_n.jpg'),\n",
       " PosixPath('datasets/flower_photos/daisy/19280272025_57de24e940_m.jpg'),\n",
       " PosixPath('datasets/flower_photos/daisy/2621723097_736febb4a4_n.jpg'),\n",
       " PosixPath('datasets/flower_photos/daisy/2057816617_18448093d0_n.jpg'),\n",
       " PosixPath('datasets/flower_photos/daisy/3962240986_0661edc43a_n.jpg'),\n",
       " PosixPath('datasets/flower_photos/daisy/9595857626_979c45e5bf_n.jpg'),\n",
       " PosixPath('datasets/flower_photos/daisy/8740807508_0587f5b7b7.jpg'),\n",
       " PosixPath('datasets/flower_photos/daisy/754248840_95092de274.jpg'),\n",
       " PosixPath('datasets/flower_photos/daisy/3463313493_9497aa47e5_n.jpg'),\n",
       " PosixPath('datasets/flower_photos/daisy/7538403124_f2fc48750a.jpg'),\n",
       " PosixPath('datasets/flower_photos/daisy/3939135368_0af5c4982a_n.jpg'),\n",
       " PosixPath('datasets/flower_photos/daisy/1955336401_fbb206d6ef_n.jpg'),\n",
       " PosixPath('datasets/flower_photos/daisy/15760811380_4d686c892b_n.jpg'),\n",
       " PosixPath('datasets/flower_photos/daisy/2408024540_37f0be7cc0_n.jpg'),\n",
       " PosixPath('datasets/flower_photos/daisy/14707111433_cce08ee007.jpg'),\n",
       " PosixPath('datasets/flower_photos/daisy/2351206867_084e57bd97.jpg'),\n",
       " PosixPath('datasets/flower_photos/daisy/11124324295_503f3a0804.jpg'),\n",
       " PosixPath('datasets/flower_photos/daisy/4694734757_5c563d38dd_n.jpg'),\n",
       " PosixPath('datasets/flower_photos/daisy/2498632196_e47a472d5a.jpg'),\n",
       " PosixPath('datasets/flower_photos/daisy/153210866_03cc9f2f36.jpg'),\n",
       " PosixPath('datasets/flower_photos/daisy/2473825306_62fd5f8785_n.jpg'),\n",
       " PosixPath('datasets/flower_photos/daisy/6095817094_3a5b1d793d.jpg'),\n",
       " PosixPath('datasets/flower_photos/daisy/286875003_f7c0e1882d.jpg'),\n",
       " PosixPath('datasets/flower_photos/daisy/2346726545_2ebce2b2a6.jpg'),\n",
       " PosixPath('datasets/flower_photos/daisy/521762040_f26f2e08dd.jpg'),\n",
       " PosixPath('datasets/flower_photos/daisy/1355787476_32e9f2a30b.jpg'),\n",
       " PosixPath('datasets/flower_photos/daisy/5058708968_8bdcd29e63_n.jpg'),\n",
       " PosixPath('datasets/flower_photos/daisy/6978826370_7b9aa7c7d5.jpg'),\n",
       " PosixPath('datasets/flower_photos/daisy/506018088_4f7a15a7c5_n.jpg'),\n",
       " PosixPath('datasets/flower_photos/daisy/20619292635_9857a12d54.jpg'),\n",
       " PosixPath('datasets/flower_photos/daisy/3450822975_7e77d67636_n.jpg'),\n",
       " PosixPath('datasets/flower_photos/daisy/6323721068_3d3394af6d_n.jpg'),\n",
       " PosixPath('datasets/flower_photos/daisy/7633425046_8293e3d0e9_m.jpg'),\n",
       " PosixPath('datasets/flower_photos/daisy/19177263840_6a316ea639.jpg'),\n",
       " PosixPath('datasets/flower_photos/daisy/3084924076_4d5c5711af_m.jpg'),\n",
       " PosixPath('datasets/flower_photos/daisy/2838487505_6c3b48efa5_m.jpg'),\n",
       " PosixPath('datasets/flower_photos/daisy/7358085448_b317d11cd5.jpg'),\n",
       " PosixPath('datasets/flower_photos/daisy/2641979584_2b21c3fe29_m.jpg'),\n",
       " PosixPath('datasets/flower_photos/daisy/6529588249_d9cbe68aab_n.jpg'),\n",
       " PosixPath('datasets/flower_photos/daisy/105806915_a9c13e2106_n.jpg'),\n",
       " PosixPath('datasets/flower_photos/daisy/3773181799_5def396456.jpg'),\n",
       " PosixPath('datasets/flower_photos/daisy/14354051035_1037b30421_n.jpg'),\n",
       " PosixPath('datasets/flower_photos/daisy/4407065098_ef25f1ccac_n.jpg'),\n",
       " PosixPath('datasets/flower_photos/daisy/2812442552_3eed5fb9f2_m.jpg'),\n",
       " PosixPath('datasets/flower_photos/daisy/6910811638_aa6f17df23.jpg'),\n",
       " PosixPath('datasets/flower_photos/daisy/14114116486_0bb6649bc1_m.jpg'),\n",
       " PosixPath('datasets/flower_photos/daisy/2649404904_b7a91991bb_n.jpg'),\n",
       " PosixPath('datasets/flower_photos/daisy/14507818175_05219b051c_m.jpg'),\n",
       " PosixPath('datasets/flower_photos/daisy/8348621545_8f02b82662_n.jpg'),\n",
       " PosixPath('datasets/flower_photos/daisy/18442919723_d1251d3e14_n.jpg'),\n",
       " PosixPath('datasets/flower_photos/daisy/16482676953_5296227d40_n.jpg'),\n",
       " PosixPath('datasets/flower_photos/daisy/2877860110_a842f8b14a_m.jpg'),\n",
       " PosixPath('datasets/flower_photos/daisy/171972704_389cf7a953.jpg'),\n",
       " PosixPath('datasets/flower_photos/daisy/14087947408_9779257411_n.jpg'),\n",
       " PosixPath('datasets/flower_photos/daisy/534547364_3f6b7279d2_n.jpg'),\n",
       " PosixPath('datasets/flower_photos/daisy/3336704121_cfeb67a7d7.jpg'),\n",
       " PosixPath('datasets/flower_photos/daisy/4258408909_b7cc92741c_m.jpg'),\n",
       " PosixPath('datasets/flower_photos/daisy/21626652132_97e1318bb8_m.jpg'),\n",
       " PosixPath('datasets/flower_photos/daisy/4724713781_d169f98a35.jpg'),\n",
       " PosixPath('datasets/flower_photos/daisy/16121105382_b96251e506_m.jpg'),\n",
       " PosixPath('datasets/flower_photos/daisy/2578695910_5ab8ee17c1_n.jpg'),\n",
       " PosixPath('datasets/flower_photos/daisy/163978992_8128b49d3e_n.jpg'),\n",
       " PosixPath('datasets/flower_photos/daisy/14272874304_47c0a46f5a.jpg'),\n",
       " PosixPath('datasets/flower_photos/daisy/4131565290_0585c4dd5a_n.jpg'),\n",
       " PosixPath('datasets/flower_photos/daisy/5811226952_4650ed70ae_n.jpg'),\n",
       " PosixPath('datasets/flower_photos/daisy/3310644753_5607eb96a4_m.jpg'),\n",
       " PosixPath('datasets/flower_photos/daisy/2520369272_1dcdb5a892_m.jpg'),\n",
       " PosixPath('datasets/flower_photos/daisy/10140303196_b88d3d6cec.jpg'),\n",
       " PosixPath('datasets/flower_photos/daisy/1344985627_c3115e2d71_n.jpg'),\n",
       " PosixPath('datasets/flower_photos/daisy/14921511479_7b0a647795.jpg'),\n",
       " PosixPath('datasets/flower_photos/daisy/4222584034_8964cbd3de.jpg'),\n",
       " PosixPath('datasets/flower_photos/daisy/8008258043_5457dd254b_n.jpg'),\n",
       " PosixPath('datasets/flower_photos/daisy/18711159980_11d3bd5042.jpg'),\n",
       " PosixPath('datasets/flower_photos/daisy/8694909523_3ca25d449d_n.jpg'),\n",
       " PosixPath('datasets/flower_photos/daisy/6054952060_c88612f3c5_n.jpg'),\n",
       " PosixPath('datasets/flower_photos/daisy/4851353993_2cbbbd1040_n.jpg'),\n",
       " PosixPath('datasets/flower_photos/daisy/12701063955_4840594ea6_n.jpg'),\n",
       " PosixPath('datasets/flower_photos/daisy/11870378973_2ec1919f12.jpg'),\n",
       " PosixPath('datasets/flower_photos/daisy/495098110_3a4bb30042_n.jpg'),\n",
       " PosixPath('datasets/flower_photos/daisy/5608389827_a42a46f760.jpg'),\n",
       " PosixPath('datasets/flower_photos/daisy/7702332000_3f21ef4571_n.jpg'),\n",
       " PosixPath('datasets/flower_photos/daisy/3706420943_66f3214862_n.jpg'),\n",
       " PosixPath('datasets/flower_photos/daisy/3338077096_3a8ed0e2bc_m.jpg'),\n",
       " PosixPath('datasets/flower_photos/daisy/2567033807_8e918c53d8_n.jpg'),\n",
       " PosixPath('datasets/flower_photos/daisy/19865728236_a62f8f445b_n.jpg'),\n",
       " PosixPath('datasets/flower_photos/daisy/5885826924_38fdc6bcaa_n.jpg'),\n",
       " PosixPath('datasets/flower_photos/daisy/3750771898_cfd50090ba_n.jpg'),\n",
       " PosixPath('datasets/flower_photos/daisy/4540555191_3254dc4608_n.jpg'),\n",
       " PosixPath('datasets/flower_photos/daisy/4281102584_c548a69b81_m.jpg'),\n",
       " PosixPath('datasets/flower_photos/daisy/2713919471_301fcc941f.jpg'),\n",
       " PosixPath('datasets/flower_photos/daisy/2513618768_ff7c004796_m.jpg'),\n",
       " PosixPath('datasets/flower_photos/daisy/413815348_764ae83088.jpg'),\n",
       " PosixPath('datasets/flower_photos/daisy/5577555349_2e8490259b.jpg'),\n",
       " PosixPath('datasets/flower_photos/daisy/4333085242_bbeb3e2841_m.jpg'),\n",
       " PosixPath('datasets/flower_photos/daisy/8127252886_96558c23d1.jpg'),\n",
       " PosixPath('datasets/flower_photos/daisy/4440480869_632ce6aff3_n.jpg'),\n",
       " PosixPath('datasets/flower_photos/daisy/21805938544_bf6bb0e4bc.jpg'),\n",
       " PosixPath('datasets/flower_photos/daisy/2889325612_f2fc403ff0_m.jpg'),\n",
       " PosixPath('datasets/flower_photos/daisy/3628485766_4ff937954a_n.jpg'),\n",
       " PosixPath('datasets/flower_photos/daisy/9515186037_3be48fe68f.jpg'),\n",
       " PosixPath('datasets/flower_photos/daisy/2001380507_19488ff96a_n.jpg'),\n",
       " PosixPath('datasets/flower_photos/daisy/7199968650_72afc16d31_m.jpg'),\n",
       " PosixPath('datasets/flower_photos/daisy/144603918_b9de002f60_m.jpg'),\n",
       " PosixPath('datasets/flower_photos/daisy/2538504987_fe524b92a8_n.jpg'),\n",
       " PosixPath('datasets/flower_photos/daisy/10466558316_a7198b87e2.jpg'),\n",
       " PosixPath('datasets/flower_photos/daisy/4598422221_b37313a3e3_n.jpg'),\n",
       " PosixPath('datasets/flower_photos/daisy/4683997791_56e7d3c03c_n.jpg'),\n",
       " PosixPath('datasets/flower_photos/daisy/2573240560_ff7ffdd449.jpg'),\n",
       " PosixPath('datasets/flower_photos/daisy/2611119198_9d46b94392.jpg'),\n",
       " PosixPath('datasets/flower_photos/daisy/9158041313_7a6a102f7a_n.jpg'),\n",
       " PosixPath('datasets/flower_photos/daisy/18400014056_2e4c601ed5.jpg'),\n",
       " PosixPath('datasets/flower_photos/daisy/3356112863_75da8bca2c_m.jpg'),\n",
       " PosixPath('datasets/flower_photos/daisy/3598615130_578ed30e5f.jpg'),\n",
       " PosixPath('datasets/flower_photos/daisy/14163875973_467224aaf5_m.jpg'),\n",
       " PosixPath('datasets/flower_photos/daisy/2607132536_d95198e619_n.jpg'),\n",
       " PosixPath('datasets/flower_photos/daisy/1314069875_da8dc023c6_m.jpg'),\n",
       " PosixPath('datasets/flower_photos/daisy/147068564_32bb4350cc.jpg'),\n",
       " PosixPath('datasets/flower_photos/daisy/5700781400_65761f3fce.jpg'),\n",
       " PosixPath('datasets/flower_photos/daisy/16833748795_b681b2839f_n.jpg'),\n",
       " PosixPath('datasets/flower_photos/daisy/5623010186_796ca8d29a.jpg'),\n",
       " PosixPath('datasets/flower_photos/daisy/9286947622_4822f4fc21.jpg'),\n",
       " PosixPath('datasets/flower_photos/daisy/175106495_53ebdef092_n.jpg'),\n",
       " PosixPath('datasets/flower_photos/daisy/459931395_24bf6531fe_n.jpg'),\n",
       " PosixPath('datasets/flower_photos/daisy/18203367608_07a04e98a4_n.jpg'),\n",
       " PosixPath('datasets/flower_photos/daisy/144076848_57e1d662e3_m.jpg'),\n",
       " PosixPath('datasets/flower_photos/daisy/2908212142_5437fa67ff_n.jpg'),\n",
       " PosixPath('datasets/flower_photos/daisy/18901817451_43e2b45f6c.jpg'),\n",
       " PosixPath('datasets/flower_photos/daisy/5435522104_1d6a61b431_n.jpg'),\n",
       " PosixPath('datasets/flower_photos/daisy/4814515275_6e25a6c18f.jpg'),\n",
       " PosixPath('datasets/flower_photos/daisy/4668543441_79040ca329_n.jpg'),\n",
       " PosixPath('datasets/flower_photos/daisy/14147016029_8d3cf2414e.jpg'),\n",
       " PosixPath('datasets/flower_photos/daisy/3633489595_a037a9b7a4_m.jpg'),\n",
       " PosixPath('datasets/flower_photos/daisy/5794839_200acd910c_n.jpg'),\n",
       " PosixPath('datasets/flower_photos/daisy/14716799982_ed6d626a66.jpg'),\n",
       " PosixPath('datasets/flower_photos/daisy/909609509_a05ccb8127.jpg'),\n",
       " PosixPath('datasets/flower_photos/daisy/14621687774_ec52811acd_n.jpg'),\n",
       " PosixPath('datasets/flower_photos/daisy/23095658544_7226386954_n.jpg'),\n",
       " PosixPath('datasets/flower_photos/daisy/1299501272_59d9da5510_n.jpg'),\n",
       " PosixPath('datasets/flower_photos/daisy/2476937534_21b285aa46_n.jpg'),\n",
       " PosixPath('datasets/flower_photos/daisy/1656856503_447e5b0f03.jpg'),\n",
       " PosixPath('datasets/flower_photos/daisy/4544110929_a7de65d65f_n.jpg'),\n",
       " PosixPath('datasets/flower_photos/daisy/6299910262_336309ffa5_n.jpg'),\n",
       " PosixPath('datasets/flower_photos/daisy/2617111535_54c2ac8462.jpg'),\n",
       " PosixPath('datasets/flower_photos/daisy/530738000_4df7e4786b.jpg'),\n",
       " PosixPath('datasets/flower_photos/daisy/538920244_59899a78f8_n.jpg'),\n",
       " PosixPath('datasets/flower_photos/daisy/4654579740_6671a53627_m.jpg'),\n",
       " PosixPath('datasets/flower_photos/daisy/2641151167_3bf1349606_m.jpg'),\n",
       " PosixPath('datasets/flower_photos/daisy/3491933306_43cfe2cfbe.jpg'),\n",
       " PosixPath('datasets/flower_photos/daisy/3440366251_5b9bdf27c9_m.jpg'),\n",
       " PosixPath('datasets/flower_photos/daisy/3483303007_42e3f90da7.jpg'),\n",
       " PosixPath('datasets/flower_photos/daisy/437859108_173fb33c98.jpg'),\n",
       " PosixPath('datasets/flower_photos/daisy/16020253176_60f2a6a5ca_n.jpg'),\n",
       " PosixPath('datasets/flower_photos/daisy/5110107234_12ddc0206b_m.jpg'),\n",
       " PosixPath('datasets/flower_photos/daisy/173350276_02817aa8d5.jpg'),\n",
       " PosixPath('datasets/flower_photos/daisy/4861391074_c3e122dab0_m.jpg'),\n",
       " PosixPath('datasets/flower_photos/daisy/14613443462_d4ed356201.jpg'),\n",
       " PosixPath('datasets/flower_photos/daisy/144099102_bf63a41e4f_n.jpg'),\n",
       " PosixPath('datasets/flower_photos/daisy/5435521200_92029bbe2b_n.jpg'),\n",
       " PosixPath('datasets/flower_photos/daisy/14372713423_61e2daae88.jpg'),\n",
       " PosixPath('datasets/flower_photos/daisy/1150395827_6f94a5c6e4_n.jpg'),\n",
       " PosixPath('datasets/flower_photos/daisy/17027891179_3edc08f4f6.jpg'),\n",
       " PosixPath('datasets/flower_photos/daisy/4511693548_20f9bd2b9c_m.jpg'),\n",
       " PosixPath('datasets/flower_photos/daisy/9242705328_eee8402a8d.jpg'),\n",
       " PosixPath('datasets/flower_photos/daisy/512477177_d9004cbcf1_n.jpg'),\n",
       " PosixPath('datasets/flower_photos/daisy/8021540573_c56cf9070d_n.jpg'),\n",
       " PosixPath('datasets/flower_photos/daisy/134372449_0f7166d96c_n.jpg'),\n",
       " PosixPath('datasets/flower_photos/daisy/19813618946_93818db7aa_m.jpg'),\n",
       " PosixPath('datasets/flower_photos/daisy/2087343668_ef4fb95787_n.jpg'),\n",
       " PosixPath('datasets/flower_photos/daisy/3711723108_65247a3170.jpg'),\n",
       " PosixPath('datasets/flower_photos/daisy/12348343085_d4c396e5b5_m.jpg'),\n",
       " PosixPath('datasets/flower_photos/daisy/17101762155_2577a28395.jpg'),\n",
       " PosixPath('datasets/flower_photos/daisy/7189043225_2fe781439a_n.jpg'),\n",
       " PosixPath('datasets/flower_photos/daisy/2213954589_c7da4b1486.jpg'),\n",
       " PosixPath('datasets/flower_photos/daisy/5673728_71b8cb57eb.jpg'),\n",
       " PosixPath('datasets/flower_photos/daisy/2331133004_582772d58f_m.jpg'),\n",
       " PosixPath('datasets/flower_photos/daisy/3494265422_9dba8f2191_n.jpg'),\n",
       " PosixPath('datasets/flower_photos/daisy/7630517248_98fb8bee1f_n.jpg'),\n",
       " PosixPath('datasets/flower_photos/daisy/14399435971_ea5868c792.jpg'),\n",
       " PosixPath('datasets/flower_photos/daisy/10172567486_2748826a8b.jpg'),\n",
       " PosixPath('datasets/flower_photos/daisy/2077865117_9ed85191ae_n.jpg'),\n",
       " PosixPath('datasets/flower_photos/daisy/7454630692_ab2d67dd18_m.jpg'),\n",
       " PosixPath('datasets/flower_photos/daisy/16025261368_911703a536_n.jpg'),\n",
       " PosixPath('datasets/flower_photos/daisy/16492248512_61a57dfec1_m.jpg'),\n",
       " PosixPath('datasets/flower_photos/daisy/2828733818_1c1ed0089d_n.jpg'),\n",
       " PosixPath('datasets/flower_photos/daisy/433037739_6a030e5912.jpg'),\n",
       " PosixPath('datasets/flower_photos/daisy/14674743211_f68b13f6d9.jpg'),\n",
       " PosixPath('datasets/flower_photos/daisy/4278442064_a5a598524b_m.jpg'),\n",
       " PosixPath('datasets/flower_photos/daisy/3285641623_da0e47f49a.jpg'),\n",
       " PosixPath('datasets/flower_photos/daisy/9496209717_25a6ebdab6_m.jpg'),\n",
       " PosixPath('datasets/flower_photos/daisy/18684594849_7dd3634f5e_n.jpg'),\n",
       " PosixPath('datasets/flower_photos/daisy/8616684075_71923bb771_n.jpg'),\n",
       " PosixPath('datasets/flower_photos/daisy/4085794721_7cd88e0a6c_m.jpg'),\n",
       " PosixPath('datasets/flower_photos/daisy/2642408410_61545fdc83_n.jpg'),\n",
       " PosixPath('datasets/flower_photos/daisy/3720632920_93cf1cc7f3_m.jpg'),\n",
       " PosixPath('datasets/flower_photos/daisy/2479956481_8d1a9699be_n.jpg'),\n",
       " PosixPath('datasets/flower_photos/daisy/5435513198_90ce39f1aa_n.jpg'),\n",
       " PosixPath('datasets/flower_photos/daisy/6596277835_9f86da54bb.jpg'),\n",
       " PosixPath('datasets/flower_photos/daisy/14021430525_e06baf93a9.jpg'),\n",
       " PosixPath('datasets/flower_photos/daisy/21652746_cc379e0eea_m.jpg'),\n",
       " PosixPath('datasets/flower_photos/daisy/14167534527_781ceb1b7a_n.jpg'),\n",
       " PosixPath('datasets/flower_photos/daisy/2627815904_919373e7f5.jpg'),\n",
       " PosixPath('datasets/flower_photos/daisy/3717746329_53f515c6a6_m.jpg'),\n",
       " PosixPath('datasets/flower_photos/daisy/4746633946_23933c0810.jpg'),\n",
       " PosixPath('datasets/flower_photos/daisy/512177035_70afc925c8.jpg'),\n",
       " PosixPath('datasets/flower_photos/daisy/9345273630_af3550031d.jpg'),\n",
       " PosixPath('datasets/flower_photos/daisy/7790614422_4557928ab9_n.jpg'),\n",
       " PosixPath('datasets/flower_photos/daisy/14245834619_153624f836.jpg'),\n",
       " PosixPath('datasets/flower_photos/daisy/14219214466_3ca6104eae_m.jpg'),\n",
       " PosixPath('datasets/flower_photos/daisy/2349640101_212c275aa7.jpg'),\n",
       " PosixPath('datasets/flower_photos/daisy/2581171297_b0a249b92b_n.jpg'),\n",
       " PosixPath('datasets/flower_photos/daisy/11023272144_fce94401f2_m.jpg'),\n",
       " PosixPath('datasets/flower_photos/daisy/3695826945_9f374e8a00_m.jpg'),\n",
       " PosixPath('datasets/flower_photos/daisy/5679288570_b4c52e76d5.jpg'),\n",
       " PosixPath('datasets/flower_photos/daisy/4432271543_01c56ca3a9.jpg'),\n",
       " PosixPath('datasets/flower_photos/daisy/435283392_72e4c5b5d6_m.jpg'),\n",
       " PosixPath('datasets/flower_photos/daisy/2454280135_ac3aa75cdc_n.jpg'),\n",
       " PosixPath('datasets/flower_photos/daisy/2481823240_eab0d86921.jpg'),\n",
       " PosixPath('datasets/flower_photos/daisy/515112668_a49c69455a.jpg'),\n",
       " PosixPath('datasets/flower_photos/daisy/16527403771_2391f137c4_n.jpg'),\n",
       " PosixPath('datasets/flower_photos/daisy/4890424315_6a59696357_n.jpg'),\n",
       " PosixPath('datasets/flower_photos/daisy/4117918318_3c8935289b_m.jpg'),\n",
       " PosixPath('datasets/flower_photos/daisy/2619413565_61a6cd3ac9_m.jpg'),\n",
       " PosixPath('datasets/flower_photos/daisy/267148092_4bb874af58.jpg'),\n",
       " PosixPath('datasets/flower_photos/daisy/11439894966_dca877f0cd.jpg'),\n",
       " PosixPath('datasets/flower_photos/daisy/14421389519_d5fd353eb4.jpg'),\n",
       " PosixPath('datasets/flower_photos/daisy/7669550908_bc5a11276f_n.jpg'),\n",
       " PosixPath('datasets/flower_photos/daisy/813445367_187ecf080a_n.jpg'),\n",
       " PosixPath('datasets/flower_photos/daisy/7629784968_b953501902_n.jpg'),\n",
       " PosixPath('datasets/flower_photos/daisy/9346508462_f0af3163f4.jpg'),\n",
       " PosixPath('datasets/flower_photos/daisy/4820415253_15bc3b6833_n.jpg'),\n",
       " PosixPath('datasets/flower_photos/daisy/1396526833_fb867165be_n.jpg'),\n",
       " PosixPath('datasets/flower_photos/daisy/1286274236_1d7ac84efb_n.jpg'),\n",
       " PosixPath('datasets/flower_photos/daisy/9161647994_e39b65cb9c_n.jpg'),\n",
       " PosixPath('datasets/flower_photos/daisy/10993710036_2033222c91.jpg'),\n",
       " PosixPath('datasets/flower_photos/daisy/5739768868_9f982684f9_n.jpg'),\n",
       " PosixPath('datasets/flower_photos/daisy/8983779970_9d3a6a3bf2_n.jpg'),\n",
       " PosixPath('datasets/flower_photos/daisy/8489463746_a9839bf7e4.jpg'),\n",
       " PosixPath('datasets/flower_photos/daisy/13953307149_f8de6a768c_m.jpg'),\n",
       " PosixPath('datasets/flower_photos/daisy/6148728633_27afc47b0c_m.jpg'),\n",
       " PosixPath('datasets/flower_photos/daisy/4865691548_00319261b8.jpg'),\n",
       " PosixPath('datasets/flower_photos/daisy/11642632_1e7627a2cc.jpg'),\n",
       " PosixPath('datasets/flower_photos/daisy/14073784469_ffb12f3387_n.jpg'),\n",
       " PosixPath('datasets/flower_photos/daisy/8671824531_64b816949e_m.jpg'),\n",
       " PosixPath('datasets/flower_photos/daisy/5434901893_4550be3f84_m.jpg'),\n",
       " PosixPath('datasets/flower_photos/daisy/14402451388_56545a374a_n.jpg'),\n",
       " PosixPath('datasets/flower_photos/daisy/5434914569_e9b982fde0_n.jpg'),\n",
       " PosixPath('datasets/flower_photos/daisy/5693459303_e61d9a9533.jpg'),\n",
       " PosixPath('datasets/flower_photos/daisy/3588872598_e0f9a1d2a1_m.jpg'),\n",
       " PosixPath('datasets/flower_photos/daisy/510844526_858b8fe4db.jpg'),\n",
       " PosixPath('datasets/flower_photos/daisy/10712722853_5632165b04.jpg'),\n",
       " PosixPath('datasets/flower_photos/daisy/2019064575_7656b9340f_m.jpg'),\n",
       " PosixPath('datasets/flower_photos/daisy/18635898912_eb8e058ef0.jpg'),\n",
       " PosixPath('datasets/flower_photos/daisy/181007802_7cab5ee78e_n.jpg'),\n",
       " PosixPath('datasets/flower_photos/daisy/54377391_15648e8d18.jpg'),\n",
       " PosixPath('datasets/flower_photos/daisy/5547758_eea9edfd54_n.jpg'),\n",
       " PosixPath('datasets/flower_photos/daisy/483886997_27ee798327.jpg'),\n",
       " PosixPath('datasets/flower_photos/daisy/5434742166_35773eba57_m.jpg'),\n",
       " PosixPath('datasets/flower_photos/daisy/476856232_7c35952f40_n.jpg'),\n",
       " PosixPath('datasets/flower_photos/daisy/15306268004_4680ba95e1.jpg'),\n",
       " PosixPath('datasets/flower_photos/daisy/158869618_f1a6704236_n.jpg'),\n",
       " PosixPath('datasets/flower_photos/daisy/2536529152_33ef3ee078_n.jpg'),\n",
       " PosixPath('datasets/flower_photos/daisy/3750250718_eb61146c5f.jpg'),\n",
       " PosixPath('datasets/flower_photos/daisy/5884807222_22f5326ba8_m.jpg'),\n",
       " PosixPath('datasets/flower_photos/daisy/10770585085_4742b9dac3_n.jpg'),\n",
       " PosixPath('datasets/flower_photos/daisy/525780443_bba812c26a_m.jpg'),\n",
       " PosixPath('datasets/flower_photos/daisy/3474942718_c418dae6f1.jpg'),\n",
       " PosixPath('datasets/flower_photos/daisy/7335886184_d06a83f640.jpg'),\n",
       " PosixPath('datasets/flower_photos/daisy/9593034725_0062f0d24e_n.jpg'),\n",
       " PosixPath('datasets/flower_photos/daisy/5714327423_50af0cffe9.jpg'),\n",
       " PosixPath('datasets/flower_photos/daisy/2646438199_b309cffd65_n.jpg'),\n",
       " PosixPath('datasets/flower_photos/daisy/14350958832_29bdd3a254.jpg'),\n",
       " PosixPath('datasets/flower_photos/daisy/16737503507_431768a927.jpg'),\n",
       " PosixPath('datasets/flower_photos/daisy/6210664514_f1d211217a.jpg'),\n",
       " PosixPath('datasets/flower_photos/daisy/7749368884_1fc58c67ff_n.jpg'),\n",
       " PosixPath('datasets/flower_photos/daisy/488202750_c420cbce61.jpg'),\n",
       " PosixPath('datasets/flower_photos/daisy/14551098743_2842e7a004_n.jpg'),\n",
       " PosixPath('datasets/flower_photos/daisy/14167543177_cd36b54ac6_n.jpg'),\n",
       " PosixPath('datasets/flower_photos/daisy/7227973870_806d9d3e42_n.jpg'),\n",
       " PosixPath('datasets/flower_photos/daisy/20773528301_008fcbc5a1_n.jpg'),\n",
       " PosixPath('datasets/flower_photos/daisy/6299498346_b9774b6500.jpg'),\n",
       " PosixPath('datasets/flower_photos/daisy/162362897_1d21b70621_m.jpg'),\n",
       " PosixPath('datasets/flower_photos/daisy/3640845041_80a92c4205_n.jpg'),\n",
       " PosixPath('datasets/flower_photos/sunflowers/9432335346_e298e47713_n.jpg'),\n",
       " PosixPath('datasets/flower_photos/sunflowers/265450085_6e9f276e2e.jpg'),\n",
       " PosixPath('datasets/flower_photos/sunflowers/5998488415_a6bacd9f83.jpg'),\n",
       " PosixPath('datasets/flower_photos/sunflowers/3815322974_52c12dbde3.jpg'),\n",
       " PosixPath('datasets/flower_photos/sunflowers/1217254584_4b3028b93d.jpg'),\n",
       " PosixPath('datasets/flower_photos/sunflowers/6606746467_a668c8d417.jpg'),\n",
       " PosixPath('datasets/flower_photos/sunflowers/9461693602_710f20904f.jpg'),\n",
       " PosixPath('datasets/flower_photos/sunflowers/3894586562_5dbbdc4354_n.jpg'),\n",
       " PosixPath('datasets/flower_photos/sunflowers/4872892690_52dc25b0b4.jpg'),\n",
       " PosixPath('datasets/flower_photos/sunflowers/2697194548_ec8f8de97c_n.jpg'),\n",
       " PosixPath('datasets/flower_photos/sunflowers/15066430311_fb57fa92b0_m.jpg'),\n",
       " PosixPath('datasets/flower_photos/sunflowers/5076821914_c21b58fd4c_m.jpg'),\n",
       " PosixPath('datasets/flower_photos/sunflowers/14969295739_c132a08663_n.jpg'),\n",
       " PosixPath('datasets/flower_photos/sunflowers/21374127408_5ffbe87bb2.jpg'),\n",
       " PosixPath('datasets/flower_photos/sunflowers/4933821940_38064522a8.jpg'),\n",
       " PosixPath('datasets/flower_photos/sunflowers/4814106562_7c3564d2d9_n.jpg'),\n",
       " PosixPath('datasets/flower_photos/sunflowers/5979111025_3bcae48ae6_n.jpg'),\n",
       " PosixPath('datasets/flower_photos/sunflowers/4625255191_26e17a28c9_n.jpg'),\n",
       " PosixPath('datasets/flower_photos/sunflowers/22429146402_332fa2fc72_m.jpg'),\n",
       " PosixPath('datasets/flower_photos/sunflowers/4895720722_8247f2015b_n.jpg'),\n",
       " PosixPath('datasets/flower_photos/sunflowers/4933229561_881d4673e7_m.jpg'),\n",
       " PosixPath('datasets/flower_photos/sunflowers/3897174387_07aac6bf5f_n.jpg'),\n",
       " PosixPath('datasets/flower_photos/sunflowers/5970868068_fe1c8b282e_n.jpg'),\n",
       " PosixPath('datasets/flower_photos/sunflowers/9491955955_d0b2c83834.jpg'),\n",
       " PosixPath('datasets/flower_photos/sunflowers/6141199476_9b6d383fd9.jpg'),\n",
       " PosixPath('datasets/flower_photos/sunflowers/235651658_a7b3e7cbdd.jpg'),\n",
       " PosixPath('datasets/flower_photos/sunflowers/4186808407_06688641e2_n.jpg'),\n",
       " PosixPath('datasets/flower_photos/sunflowers/7369484298_332f69bd88_n.jpg'),\n",
       " PosixPath('datasets/flower_photos/sunflowers/310380634_60e6c79989.jpg'),\n",
       " PosixPath('datasets/flower_photos/sunflowers/5999024446_5721493894.jpg'),\n",
       " PosixPath('datasets/flower_photos/sunflowers/6125761554_4e72819ce4_m.jpg'),\n",
       " PosixPath('datasets/flower_photos/sunflowers/3749090865_b90f28a585_n.jpg'),\n",
       " PosixPath('datasets/flower_photos/sunflowers/4942258704_c4146b710a_n.jpg'),\n",
       " PosixPath('datasets/flower_photos/sunflowers/12282924083_fb80aa17d4_n.jpg'),\n",
       " PosixPath('datasets/flower_photos/sunflowers/4271193206_666ef60aa0_m.jpg'),\n",
       " PosixPath('datasets/flower_photos/sunflowers/19508264965_d1dfb565ea_n.jpg'),\n",
       " PosixPath('datasets/flower_photos/sunflowers/6953297_8576bf4ea3.jpg'),\n",
       " PosixPath('datasets/flower_photos/sunflowers/200557977_bf24d9550b.jpg'),\n",
       " PosixPath('datasets/flower_photos/sunflowers/253586685_ee5b5f5232.jpg'),\n",
       " PosixPath('datasets/flower_photos/sunflowers/7176736574_14446539cb_n.jpg'),\n",
       " PosixPath('datasets/flower_photos/sunflowers/6112510436_9fe06e695a_n.jpg'),\n",
       " PosixPath('datasets/flower_photos/sunflowers/5018120483_cc0421b176_m.jpg'),\n",
       " PosixPath('datasets/flower_photos/sunflowers/1485456230_58d8e45e88.jpg'),\n",
       " PosixPath('datasets/flower_photos/sunflowers/16988605969_570329ff20_n.jpg'),\n",
       " PosixPath('datasets/flower_photos/sunflowers/5223643767_d8beb7e410.jpg'),\n",
       " PosixPath('datasets/flower_photos/sunflowers/9375675309_987d32f99e_n.jpg'),\n",
       " PosixPath('datasets/flower_photos/sunflowers/1788133737_b1133d1aa7.jpg'),\n",
       " PosixPath('datasets/flower_photos/sunflowers/18828283553_e46504ae38.jpg'),\n",
       " PosixPath('datasets/flower_photos/sunflowers/1022552036_67d33d5bd8_n.jpg'),\n",
       " PosixPath('datasets/flower_photos/sunflowers/20777375650_ef854bf645.jpg'),\n",
       " PosixPath('datasets/flower_photos/sunflowers/6606809995_edee55b770_m.jpg'),\n",
       " PosixPath('datasets/flower_photos/sunflowers/3912497870_a2f91c3a65_n.jpg'),\n",
       " PosixPath('datasets/flower_photos/sunflowers/20342824594_9740b7b160.jpg'),\n",
       " PosixPath('datasets/flower_photos/sunflowers/5979668702_fdaec9e164_n.jpg'),\n",
       " PosixPath('datasets/flower_photos/sunflowers/5967283168_90dd4daf28_n.jpg'),\n",
       " PosixPath('datasets/flower_photos/sunflowers/1240624822_4111dde542.jpg'),\n",
       " PosixPath('datasets/flower_photos/sunflowers/4414081772_8a0e8a1327.jpg'),\n",
       " PosixPath('datasets/flower_photos/sunflowers/6140661443_bb48344226.jpg'),\n",
       " PosixPath('datasets/flower_photos/sunflowers/22183529245_ce13557515_m.jpg'),\n",
       " PosixPath('datasets/flower_photos/sunflowers/7935826214_9b57628203_m.jpg'),\n",
       " PosixPath('datasets/flower_photos/sunflowers/4689061249_6498da5013.jpg'),\n",
       " PosixPath('datasets/flower_photos/sunflowers/4755075329_1fccc69d4e.jpg'),\n",
       " PosixPath('datasets/flower_photos/sunflowers/1240625276_fb3bd0c7b1.jpg'),\n",
       " PosixPath('datasets/flower_photos/sunflowers/16656015339_2ccb7cd18d.jpg'),\n",
       " PosixPath('datasets/flower_photos/sunflowers/13117907313_86c99c6441.jpg'),\n",
       " PosixPath('datasets/flower_photos/sunflowers/14472246629_72373111e6_m.jpg'),\n",
       " PosixPath('datasets/flower_photos/sunflowers/9783416751_b2a03920f7_n.jpg'),\n",
       " PosixPath('datasets/flower_photos/sunflowers/4745991955_6804568ae0_n.jpg'),\n",
       " PosixPath('datasets/flower_photos/sunflowers/4414084638_03d2db38ae.jpg'),\n",
       " PosixPath('datasets/flower_photos/sunflowers/2823659190_afdabee45c.jpg'),\n",
       " PosixPath('datasets/flower_photos/sunflowers/8174935013_b16626b49b.jpg'),\n",
       " PosixPath('datasets/flower_photos/sunflowers/6606813305_c992231d29_m.jpg'),\n",
       " PosixPath('datasets/flower_photos/sunflowers/7820305664_82148f3bfb_n.jpg'),\n",
       " PosixPath('datasets/flower_photos/sunflowers/9904127656_f76a5a4811_m.jpg'),\n",
       " PosixPath('datasets/flower_photos/sunflowers/9240129413_f240ce7866_n.jpg'),\n",
       " PosixPath('datasets/flower_photos/sunflowers/1379256773_bb2eb0d95b_n.jpg'),\n",
       " PosixPath('datasets/flower_photos/sunflowers/6204049536_1ac4f09232_n.jpg'),\n",
       " PosixPath('datasets/flower_photos/sunflowers/8174935717_d19367d502.jpg'),\n",
       " PosixPath('datasets/flower_photos/sunflowers/164672339_f2b5b164f6.jpg'),\n",
       " PosixPath('datasets/flower_photos/sunflowers/14623720226_aeeac66e0a_n.jpg'),\n",
       " PosixPath('datasets/flower_photos/sunflowers/200557979_a16112aac1_n.jpg'),\n",
       " PosixPath('datasets/flower_photos/sunflowers/5139969871_c9046bdaa7_n.jpg'),\n",
       " PosixPath('datasets/flower_photos/sunflowers/15108515192_f686dce398_n.jpg'),\n",
       " PosixPath('datasets/flower_photos/sunflowers/5339004958_a0a6f385fd_m.jpg'),\n",
       " PosixPath('datasets/flower_photos/sunflowers/4932143849_018486cbf7.jpg'),\n",
       " PosixPath('datasets/flower_photos/sunflowers/2443095419_17b920d155_m.jpg'),\n",
       " PosixPath('datasets/flower_photos/sunflowers/4623843480_23e3fb8dcc_n.jpg'),\n",
       " PosixPath('datasets/flower_photos/sunflowers/9481563239_01b585b41d_n.jpg'),\n",
       " PosixPath('datasets/flower_photos/sunflowers/1297092593_e573c0a3d6.jpg'),\n",
       " PosixPath('datasets/flower_photos/sunflowers/4980406384_791774d953.jpg'),\n",
       " PosixPath('datasets/flower_photos/sunflowers/40410814_fba3837226_n.jpg'),\n",
       " PosixPath('datasets/flower_photos/sunflowers/9427945592_07a2676945_n.jpg'),\n",
       " PosixPath('datasets/flower_photos/sunflowers/29972905_4cc537ff4b_n.jpg'),\n",
       " PosixPath('datasets/flower_photos/sunflowers/877083343_e3338c4125.jpg'),\n",
       " PosixPath('datasets/flower_photos/sunflowers/3665455426_9cd1c3af4a_n.jpg'),\n",
       " PosixPath('datasets/flower_photos/sunflowers/3848405800_8eea982c40.jpg'),\n",
       " PosixPath('datasets/flower_photos/sunflowers/3001536784_3bfd101b23_n.jpg'),\n",
       " PosixPath('datasets/flower_photos/sunflowers/45045005_57354ee844.jpg'),\n",
       " PosixPath('datasets/flower_photos/sunflowers/4746638094_f5336788a0_n.jpg'),\n",
       " PosixPath('datasets/flower_photos/sunflowers/22429946721_e17a12cb39_n.jpg'),\n",
       " PosixPath('datasets/flower_photos/sunflowers/10386503264_e05387e1f7_m.jpg'),\n",
       " PosixPath('datasets/flower_photos/sunflowers/9610373748_b9cb67bd55.jpg'),\n",
       " PosixPath('datasets/flower_photos/sunflowers/3683873444_be4a609c46.jpg'),\n",
       " PosixPath('datasets/flower_photos/sunflowers/4927658421_7eed83bc95_m.jpg'),\n",
       " PosixPath('datasets/flower_photos/sunflowers/15495578821_92c6d14252_n.jpg'),\n",
       " PosixPath('datasets/flower_photos/sunflowers/5025805406_033cb03475_n.jpg'),\n",
       " PosixPath('datasets/flower_photos/sunflowers/5917253022_4e3142d48b_n.jpg'),\n",
       " PosixPath('datasets/flower_photos/sunflowers/11881770944_22b4f2f8f6_n.jpg'),\n",
       " PosixPath('datasets/flower_photos/sunflowers/215798357_3f4bfa27b7.jpg'),\n",
       " PosixPath('datasets/flower_photos/sunflowers/20753711039_0b11d24b50_n.jpg'),\n",
       " PosixPath('datasets/flower_photos/sunflowers/8929288228_6795bcb1fe.jpg'),\n",
       " PosixPath('datasets/flower_photos/sunflowers/4932736308_827012cff2.jpg'),\n",
       " PosixPath('datasets/flower_photos/sunflowers/6166888942_7058198713_m.jpg'),\n",
       " PosixPath('datasets/flower_photos/sunflowers/6495554833_86eb8faa8e_n.jpg'),\n",
       " PosixPath('datasets/flower_photos/sunflowers/6606741847_f0198d83ff.jpg'),\n",
       " PosixPath('datasets/flower_photos/sunflowers/26254755_1bfc494ef1_n.jpg'),\n",
       " PosixPath('datasets/flower_photos/sunflowers/5069564563_ae03792c3c_m.jpg'),\n",
       " PosixPath('datasets/flower_photos/sunflowers/14925397761_46ecfa24e0.jpg'),\n",
       " PosixPath('datasets/flower_photos/sunflowers/4895122831_83db2ba2d0_n.jpg'),\n",
       " PosixPath('datasets/flower_photos/sunflowers/21134000558_d7d6c9b1fe_n.jpg'),\n",
       " PosixPath('datasets/flower_photos/sunflowers/2588453601_66f2a03cca_n.jpg'),\n",
       " PosixPath('datasets/flower_photos/sunflowers/4933822422_4f54fc7cc8.jpg'),\n",
       " PosixPath('datasets/flower_photos/sunflowers/10862313945_e8ed9202d9_m.jpg'),\n",
       " PosixPath('datasets/flower_photos/sunflowers/5979669004_d9736206c9_n.jpg'),\n",
       " PosixPath('datasets/flower_photos/sunflowers/2940221732_3507f3e927_n.jpg'),\n",
       " PosixPath('datasets/flower_photos/sunflowers/6265084065_7a8b30cc6e_n.jpg'),\n",
       " PosixPath('datasets/flower_photos/sunflowers/14348961225_09bd803317_n.jpg'),\n",
       " PosixPath('datasets/flower_photos/sunflowers/15054865768_2cc87ac9d4_m.jpg'),\n",
       " PosixPath('datasets/flower_photos/sunflowers/6606817351_10f6e43a09.jpg'),\n",
       " PosixPath('datasets/flower_photos/sunflowers/4848279231_c4960e28b2_n.jpg'),\n",
       " PosixPath('datasets/flower_photos/sunflowers/1008566138_6927679c8a.jpg'),\n",
       " PosixPath('datasets/flower_photos/sunflowers/8014734302_65c6e83bb4_m.jpg'),\n",
       " PosixPath('datasets/flower_photos/sunflowers/22255608949_172d7c8d22_m.jpg'),\n",
       " PosixPath('datasets/flower_photos/sunflowers/4933229889_c5d9e36392.jpg'),\n",
       " PosixPath('datasets/flower_photos/sunflowers/8705462313_4458d64cd4.jpg'),\n",
       " PosixPath('datasets/flower_photos/sunflowers/4745985619_249078cafa_n.jpg'),\n",
       " PosixPath('datasets/flower_photos/sunflowers/857698097_8068a2c135_n.jpg'),\n",
       " PosixPath('datasets/flower_photos/sunflowers/7728953426_abd179ab63.jpg'),\n",
       " PosixPath('datasets/flower_photos/sunflowers/16832961488_5f7e70eb5e_n.jpg'),\n",
       " PosixPath('datasets/flower_photos/sunflowers/9213511121_836a458021_m.jpg'),\n",
       " PosixPath('datasets/flower_photos/sunflowers/4869189730_f47c124cda_n.jpg'),\n",
       " PosixPath('datasets/flower_photos/sunflowers/2694860538_b95d60122c_m.jpg'),\n",
       " PosixPath('datasets/flower_photos/sunflowers/3146795631_d062f233c1.jpg'),\n",
       " PosixPath('datasets/flower_photos/sunflowers/9206376642_8348ba5c7a.jpg'),\n",
       " PosixPath('datasets/flower_photos/sunflowers/9240005603_6a9b71dcea_n.jpg'),\n",
       " PosixPath('datasets/flower_photos/sunflowers/5994572653_ea98afa3af_n.jpg'),\n",
       " PosixPath('datasets/flower_photos/sunflowers/7530313068_ddd2dc1f44_m.jpg'),\n",
       " PosixPath('datasets/flower_photos/sunflowers/5995136822_8e1eed76f5_n.jpg'),\n",
       " PosixPath('datasets/flower_photos/sunflowers/17433282043_441b0a07f4_n.jpg'),\n",
       " PosixPath('datasets/flower_photos/sunflowers/4042816698_578a1d599e.jpg'),\n",
       " PosixPath('datasets/flower_photos/sunflowers/3840761441_7c648abf4d_n.jpg'),\n",
       " PosixPath('datasets/flower_photos/sunflowers/14646281372_5f13794b47.jpg'),\n",
       " PosixPath('datasets/flower_photos/sunflowers/20410533613_56da1cce7c.jpg'),\n",
       " PosixPath('datasets/flower_photos/sunflowers/8071460469_a7c2c34b97_n.jpg'),\n",
       " PosixPath('datasets/flower_photos/sunflowers/5139977579_ea2dd6a322_m.jpg'),\n",
       " PosixPath('datasets/flower_photos/sunflowers/18843967474_9cb552716b.jpg'),\n",
       " PosixPath('datasets/flower_photos/sunflowers/19349582128_68a662075e_n.jpg'),\n",
       " PosixPath('datasets/flower_photos/sunflowers/6133988570_9dc778e622_m.jpg'),\n",
       " PosixPath('datasets/flower_photos/sunflowers/8041242566_752def876e_n.jpg'),\n",
       " PosixPath('datasets/flower_photos/sunflowers/3596902268_049e33a2cb_n.jpg'),\n",
       " PosixPath('datasets/flower_photos/sunflowers/9339697826_88c9c4dc50.jpg'),\n",
       " PosixPath('datasets/flower_photos/sunflowers/9309473873_9d62b9082e.jpg'),\n",
       " PosixPath('datasets/flower_photos/sunflowers/6482016439_b0d06dac04.jpg'),\n",
       " PosixPath('datasets/flower_photos/sunflowers/5927432662_3ffd2461c2_n.jpg'),\n",
       " PosixPath('datasets/flower_photos/sunflowers/4933229357_1c5cc03f65_m.jpg'),\n",
       " PosixPath('datasets/flower_photos/sunflowers/215798354_429de28c2d.jpg'),\n",
       " PosixPath('datasets/flower_photos/sunflowers/13648603305_1268eda8b7_n.jpg'),\n",
       " PosixPath('datasets/flower_photos/sunflowers/15054864508_0334b892be_m.jpg'),\n",
       " PosixPath('datasets/flower_photos/sunflowers/4932735362_6e1017140f.jpg'),\n",
       " PosixPath('datasets/flower_photos/sunflowers/5020805135_1219d7523d.jpg'),\n",
       " PosixPath('datasets/flower_photos/sunflowers/4341530649_c17bbc5d01.jpg'),\n",
       " PosixPath('datasets/flower_photos/sunflowers/9555827829_74e6f60f1d_m.jpg'),\n",
       " PosixPath('datasets/flower_photos/sunflowers/2706304885_4916102704_n.jpg'),\n",
       " PosixPath('datasets/flower_photos/sunflowers/147804446_ef9244c8ce_m.jpg'),\n",
       " PosixPath('datasets/flower_photos/sunflowers/4895718876_0246882882_n.jpg'),\n",
       " PosixPath('datasets/flower_photos/sunflowers/20667988875_6e73ac2879_n.jpg'),\n",
       " PosixPath('datasets/flower_photos/sunflowers/19453165201_2aa747e0bf.jpg'),\n",
       " PosixPath('datasets/flower_photos/sunflowers/5994569021_749d5e2da3_n.jpg'),\n",
       " PosixPath('datasets/flower_photos/sunflowers/2678588376_6ca64a4a54_n.jpg'),\n",
       " PosixPath('datasets/flower_photos/sunflowers/4871455214_8b5fb87ab6_n.jpg'),\n",
       " PosixPath('datasets/flower_photos/sunflowers/15241431045_65201cf15a_n.jpg'),\n",
       " PosixPath('datasets/flower_photos/sunflowers/14858674096_ed0fc1a130.jpg'),\n",
       " PosixPath('datasets/flower_photos/sunflowers/2721638730_34a9b7a78b.jpg'),\n",
       " PosixPath('datasets/flower_photos/sunflowers/5067864967_19928ca94c_m.jpg'),\n",
       " PosixPath('datasets/flower_photos/sunflowers/6061175433_95fdb12f32_n.jpg'),\n",
       " PosixPath('datasets/flower_photos/sunflowers/4080112931_cb20b3d51a_n.jpg'),\n",
       " PosixPath('datasets/flower_photos/sunflowers/9651392844_77f90589ba_n.jpg'),\n",
       " PosixPath('datasets/flower_photos/sunflowers/3766264038_ea701c7131_n.jpg'),\n",
       " PosixPath('datasets/flower_photos/sunflowers/3922005347_7b6fb82fcd.jpg'),\n",
       " PosixPath('datasets/flower_photos/sunflowers/15054753070_4f6ae0e763_m.jpg'),\n",
       " PosixPath('datasets/flower_photos/sunflowers/4746668678_0e2693b1b9_n.jpg'),\n",
       " PosixPath('datasets/flower_photos/sunflowers/14121915990_4b76718077_m.jpg'),\n",
       " PosixPath('datasets/flower_photos/sunflowers/2996573407_5e473b9359.jpg'),\n",
       " PosixPath('datasets/flower_photos/sunflowers/15054865217_e398d0dc9f_n.jpg'),\n",
       " PosixPath('datasets/flower_photos/sunflowers/14955545254_324cd4ee75.jpg'),\n",
       " PosixPath('datasets/flower_photos/sunflowers/5004121118_e9393e60d0_n.jpg'),\n",
       " PosixPath('datasets/flower_photos/sunflowers/7586498522_4dcab1c8d2_m.jpg'),\n",
       " PosixPath('datasets/flower_photos/sunflowers/4816636411_0135bfe2c9_n.jpg'),\n",
       " PosixPath('datasets/flower_photos/sunflowers/2767688889_b176b0c3fb.jpg'),\n",
       " PosixPath('datasets/flower_photos/sunflowers/4932735566_2327bf319a.jpg'),\n",
       " PosixPath('datasets/flower_photos/sunflowers/4933824012_8cbfe606f6.jpg'),\n",
       " PosixPath('datasets/flower_photos/sunflowers/4989952542_35f2cdd5e2_n.jpg'),\n",
       " PosixPath('datasets/flower_photos/sunflowers/6140808687_88df0fd733.jpg'),\n",
       " PosixPath('datasets/flower_photos/sunflowers/15380755137_a2e67839ab_m.jpg'),\n",
       " PosixPath('datasets/flower_photos/sunflowers/14741866338_bdc8bfc8d5_n.jpg'),\n",
       " PosixPath('datasets/flower_photos/sunflowers/4746643626_02b2d056a2_n.jpg'),\n",
       " PosixPath('datasets/flower_photos/sunflowers/184682095_46f8607278.jpg'),\n",
       " PosixPath('datasets/flower_photos/sunflowers/10386702973_e74a34c806_n.jpg'),\n",
       " PosixPath('datasets/flower_photos/sunflowers/2960610406_b61930727f_n.jpg'),\n",
       " PosixPath('datasets/flower_photos/sunflowers/50987813_7484bfbcdf.jpg'),\n",
       " PosixPath('datasets/flower_photos/sunflowers/19442589512_e733cfea0f.jpg'),\n",
       " PosixPath('datasets/flower_photos/sunflowers/7176729812_7c053921fb_m.jpg'),\n",
       " PosixPath('datasets/flower_photos/sunflowers/14623719696_1bb7970208_n.jpg'),\n",
       " PosixPath('datasets/flower_photos/sunflowers/6050020905_881295ac72_n.jpg'),\n",
       " PosixPath('datasets/flower_photos/sunflowers/4933229479_c1708bd503.jpg'),\n",
       " PosixPath('datasets/flower_photos/sunflowers/5007598545_90e08e81c1_n.jpg'),\n",
       " PosixPath('datasets/flower_photos/sunflowers/7652532108_01ef94c476.jpg'),\n",
       " PosixPath('datasets/flower_photos/sunflowers/9699724719_a8439cc0fd_n.jpg'),\n",
       " PosixPath('datasets/flower_photos/sunflowers/19784656639_cd7f0a4a26_m.jpg'),\n",
       " PosixPath('datasets/flower_photos/sunflowers/3311874685_7b9ef10f7e_m.jpg'),\n",
       " PosixPath('datasets/flower_photos/sunflowers/3568114325_d6b1363497.jpg'),\n",
       " PosixPath('datasets/flower_photos/sunflowers/7012364067_5ffc7654c9_m.jpg'),\n",
       " PosixPath('datasets/flower_photos/sunflowers/15026703621_e15e9d55f0_n.jpg'),\n",
       " PosixPath('datasets/flower_photos/sunflowers/2979133707_84aab35b5d.jpg'),\n",
       " PosixPath('datasets/flower_photos/sunflowers/9445830851_e9a126fd1d_n.jpg'),\n",
       " PosixPath('datasets/flower_photos/sunflowers/3731075939_6c92d7fe68_m.jpg'),\n",
       " PosixPath('datasets/flower_photos/sunflowers/14144522269_bc20029375_m.jpg'),\n",
       " PosixPath('datasets/flower_photos/sunflowers/4235259239_21f2eb4f2e.jpg'),\n",
       " PosixPath('datasets/flower_photos/sunflowers/14925398441_107f3e0304_n.jpg'),\n",
       " PosixPath('datasets/flower_photos/sunflowers/21728822928_9f6817325a_n.jpg'),\n",
       " PosixPath('datasets/flower_photos/sunflowers/3832945398_96509d192b.jpg'),\n",
       " PosixPath('datasets/flower_photos/sunflowers/5015462205_440898fe41_n.jpg'),\n",
       " PosixPath('datasets/flower_photos/sunflowers/15218421476_9d5f38e732_m.jpg'),\n",
       " PosixPath('datasets/flower_photos/sunflowers/15118243470_7e0a7f159c_n.jpg'),\n",
       " PosixPath('datasets/flower_photos/sunflowers/15122871130_6a7d0b4372_n.jpg'),\n",
       " PosixPath('datasets/flower_photos/sunflowers/4933823194_33f6e32c5a.jpg'),\n",
       " PosixPath('datasets/flower_photos/sunflowers/8174941335_56389b53e9_n.jpg'),\n",
       " PosixPath('datasets/flower_photos/sunflowers/6122711533_2c219f0392_n.jpg'),\n",
       " PosixPath('datasets/flower_photos/sunflowers/9564240106_0577e919da_n.jpg'),\n",
       " PosixPath('datasets/flower_photos/sunflowers/2706736074_b0fba20b3e.jpg'),\n",
       " PosixPath('datasets/flower_photos/sunflowers/4746648726_e37a2de16d_n.jpg'),\n",
       " PosixPath('datasets/flower_photos/sunflowers/9610374042_bb16cded3d.jpg'),\n",
       " PosixPath('datasets/flower_photos/sunflowers/24459548_27a783feda.jpg'),\n",
       " PosixPath('datasets/flower_photos/sunflowers/7176723954_e41618edc1_n.jpg'),\n",
       " PosixPath('datasets/flower_photos/sunflowers/5027895361_ace3b731e5_n.jpg'),\n",
       " PosixPath('datasets/flower_photos/sunflowers/3912497888_e7a5905bc3_n.jpg'),\n",
       " PosixPath('datasets/flower_photos/sunflowers/4977385375_e271e282f9.jpg'),\n",
       " PosixPath('datasets/flower_photos/sunflowers/8174970894_7f9a26be7e.jpg'),\n",
       " PosixPath('datasets/flower_photos/sunflowers/4847062576_bae870479c_n.jpg'),\n",
       " PosixPath('datasets/flower_photos/sunflowers/164668737_aeab0cb55e_n.jpg'),\n",
       " PosixPath('datasets/flower_photos/sunflowers/15054752730_fcf54d475e_m.jpg'),\n",
       " PosixPath('datasets/flower_photos/sunflowers/9056495873_66e351b17c_n.jpg'),\n",
       " PosixPath('datasets/flower_photos/sunflowers/197011740_21825de2bf.jpg'),\n",
       " PosixPath('datasets/flower_photos/sunflowers/9302733302_2cb92cf275.jpg'),\n",
       " PosixPath('datasets/flower_photos/sunflowers/1880606744_23e3dc4f6b_n.jpg'),\n",
       " PosixPath('datasets/flower_photos/sunflowers/6606806621_5267acdd38.jpg'),\n",
       " PosixPath('datasets/flower_photos/sunflowers/4806174512_e04475b766_n.jpg'),\n",
       " PosixPath('datasets/flower_photos/sunflowers/6198569587_23c3693328_m.jpg'),\n",
       " PosixPath('datasets/flower_photos/sunflowers/2723995667_31f32294b4.jpg'),\n",
       " PosixPath('datasets/flower_photos/sunflowers/7176729016_d73ff2211e.jpg'),\n",
       " PosixPath('datasets/flower_photos/sunflowers/200011914_93f57ed68b.jpg'),\n",
       " PosixPath('datasets/flower_photos/sunflowers/2895404754_6d9f9416d7_n.jpg'),\n",
       " PosixPath('datasets/flower_photos/sunflowers/5830614551_e460a1215c.jpg'),\n",
       " PosixPath('datasets/flower_photos/sunflowers/184682652_c927a49226_m.jpg'),\n",
       " PosixPath('datasets/flower_photos/sunflowers/4933228903_9ae82d0b9d.jpg'),\n",
       " PosixPath('datasets/flower_photos/sunflowers/4914793782_d0ea760791.jpg'),\n",
       " PosixPath('datasets/flower_photos/sunflowers/16967372357_15b1b9a812_n.jpg'),\n",
       " PosixPath('datasets/flower_photos/sunflowers/5043409092_5b12cc985a_m.jpg'),\n",
       " PosixPath('datasets/flower_photos/sunflowers/2883115609_5a69357b5d_m.jpg'),\n",
       " PosixPath('datasets/flower_photos/sunflowers/5139971615_434ff8ed8b_n.jpg'),\n",
       " PosixPath('datasets/flower_photos/sunflowers/9359374034_21fb12d613_n.jpg'),\n",
       " PosixPath('datasets/flower_photos/sunflowers/2733109082_1351f6738a_n.jpg'),\n",
       " PosixPath('datasets/flower_photos/sunflowers/9484354480_07ff2ef0a6.jpg'),\n",
       " PosixPath('datasets/flower_photos/sunflowers/9610371852_179e7781ce.jpg'),\n",
       " PosixPath('datasets/flower_photos/sunflowers/2575272111_f04d79b9af_n.jpg'),\n",
       " PosixPath('datasets/flower_photos/sunflowers/4673984698_6ec14d5b79.jpg'),\n",
       " PosixPath('datasets/flower_photos/sunflowers/22419079265_8902cddb7d_n.jpg'),\n",
       " PosixPath('datasets/flower_photos/sunflowers/3062794421_295f8c2c4e.jpg'),\n",
       " PosixPath('datasets/flower_photos/sunflowers/2807106374_f422b5f00c.jpg'),\n",
       " PosixPath('datasets/flower_photos/sunflowers/15122112402_cafa41934f.jpg'),\n",
       " PosixPath('datasets/flower_photos/sunflowers/14460075029_5cd715bb72_m.jpg'),\n",
       " PosixPath('datasets/flower_photos/sunflowers/6495559397_61d01c0c57.jpg'),\n",
       " PosixPath('datasets/flower_photos/sunflowers/5923085891_27617463fe.jpg'),\n",
       " PosixPath('datasets/flower_photos/sunflowers/7791014076_07a897cb85_n.jpg'),\n",
       " PosixPath('datasets/flower_photos/sunflowers/175638423_058c07afb9.jpg'),\n",
       " PosixPath('datasets/flower_photos/sunflowers/22405887122_75eda1872f_m.jpg'),\n",
       " PosixPath('datasets/flower_photos/sunflowers/40411100_7fbe10ec0f_n.jpg'),\n",
       " PosixPath('datasets/flower_photos/sunflowers/9410186154_465642ed35.jpg'),\n",
       " PosixPath('datasets/flower_photos/sunflowers/6908789145_814d448bb1_n.jpg'),\n",
       " PosixPath('datasets/flower_photos/sunflowers/4878447831_e904c60cf8_n.jpg'),\n",
       " PosixPath('datasets/flower_photos/sunflowers/5357144886_b78f4782eb.jpg'),\n",
       " PosixPath('datasets/flower_photos/sunflowers/15238348741_c2fb12ecf2_m.jpg'),\n",
       " PosixPath('datasets/flower_photos/sunflowers/1043442695_4556c4c13d_n.jpg'),\n",
       " PosixPath('datasets/flower_photos/sunflowers/21796333524_38fc8e0ab5_n.jpg'),\n",
       " PosixPath('datasets/flower_photos/sunflowers/184682506_8a9b8c662d.jpg'),\n",
       " PosixPath('datasets/flower_photos/sunflowers/3466923719_b4b6df7f8b_n.jpg'),\n",
       " PosixPath('datasets/flower_photos/sunflowers/9558630626_52a1b7d702_m.jpg'),\n",
       " PosixPath('datasets/flower_photos/sunflowers/1314584013_fe935fdeb1_n.jpg'),\n",
       " PosixPath('datasets/flower_photos/sunflowers/4626721387_88f89d5cc9_n.jpg'),\n",
       " PosixPath('datasets/flower_photos/sunflowers/5951665793_8ae4807cbd_n.jpg'),\n",
       " PosixPath('datasets/flower_photos/sunflowers/13096076565_72c2c60875_n.jpg'),\n",
       " PosixPath('datasets/flower_photos/sunflowers/15973657966_d6f6005539_n.jpg'),\n",
       " PosixPath('datasets/flower_photos/sunflowers/15043962658_dcf9dff5e9_n.jpg'),\n",
       " PosixPath('datasets/flower_photos/sunflowers/7820398908_4316bbba45.jpg'),\n",
       " PosixPath('datasets/flower_photos/sunflowers/8928658373_fdca5ff1b8.jpg'),\n",
       " PosixPath('datasets/flower_photos/sunflowers/678714585_addc9aaaef.jpg'),\n",
       " PosixPath('datasets/flower_photos/sunflowers/5955501969_e42f038a6f_n.jpg'),\n",
       " PosixPath('datasets/flower_photos/sunflowers/23356825566_f5885875f2.jpg'),\n",
       " PosixPath('datasets/flower_photos/sunflowers/3883895985_bd20198371.jpg'),\n",
       " PosixPath('datasets/flower_photos/sunflowers/5994586159_1dd99d66b4_n.jpg'),\n",
       " PosixPath('datasets/flower_photos/sunflowers/14741907467_fab96f3b2b_n.jpg'),\n",
       " PosixPath('datasets/flower_photos/sunflowers/274846229_990e976683_n.jpg'),\n",
       " PosixPath('datasets/flower_photos/sunflowers/2803725948_5fd1f2fc99_n.jpg'),\n",
       " PosixPath('datasets/flower_photos/sunflowers/6141150299_b46a64e4de.jpg'),\n",
       " PosixPath('datasets/flower_photos/sunflowers/13354458753_7b586f7c95_n.jpg'),\n",
       " PosixPath('datasets/flower_photos/sunflowers/6958724008_12259943a7.jpg'),\n",
       " PosixPath('datasets/flower_photos/sunflowers/20871601265_daa4be4291_n.jpg'),\n",
       " PosixPath('datasets/flower_photos/sunflowers/9216286162_6ceefdd1b4_m.jpg'),\n",
       " PosixPath('datasets/flower_photos/sunflowers/6199086734_b7ddc65816_m.jpg'),\n",
       " PosixPath('datasets/flower_photos/sunflowers/20410697750_c43973d1eb.jpg'),\n",
       " PosixPath('datasets/flower_photos/sunflowers/2443921986_d4582c123a.jpg'),\n",
       " PosixPath('datasets/flower_photos/sunflowers/8014735546_3db46bb1fe_n.jpg'),\n",
       " PosixPath('datasets/flower_photos/sunflowers/8481979626_98c9f88848_n.jpg'),\n",
       " PosixPath('datasets/flower_photos/sunflowers/4813483281_f3707a71e7_n.jpg'),\n",
       " PosixPath('datasets/flower_photos/sunflowers/2729206569_9dd2b5a3ed.jpg'),\n",
       " PosixPath('datasets/flower_photos/sunflowers/9555824387_32b151e9b0_m.jpg'),\n",
       " PosixPath('datasets/flower_photos/sunflowers/4831577091_f56157a5d5_n.jpg'),\n",
       " PosixPath('datasets/flower_photos/sunflowers/19756232959_17cde3b9f0_m.jpg'),\n",
       " PosixPath('datasets/flower_photos/sunflowers/7510240282_87554c7418_n.jpg'),\n",
       " PosixPath('datasets/flower_photos/sunflowers/19595718862_c68896370c_m.jpg'),\n",
       " PosixPath('datasets/flower_photos/sunflowers/8081530919_c882d46bb0_n.jpg'),\n",
       " PosixPath('datasets/flower_photos/sunflowers/19710076021_f5bb162540.jpg'),\n",
       " PosixPath('datasets/flower_photos/sunflowers/5979111555_61b400c070_n.jpg'),\n",
       " PosixPath('datasets/flower_photos/sunflowers/3950020811_dab89bebc0_n.jpg'),\n",
       " PosixPath('datasets/flower_photos/sunflowers/9482209981_bf7bf6022b_m.jpg'),\n",
       " PosixPath('datasets/flower_photos/sunflowers/151898652_b5f1c70b98_n.jpg'),\n",
       " PosixPath('datasets/flower_photos/sunflowers/4872284527_ff52128b97.jpg'),\n",
       " PosixPath('datasets/flower_photos/sunflowers/18828277053_1493158b28.jpg'),\n",
       " PosixPath('datasets/flower_photos/sunflowers/969913643_9d5cd2fe45_m.jpg'),\n",
       " PosixPath('datasets/flower_photos/sunflowers/9511172241_8aee411e2e.jpg'),\n",
       " PosixPath('datasets/flower_photos/sunflowers/9231555352_d2dd8f8e68_m.jpg'),\n",
       " PosixPath('datasets/flower_photos/sunflowers/15460162172_014bcce403.jpg'),\n",
       " PosixPath('datasets/flower_photos/sunflowers/8478248531_1a16e232b5.jpg'),\n",
       " PosixPath('datasets/flower_photos/sunflowers/15081164641_45a7b92b3a_m.jpg'),\n",
       " PosixPath('datasets/flower_photos/sunflowers/6606749757_b98a4ba403.jpg'),\n",
       " PosixPath('datasets/flower_photos/sunflowers/1044296388_912143e1d4.jpg'),\n",
       " PosixPath('datasets/flower_photos/sunflowers/4933229197_ff75a40d55.jpg'),\n",
       " PosixPath('datasets/flower_photos/sunflowers/14244410747_22691ece4a_n.jpg'),\n",
       " PosixPath('datasets/flower_photos/sunflowers/12471441503_d188b5f31a_m.jpg'),\n",
       " PosixPath('datasets/flower_photos/sunflowers/9246304620_768d1f54d7_n.jpg'),\n",
       " PosixPath('datasets/flower_photos/sunflowers/15218871222_c104032ca1.jpg'),\n",
       " PosixPath('datasets/flower_photos/sunflowers/9448615838_04078d09bf_n.jpg'),\n",
       " PosixPath('datasets/flower_photos/sunflowers/14244273988_a7484f18b7_m.jpg'),\n",
       " PosixPath('datasets/flower_photos/sunflowers/4414080766_5116e8084e.jpg'),\n",
       " PosixPath('datasets/flower_photos/sunflowers/6627521877_6e43fb3c49_m.jpg'),\n",
       " PosixPath('datasets/flower_photos/sunflowers/5139969631_743880e01d_n.jpg'),\n",
       " PosixPath('datasets/flower_photos/sunflowers/6606743797_c90c669757.jpg'),\n",
       " PosixPath('datasets/flower_photos/sunflowers/3865206264_5d81584bba.jpg'),\n",
       " PosixPath('datasets/flower_photos/sunflowers/6140693467_211a135b6d.jpg'),\n",
       " PosixPath('datasets/flower_photos/sunflowers/4933822052_2dfef02517.jpg'),\n",
       " PosixPath('datasets/flower_photos/sunflowers/2588234269_c4bfd0d8b9_n.jpg'),\n",
       " PosixPath('datasets/flower_photos/sunflowers/193874852_fb633d8d00_n.jpg'),\n",
       " PosixPath('datasets/flower_photos/sunflowers/184683023_737fec5b18.jpg'),\n",
       " PosixPath('datasets/flower_photos/sunflowers/3001533700_1c62fb8b4a_n.jpg'),\n",
       " PosixPath('datasets/flower_photos/sunflowers/3858508462_db2b9692d1.jpg'),\n",
       " PosixPath('datasets/flower_photos/sunflowers/5293283002_9b17f085f7_m.jpg'),\n",
       " PosixPath('datasets/flower_photos/sunflowers/4895721788_f10208ab77_n.jpg'),\n",
       " ...]"
      ]
     },
     "execution_count": 5,
     "metadata": {},
     "output_type": "execute_result"
    }
   ],
   "source": [
    "list(direc.glob('*/*.jpg'))"
   ]
  },
  {
   "cell_type": "code",
   "execution_count": 6,
   "id": "b87b0c11",
   "metadata": {
    "execution": {
     "iopub.execute_input": "2023-12-08T17:26:19.506081Z",
     "iopub.status.busy": "2023-12-08T17:26:19.504741Z",
     "iopub.status.idle": "2023-12-08T17:26:19.527631Z",
     "shell.execute_reply": "2023-12-08T17:26:19.526097Z"
    },
    "papermill": {
     "duration": 0.044824,
     "end_time": "2023-12-08T17:26:19.530568",
     "exception": false,
     "start_time": "2023-12-08T17:26:19.485744",
     "status": "completed"
    },
    "tags": []
   },
   "outputs": [],
   "source": [
    "count=len(list(direc.glob('*/*.jpg')))"
   ]
  },
  {
   "cell_type": "markdown",
   "id": "beaa749a",
   "metadata": {
    "papermill": {
     "duration": 0.015418,
     "end_time": "2023-12-08T17:26:19.562224",
     "exception": false,
     "start_time": "2023-12-08T17:26:19.546806",
     "status": "completed"
    },
    "tags": []
   },
   "source": [
    "# Storing all flowers"
   ]
  },
  {
   "cell_type": "code",
   "execution_count": 7,
   "id": "53e9f79b",
   "metadata": {
    "execution": {
     "iopub.execute_input": "2023-12-08T17:26:19.598344Z",
     "iopub.status.busy": "2023-12-08T17:26:19.597566Z",
     "iopub.status.idle": "2023-12-08T17:26:19.620264Z",
     "shell.execute_reply": "2023-12-08T17:26:19.618884Z"
    },
    "papermill": {
     "duration": 0.044845,
     "end_time": "2023-12-08T17:26:19.623413",
     "exception": false,
     "start_time": "2023-12-08T17:26:19.578568",
     "status": "completed"
    },
    "tags": []
   },
   "outputs": [],
   "source": [
    "flowers={\n",
    "    'rose':list(direc.glob('roses/*')),\n",
    "    'tulip':list(direc.glob('tulips/*')),\n",
    "    'dandelion':list(direc.glob('dandelion/*')),\n",
    "    'daisy':list(direc.glob('daisy/*')),\n",
    "    'sunflower':list(direc.glob('sunflowers/*')),\n",
    "}"
   ]
  },
  {
   "cell_type": "code",
   "execution_count": 8,
   "id": "b0597e06",
   "metadata": {
    "execution": {
     "iopub.execute_input": "2023-12-08T17:26:19.656698Z",
     "iopub.status.busy": "2023-12-08T17:26:19.656190Z",
     "iopub.status.idle": "2023-12-08T17:26:19.662262Z",
     "shell.execute_reply": "2023-12-08T17:26:19.660899Z"
    },
    "papermill": {
     "duration": 0.025643,
     "end_time": "2023-12-08T17:26:19.664696",
     "exception": false,
     "start_time": "2023-12-08T17:26:19.639053",
     "status": "completed"
    },
    "tags": []
   },
   "outputs": [],
   "source": [
    "lables={\n",
    "    'rose':0,\n",
    "    'daisy':1,\n",
    "    'dandelion':2,\n",
    "    'sunflower':3,\n",
    "    'tulip':4,\n",
    "    \n",
    "}"
   ]
  },
  {
   "cell_type": "code",
   "execution_count": 9,
   "id": "9b05631b",
   "metadata": {
    "execution": {
     "iopub.execute_input": "2023-12-08T17:26:19.698333Z",
     "iopub.status.busy": "2023-12-08T17:26:19.697847Z",
     "iopub.status.idle": "2023-12-08T17:26:19.726212Z",
     "shell.execute_reply": "2023-12-08T17:26:19.724779Z"
    },
    "papermill": {
     "duration": 0.048924,
     "end_time": "2023-12-08T17:26:19.729033",
     "exception": false,
     "start_time": "2023-12-08T17:26:19.680109",
     "status": "completed"
    },
    "tags": []
   },
   "outputs": [],
   "source": [
    "image=cv2.imread(str(flowers['rose'][0]))"
   ]
  },
  {
   "cell_type": "code",
   "execution_count": 10,
   "id": "ada82c64",
   "metadata": {
    "execution": {
     "iopub.execute_input": "2023-12-08T17:26:19.762622Z",
     "iopub.status.busy": "2023-12-08T17:26:19.762143Z",
     "iopub.status.idle": "2023-12-08T17:26:19.770061Z",
     "shell.execute_reply": "2023-12-08T17:26:19.768553Z"
    },
    "papermill": {
     "duration": 0.027624,
     "end_time": "2023-12-08T17:26:19.772424",
     "exception": false,
     "start_time": "2023-12-08T17:26:19.744800",
     "status": "completed"
    },
    "tags": []
   },
   "outputs": [
    {
     "data": {
      "text/plain": [
       "(240, 320, 3)"
      ]
     },
     "execution_count": 10,
     "metadata": {},
     "output_type": "execute_result"
    }
   ],
   "source": [
    "image.shape"
   ]
  },
  {
   "cell_type": "markdown",
   "id": "24535838",
   "metadata": {
    "papermill": {
     "duration": 0.015308,
     "end_time": "2023-12-08T17:26:19.803565",
     "exception": false,
     "start_time": "2023-12-08T17:26:19.788257",
     "status": "completed"
    },
    "tags": []
   },
   "source": [
    "Reading and resizing images from a dataset of flowers, storing the resized images in list x and their corresponding labels in list y. The labels are determined by mapping flower names to labels using the labels dictionary."
   ]
  },
  {
   "cell_type": "code",
   "execution_count": 11,
   "id": "11554798",
   "metadata": {
    "execution": {
     "iopub.execute_input": "2023-12-08T17:26:19.836981Z",
     "iopub.status.busy": "2023-12-08T17:26:19.836453Z",
     "iopub.status.idle": "2023-12-08T17:26:29.654168Z",
     "shell.execute_reply": "2023-12-08T17:26:29.652800Z"
    },
    "papermill": {
     "duration": 9.838451,
     "end_time": "2023-12-08T17:26:29.657469",
     "exception": false,
     "start_time": "2023-12-08T17:26:19.819018",
     "status": "completed"
    },
    "tags": []
   },
   "outputs": [],
   "source": [
    "x,y=[],[]\n",
    "for flower_name,images in flowers.items():\n",
    "    for img in images:\n",
    "        img=cv2.imread(str(img))\n",
    "        resized=cv2.resize(img,(100,100))\n",
    "        x.append(resized)\n",
    "        y.append(lables[flower_name])\n",
    "    "
   ]
  },
  {
   "cell_type": "code",
   "execution_count": 12,
   "id": "9fa8e7a4",
   "metadata": {
    "execution": {
     "iopub.execute_input": "2023-12-08T17:26:29.692208Z",
     "iopub.status.busy": "2023-12-08T17:26:29.691786Z",
     "iopub.status.idle": "2023-12-08T17:26:29.752931Z",
     "shell.execute_reply": "2023-12-08T17:26:29.752064Z"
    },
    "papermill": {
     "duration": 0.082125,
     "end_time": "2023-12-08T17:26:29.756243",
     "exception": false,
     "start_time": "2023-12-08T17:26:29.674118",
     "status": "completed"
    },
    "tags": []
   },
   "outputs": [],
   "source": [
    "x=np.array(x)\n",
    "y=np.array(y)"
   ]
  },
  {
   "cell_type": "code",
   "execution_count": 13,
   "id": "879157bd",
   "metadata": {
    "execution": {
     "iopub.execute_input": "2023-12-08T17:26:29.792212Z",
     "iopub.status.busy": "2023-12-08T17:26:29.791091Z",
     "iopub.status.idle": "2023-12-08T17:26:29.799865Z",
     "shell.execute_reply": "2023-12-08T17:26:29.798353Z"
    },
    "papermill": {
     "duration": 0.029785,
     "end_time": "2023-12-08T17:26:29.802519",
     "exception": false,
     "start_time": "2023-12-08T17:26:29.772734",
     "status": "completed"
    },
    "tags": []
   },
   "outputs": [
    {
     "data": {
      "text/plain": [
       "((3670, 100, 100, 3), (3670,))"
      ]
     },
     "execution_count": 13,
     "metadata": {},
     "output_type": "execute_result"
    }
   ],
   "source": [
    "x.shape,y.shape"
   ]
  },
  {
   "cell_type": "markdown",
   "id": "d881f146",
   "metadata": {
    "papermill": {
     "duration": 0.016052,
     "end_time": "2023-12-08T17:26:29.835115",
     "exception": false,
     "start_time": "2023-12-08T17:26:29.819063",
     "status": "completed"
    },
    "tags": []
   },
   "source": [
    "# Train Test Split"
   ]
  },
  {
   "cell_type": "code",
   "execution_count": 14,
   "id": "cc07df2b",
   "metadata": {
    "execution": {
     "iopub.execute_input": "2023-12-08T17:26:29.969481Z",
     "iopub.status.busy": "2023-12-08T17:26:29.968006Z",
     "iopub.status.idle": "2023-12-08T17:26:31.312131Z",
     "shell.execute_reply": "2023-12-08T17:26:31.310596Z"
    },
    "papermill": {
     "duration": 1.463236,
     "end_time": "2023-12-08T17:26:31.315503",
     "exception": false,
     "start_time": "2023-12-08T17:26:29.852267",
     "status": "completed"
    },
    "tags": []
   },
   "outputs": [],
   "source": [
    "from sklearn.model_selection import train_test_split\n",
    "x_train,x_test,y_train,y_test=train_test_split(x,y,random_state=0)"
   ]
  },
  {
   "cell_type": "code",
   "execution_count": 15,
   "id": "135e0469",
   "metadata": {
    "execution": {
     "iopub.execute_input": "2023-12-08T17:26:31.349559Z",
     "iopub.status.busy": "2023-12-08T17:26:31.349128Z",
     "iopub.status.idle": "2023-12-08T17:26:31.357664Z",
     "shell.execute_reply": "2023-12-08T17:26:31.356406Z"
    },
    "papermill": {
     "duration": 0.028982,
     "end_time": "2023-12-08T17:26:31.360385",
     "exception": false,
     "start_time": "2023-12-08T17:26:31.331403",
     "status": "completed"
    },
    "tags": []
   },
   "outputs": [
    {
     "data": {
      "text/plain": [
       "((2752, 100, 100, 3), (918, 100, 100, 3))"
      ]
     },
     "execution_count": 15,
     "metadata": {},
     "output_type": "execute_result"
    }
   ],
   "source": [
    "x_train.shape,x_test.shape"
   ]
  },
  {
   "cell_type": "markdown",
   "id": "31bd8520",
   "metadata": {
    "papermill": {
     "duration": 0.016349,
     "end_time": "2023-12-08T17:26:31.392795",
     "exception": false,
     "start_time": "2023-12-08T17:26:31.376446",
     "status": "completed"
    },
    "tags": []
   },
   "source": [
    "# Scaling Images"
   ]
  },
  {
   "cell_type": "code",
   "execution_count": 16,
   "id": "8adb82d6",
   "metadata": {
    "execution": {
     "iopub.execute_input": "2023-12-08T17:26:31.427325Z",
     "iopub.status.busy": "2023-12-08T17:26:31.426905Z",
     "iopub.status.idle": "2023-12-08T17:26:31.867633Z",
     "shell.execute_reply": "2023-12-08T17:26:31.866221Z"
    },
    "papermill": {
     "duration": 0.461148,
     "end_time": "2023-12-08T17:26:31.870602",
     "exception": false,
     "start_time": "2023-12-08T17:26:31.409454",
     "status": "completed"
    },
    "tags": []
   },
   "outputs": [],
   "source": [
    "x_train_scaled=x_train/255\n",
    "x_test_scaled=x_test/255"
   ]
  },
  {
   "cell_type": "markdown",
   "id": "0423d0ac",
   "metadata": {
    "papermill": {
     "duration": 0.015624,
     "end_time": "2023-12-08T17:26:31.902706",
     "exception": false,
     "start_time": "2023-12-08T17:26:31.887082",
     "status": "completed"
    },
    "tags": []
   },
   "source": [
    "# Model Building"
   ]
  },
  {
   "cell_type": "code",
   "execution_count": 17,
   "id": "eb597e35",
   "metadata": {
    "execution": {
     "iopub.execute_input": "2023-12-08T17:26:31.937650Z",
     "iopub.status.busy": "2023-12-08T17:26:31.937258Z",
     "iopub.status.idle": "2023-12-08T17:26:32.095472Z",
     "shell.execute_reply": "2023-12-08T17:26:32.093959Z"
    },
    "papermill": {
     "duration": 0.179613,
     "end_time": "2023-12-08T17:26:32.098580",
     "exception": false,
     "start_time": "2023-12-08T17:26:31.918967",
     "status": "completed"
    },
    "tags": []
   },
   "outputs": [],
   "source": [
    "classes=5\n",
    "model=Sequential([\n",
    "    layers.Conv2D(16,3,padding='same',activation='relu'),\n",
    "    layers.MaxPooling2D(),\n",
    "    layers.Conv2D(32,3,padding='same',activation='relu'),\n",
    "    layers.MaxPooling2D(),\n",
    "    layers.Conv2D(64,3,padding='same',activation='relu'),\n",
    "    layers.MaxPooling2D(),\n",
    "    layers.Flatten(),\n",
    "    layers.Dense(128,activation='relu'),\n",
    "    layers.Dense(classes)\n",
    "])\n",
    "\n",
    "model.compile(optimizer='adam',\n",
    "             loss=tf.keras.losses.SparseCategoricalCrossentropy(from_logits=True),\n",
    "             metrics=['accuracy'])"
   ]
  },
  {
   "cell_type": "markdown",
   "id": "e53f35d8",
   "metadata": {
    "papermill": {
     "duration": 0.015703,
     "end_time": "2023-12-08T17:26:32.130462",
     "exception": false,
     "start_time": "2023-12-08T17:26:32.114759",
     "status": "completed"
    },
    "tags": []
   },
   "source": [
    "# Model Training"
   ]
  },
  {
   "cell_type": "code",
   "execution_count": 18,
   "id": "f29817ee",
   "metadata": {
    "execution": {
     "iopub.execute_input": "2023-12-08T17:26:32.166148Z",
     "iopub.status.busy": "2023-12-08T17:26:32.165716Z",
     "iopub.status.idle": "2023-12-08T17:31:56.523047Z",
     "shell.execute_reply": "2023-12-08T17:31:56.521523Z"
    },
    "papermill": {
     "duration": 324.56633,
     "end_time": "2023-12-08T17:31:56.713098",
     "exception": false,
     "start_time": "2023-12-08T17:26:32.146768",
     "status": "completed"
    },
    "tags": []
   },
   "outputs": [
    {
     "name": "stdout",
     "output_type": "stream",
     "text": [
      "Epoch 1/20\n",
      "86/86 [==============================] - 16s 169ms/step - loss: 1.2361 - accuracy: 0.4633\n",
      "Epoch 2/20\n",
      "86/86 [==============================] - 15s 169ms/step - loss: 0.9926 - accuracy: 0.5999\n",
      "Epoch 3/20\n",
      "86/86 [==============================] - 15s 169ms/step - loss: 0.8578 - accuracy: 0.6690\n",
      "Epoch 4/20\n",
      "86/86 [==============================] - 15s 169ms/step - loss: 0.7363 - accuracy: 0.7206\n",
      "Epoch 5/20\n",
      "86/86 [==============================] - 15s 171ms/step - loss: 0.6224 - accuracy: 0.7656\n",
      "Epoch 6/20\n",
      "86/86 [==============================] - 14s 163ms/step - loss: 0.4866 - accuracy: 0.8245\n",
      "Epoch 7/20\n",
      "86/86 [==============================] - 15s 172ms/step - loss: 0.3634 - accuracy: 0.8725\n",
      "Epoch 8/20\n",
      "86/86 [==============================] - 14s 167ms/step - loss: 0.2458 - accuracy: 0.9186\n",
      "Epoch 9/20\n",
      "86/86 [==============================] - 15s 172ms/step - loss: 0.1651 - accuracy: 0.9484\n",
      "Epoch 10/20\n",
      "86/86 [==============================] - 14s 167ms/step - loss: 0.1091 - accuracy: 0.9695\n",
      "Epoch 11/20\n",
      "86/86 [==============================] - 15s 174ms/step - loss: 0.0718 - accuracy: 0.9771\n",
      "Epoch 12/20\n",
      "86/86 [==============================] - 14s 168ms/step - loss: 0.0466 - accuracy: 0.9884\n",
      "Epoch 13/20\n",
      "86/86 [==============================] - 15s 172ms/step - loss: 0.0308 - accuracy: 0.9931\n",
      "Epoch 14/20\n",
      "86/86 [==============================] - 15s 176ms/step - loss: 0.0172 - accuracy: 0.9985\n",
      "Epoch 15/20\n",
      "86/86 [==============================] - 15s 170ms/step - loss: 0.0502 - accuracy: 0.9855\n",
      "Epoch 16/20\n",
      "86/86 [==============================] - 15s 176ms/step - loss: 0.0762 - accuracy: 0.9793\n",
      "Epoch 17/20\n",
      "86/86 [==============================] - 15s 170ms/step - loss: 0.0292 - accuracy: 0.9949\n",
      "Epoch 18/20\n",
      "86/86 [==============================] - 15s 174ms/step - loss: 0.0164 - accuracy: 0.9960\n",
      "Epoch 19/20\n",
      "86/86 [==============================] - 15s 171ms/step - loss: 0.0384 - accuracy: 0.9898\n",
      "Epoch 20/20\n",
      "86/86 [==============================] - 15s 173ms/step - loss: 0.0537 - accuracy: 0.9840\n"
     ]
    },
    {
     "data": {
      "text/plain": [
       "<keras.src.callbacks.History at 0x78f29cf88b50>"
      ]
     },
     "execution_count": 18,
     "metadata": {},
     "output_type": "execute_result"
    }
   ],
   "source": [
    "model.fit(x_train_scaled,y_train,epochs=20)"
   ]
  },
  {
   "cell_type": "markdown",
   "id": "7d4566da",
   "metadata": {
    "papermill": {
     "duration": 0.183965,
     "end_time": "2023-12-08T17:31:57.084299",
     "exception": false,
     "start_time": "2023-12-08T17:31:56.900334",
     "status": "completed"
    },
    "tags": []
   },
   "source": [
    "# Test Data Evaluation"
   ]
  },
  {
   "cell_type": "code",
   "execution_count": 19,
   "id": "34026f3d",
   "metadata": {
    "execution": {
     "iopub.execute_input": "2023-12-08T17:31:57.459089Z",
     "iopub.status.busy": "2023-12-08T17:31:57.458325Z",
     "iopub.status.idle": "2023-12-08T17:31:59.321247Z",
     "shell.execute_reply": "2023-12-08T17:31:59.320351Z"
    },
    "papermill": {
     "duration": 2.051046,
     "end_time": "2023-12-08T17:31:59.323553",
     "exception": false,
     "start_time": "2023-12-08T17:31:57.272507",
     "status": "completed"
    },
    "tags": []
   },
   "outputs": [
    {
     "name": "stdout",
     "output_type": "stream",
     "text": [
      "29/29 [==============================] - 2s 44ms/step - loss: 1.7165 - accuracy: 0.6612\n"
     ]
    },
    {
     "data": {
      "text/plain": [
       "[1.716465950012207, 0.6612200140953064]"
      ]
     },
     "execution_count": 19,
     "metadata": {},
     "output_type": "execute_result"
    }
   ],
   "source": [
    "model.evaluate(x_test_scaled,y_test)"
   ]
  },
  {
   "cell_type": "code",
   "execution_count": 20,
   "id": "24a4f536",
   "metadata": {
    "execution": {
     "iopub.execute_input": "2023-12-08T17:31:59.713102Z",
     "iopub.status.busy": "2023-12-08T17:31:59.712648Z",
     "iopub.status.idle": "2023-12-08T17:32:02.695161Z",
     "shell.execute_reply": "2023-12-08T17:32:02.694283Z"
    },
    "papermill": {
     "duration": 3.183786,
     "end_time": "2023-12-08T17:32:02.698087",
     "exception": false,
     "start_time": "2023-12-08T17:31:59.514301",
     "status": "completed"
    },
    "tags": []
   },
   "outputs": [
    {
     "name": "stdout",
     "output_type": "stream",
     "text": [
      "29/29 [==============================] - 1s 43ms/step\n"
     ]
    }
   ],
   "source": [
    "predictions=model.predict(x_test_scaled)"
   ]
  },
  {
   "cell_type": "code",
   "execution_count": 21,
   "id": "ff894a94",
   "metadata": {
    "execution": {
     "iopub.execute_input": "2023-12-08T17:32:03.078103Z",
     "iopub.status.busy": "2023-12-08T17:32:03.077033Z",
     "iopub.status.idle": "2023-12-08T17:32:03.084357Z",
     "shell.execute_reply": "2023-12-08T17:32:03.083524Z"
    },
    "papermill": {
     "duration": 0.20127,
     "end_time": "2023-12-08T17:32:03.086984",
     "exception": false,
     "start_time": "2023-12-08T17:32:02.885714",
     "status": "completed"
    },
    "tags": []
   },
   "outputs": [
    {
     "data": {
      "text/plain": [
       "array([[  6.0495896 ,  -5.2500305 ,  -4.832042  ,  -7.5773144 ,\n",
       "         17.513409  ],\n",
       "       [  6.3124747 ,   5.268334  ,   0.48024994, -11.737869  ,\n",
       "          2.0117652 ],\n",
       "       [ -2.9519315 ,  -3.1161592 ,   5.7984667 ,  -0.9318184 ,\n",
       "          0.56333476],\n",
       "       ...,\n",
       "       [-11.171617  ,  13.206517  ,   4.081371  ,  -4.1494527 ,\n",
       "         -1.965937  ],\n",
       "       [ 14.795823  ,  -8.069537  ,  -0.6375924 ,  -1.5225643 ,\n",
       "          4.931836  ],\n",
       "       [ -2.7246072 ,   8.504483  ,  -0.9589247 ,   6.5074635 ,\n",
       "         -2.1584308 ]], dtype=float32)"
      ]
     },
     "execution_count": 21,
     "metadata": {},
     "output_type": "execute_result"
    }
   ],
   "source": [
    "predictions"
   ]
  },
  {
   "cell_type": "markdown",
   "id": "f484d94a",
   "metadata": {
    "papermill": {
     "duration": 0.18615,
     "end_time": "2023-12-08T17:32:03.466494",
     "exception": false,
     "start_time": "2023-12-08T17:32:03.280344",
     "status": "completed"
    },
    "tags": []
   },
   "source": [
    "# Data Augmentation"
   ]
  },
  {
   "cell_type": "code",
   "execution_count": 22,
   "id": "cb18179b",
   "metadata": {
    "execution": {
     "iopub.execute_input": "2023-12-08T17:32:03.842689Z",
     "iopub.status.busy": "2023-12-08T17:32:03.841722Z",
     "iopub.status.idle": "2023-12-08T17:32:04.068632Z",
     "shell.execute_reply": "2023-12-08T17:32:04.067179Z"
    },
    "papermill": {
     "duration": 0.419616,
     "end_time": "2023-12-08T17:32:04.071650",
     "exception": false,
     "start_time": "2023-12-08T17:32:03.652034",
     "status": "completed"
    },
    "tags": []
   },
   "outputs": [],
   "source": [
    "data_augmentation=keras.Sequential([\n",
    "    layers.experimental.preprocessing.RandomFlip(\"horizontal\",input_shape=(100,100,3)),\n",
    "    layers.experimental.preprocessing.RandomRotation(0.1),\n",
    "    layers.experimental.preprocessing.RandomZoom(0.1),\n",
    "    layers.experimental.preprocessing.RandomContrast(0.1),\n",
    "    \n",
    "])"
   ]
  },
  {
   "cell_type": "code",
   "execution_count": 23,
   "id": "829202c1",
   "metadata": {
    "execution": {
     "iopub.execute_input": "2023-12-08T17:32:04.445681Z",
     "iopub.status.busy": "2023-12-08T17:32:04.445279Z",
     "iopub.status.idle": "2023-12-08T17:37:58.083953Z",
     "shell.execute_reply": "2023-12-08T17:37:58.082824Z"
    },
    "papermill": {
     "duration": 353.825977,
     "end_time": "2023-12-08T17:37:58.086257",
     "exception": false,
     "start_time": "2023-12-08T17:32:04.260280",
     "status": "completed"
    },
    "tags": []
   },
   "outputs": [
    {
     "name": "stdout",
     "output_type": "stream",
     "text": [
      "Epoch 1/20\n",
      "86/86 [==============================] - 19s 204ms/step - loss: 1.3145 - accuracy: 0.4259\n",
      "Epoch 2/20\n",
      "86/86 [==============================] - 18s 208ms/step - loss: 1.0628 - accuracy: 0.5749\n",
      "Epoch 3/20\n",
      "86/86 [==============================] - 18s 209ms/step - loss: 0.9507 - accuracy: 0.6294\n",
      "Epoch 4/20\n",
      "86/86 [==============================] - 18s 204ms/step - loss: 0.8800 - accuracy: 0.6610\n",
      "Epoch 5/20\n",
      "86/86 [==============================] - 18s 208ms/step - loss: 0.8544 - accuracy: 0.6839\n",
      "Epoch 6/20\n",
      "86/86 [==============================] - 18s 208ms/step - loss: 0.7951 - accuracy: 0.6879\n",
      "Epoch 7/20\n",
      "86/86 [==============================] - 18s 210ms/step - loss: 0.7604 - accuracy: 0.7089\n",
      "Epoch 8/20\n",
      "86/86 [==============================] - 17s 201ms/step - loss: 0.7247 - accuracy: 0.7238\n",
      "Epoch 9/20\n",
      "86/86 [==============================] - 18s 207ms/step - loss: 0.7118 - accuracy: 0.7275\n",
      "Epoch 10/20\n",
      "86/86 [==============================] - 17s 200ms/step - loss: 0.6894 - accuracy: 0.7326\n",
      "Epoch 11/20\n",
      "86/86 [==============================] - 18s 206ms/step - loss: 0.6652 - accuracy: 0.7522\n",
      "Epoch 12/20\n",
      "86/86 [==============================] - 17s 202ms/step - loss: 0.6365 - accuracy: 0.7547\n",
      "Epoch 13/20\n",
      "86/86 [==============================] - 17s 199ms/step - loss: 0.6502 - accuracy: 0.7467\n",
      "Epoch 14/20\n",
      "86/86 [==============================] - 17s 202ms/step - loss: 0.6162 - accuracy: 0.7616\n",
      "Epoch 15/20\n",
      "86/86 [==============================] - 17s 196ms/step - loss: 0.5997 - accuracy: 0.7714\n",
      "Epoch 16/20\n",
      "86/86 [==============================] - 17s 203ms/step - loss: 0.5819 - accuracy: 0.7707\n",
      "Epoch 17/20\n",
      "86/86 [==============================] - 17s 199ms/step - loss: 0.5557 - accuracy: 0.7907\n",
      "Epoch 18/20\n",
      "86/86 [==============================] - 18s 206ms/step - loss: 0.5321 - accuracy: 0.7951\n",
      "Epoch 19/20\n",
      "86/86 [==============================] - 17s 199ms/step - loss: 0.5380 - accuracy: 0.7885\n",
      "Epoch 20/20\n",
      "86/86 [==============================] - 18s 204ms/step - loss: 0.5072 - accuracy: 0.7991\n"
     ]
    },
    {
     "data": {
      "text/plain": [
       "<keras.src.callbacks.History at 0x78f29ce86380>"
      ]
     },
     "execution_count": 23,
     "metadata": {},
     "output_type": "execute_result"
    }
   ],
   "source": [
    "num_classes = 5\n",
    "\n",
    "model = Sequential([\n",
    "  data_augmentation,\n",
    "  layers.Conv2D(16, 3, padding='same', activation='relu'),\n",
    "  layers.MaxPooling2D(),\n",
    "  layers.Conv2D(32, 3, padding='same', activation='relu'),\n",
    "  layers.MaxPooling2D(),\n",
    "  layers.Conv2D(64, 3, padding='same', activation='relu'),\n",
    "  layers.MaxPooling2D(),\n",
    "  layers.Dropout(0.2),\n",
    "  layers.Flatten(),\n",
    "  layers.Dense(128, activation='relu'),\n",
    "  layers.Dense(num_classes)\n",
    "])\n",
    "\n",
    "model.compile(optimizer='adam',\n",
    "              loss=tf.keras.losses.SparseCategoricalCrossentropy(from_logits=True),\n",
    "              metrics=['accuracy'])\n",
    "              \n",
    "model.fit(x_train_scaled, y_train, epochs=20)  "
   ]
  },
  {
   "cell_type": "code",
   "execution_count": 24,
   "id": "a87c8077",
   "metadata": {
    "execution": {
     "iopub.execute_input": "2023-12-08T17:37:58.871247Z",
     "iopub.status.busy": "2023-12-08T17:37:58.870402Z",
     "iopub.status.idle": "2023-12-08T17:38:02.028735Z",
     "shell.execute_reply": "2023-12-08T17:38:02.026647Z"
    },
    "papermill": {
     "duration": 3.593832,
     "end_time": "2023-12-08T17:38:02.032125",
     "exception": false,
     "start_time": "2023-12-08T17:37:58.438293",
     "status": "completed"
    },
    "tags": []
   },
   "outputs": [
    {
     "name": "stdout",
     "output_type": "stream",
     "text": [
      "29/29 [==============================] - 1s 44ms/step - loss: 0.8493 - accuracy: 0.7113\n"
     ]
    },
    {
     "data": {
      "text/plain": [
       "[0.8493126034736633, 0.7113289833068848]"
      ]
     },
     "execution_count": 24,
     "metadata": {},
     "output_type": "execute_result"
    }
   ],
   "source": [
    "model.evaluate(x_test_scaled,y_test)"
   ]
  }
 ],
 "metadata": {
  "kaggle": {
   "accelerator": "none",
   "dataSources": [],
   "dockerImageVersionId": 30615,
   "isGpuEnabled": false,
   "isInternetEnabled": true,
   "language": "python",
   "sourceType": "notebook"
  },
  "kernelspec": {
   "display_name": "Python 3",
   "language": "python",
   "name": "python3"
  },
  "language_info": {
   "codemirror_mode": {
    "name": "ipython",
    "version": 3
   },
   "file_extension": ".py",
   "mimetype": "text/x-python",
   "name": "python",
   "nbconvert_exporter": "python",
   "pygments_lexer": "ipython3",
   "version": "3.10.12"
  },
  "papermill": {
   "default_parameters": {},
   "duration": 731.230086,
   "end_time": "2023-12-08T17:38:05.163706",
   "environment_variables": {},
   "exception": null,
   "input_path": "__notebook__.ipynb",
   "output_path": "__notebook__.ipynb",
   "parameters": {},
   "start_time": "2023-12-08T17:25:53.933620",
   "version": "2.4.0"
  }
 },
 "nbformat": 4,
 "nbformat_minor": 5
}
